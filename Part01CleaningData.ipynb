{
 "cells": [
  {
   "cell_type": "markdown",
   "metadata": {},
   "source": [
    "# Part 1: Data Wrangling"
   ]
  },
  {
   "cell_type": "markdown",
   "metadata": {},
   "source": [
    "## Introduction\n",
    "\n",
    "This project is a self-made end to end machine learning project in which I scrape a website called 'Jendela 360'. The scraped dataset is saved in a csv file named 'Apartment Data Raw'. The dataset contains the details of apartment units available to be rented in Jakarta and its surrouding (Jabodetabek region) on December 2nd, 2020. The data discussed here might not be up-to-date. \n",
    "\n",
    "Problem Statement of this project:\n",
    "\"Based on the scraped data of apartments in Jakarta and its surrounding, the writer aims to construct a machine learning model to predict the annual rent price of apartment units. If possible, the writer aims to find which feature/factors has the most immpact on an apartment unit's annual rent price.\"\n",
    "\n",
    "In the first notebook, we are going to load the raw dataset and conduct data wrangling to draw insights and clean the data. Our goal is to have a cleaned dataset at the end of this notebook, so we can use the cleaned data to create and test regression models in the second notebook.\n",
    "\n",
    "Last but not least, this project is non-profit and made for learning purposes only."
   ]
  },
  {
   "cell_type": "markdown",
   "metadata": {},
   "source": [
    "## Importing Packages"
   ]
  },
  {
   "cell_type": "code",
   "execution_count": 1,
   "metadata": {},
   "outputs": [],
   "source": [
    "# Essentials\n",
    "import numpy as np\n",
    "import pandas as pd\n",
    "import datetime\n",
    "import random\n",
    "\n",
    "# Plots\n",
    "import matplotlib.pyplot as plt\n",
    "import seaborn as sns\n",
    "%matplotlib inline"
   ]
  },
  {
   "cell_type": "markdown",
   "metadata": {},
   "source": [
    "## Importing Dataset"
   ]
  },
  {
   "cell_type": "code",
   "execution_count": 2,
   "metadata": {},
   "outputs": [
    {
     "data": {
      "text/html": [
       "<div>\n",
       "<style scoped>\n",
       "    .dataframe tbody tr th:only-of-type {\n",
       "        vertical-align: middle;\n",
       "    }\n",
       "\n",
       "    .dataframe tbody tr th {\n",
       "        vertical-align: top;\n",
       "    }\n",
       "\n",
       "    .dataframe thead th {\n",
       "        text-align: right;\n",
       "    }\n",
       "</style>\n",
       "<table border=\"1\" class=\"dataframe\">\n",
       "  <thead>\n",
       "    <tr style=\"text-align: right;\">\n",
       "      <th></th>\n",
       "      <th>Unnamed: 0</th>\n",
       "      <th>URL</th>\n",
       "      <th>Unit_Name</th>\n",
       "      <th>Unit_ID</th>\n",
       "      <th>Apt_Name</th>\n",
       "      <th>No_Rooms</th>\n",
       "      <th>Bathroom</th>\n",
       "      <th>Street</th>\n",
       "      <th>Locality</th>\n",
       "      <th>Region</th>\n",
       "      <th>...</th>\n",
       "      <th>Restaurant</th>\n",
       "      <th>Playground</th>\n",
       "      <th>Total_Facilities</th>\n",
       "      <th>Currency</th>\n",
       "      <th>Annual_Price</th>\n",
       "      <th>Monthly_Price</th>\n",
       "      <th>Deposit_Currency</th>\n",
       "      <th>Deposit_Charge</th>\n",
       "      <th>Service_Currency</th>\n",
       "      <th>Service_Charge</th>\n",
       "    </tr>\n",
       "  </thead>\n",
       "  <tbody>\n",
       "    <tr>\n",
       "      <th>0</th>\n",
       "      <td>0</td>\n",
       "      <td>https://jendela360.com/sewa-apartemen-tamansar...</td>\n",
       "      <td>Taman Sari Semanggi Apartment 1BR Tower A</td>\n",
       "      <td>tssb011</td>\n",
       "      <td>Tamansari Semanggi Apartment</td>\n",
       "      <td>1</td>\n",
       "      <td>1</td>\n",
       "      <td>Jalan Akri No.134, Kecamatan Setiabudi, Daera...</td>\n",
       "      <td>Semanggi</td>\n",
       "      <td>Jakarta Selatan</td>\n",
       "      <td>...</td>\n",
       "      <td>1</td>\n",
       "      <td>1</td>\n",
       "      <td>23</td>\n",
       "      <td>IDR</td>\n",
       "      <td>96000000</td>\n",
       "      <td>96000000</td>\n",
       "      <td>IDR</td>\n",
       "      <td>8000000</td>\n",
       "      <td>IDR</td>\n",
       "      <td>650000</td>\n",
       "    </tr>\n",
       "    <tr>\n",
       "      <th>1</th>\n",
       "      <td>1</td>\n",
       "      <td>https://jendela360.com/sewa-apartemen-puri-par...</td>\n",
       "      <td>Puri Park View Apartment 2BR Semi Furnished</td>\n",
       "      <td>ppvc072</td>\n",
       "      <td>Puri Park View Apartment</td>\n",
       "      <td>2</td>\n",
       "      <td>1</td>\n",
       "      <td>Jln Pesanggrahan No. 88, Meruya Utara, Kembang...</td>\n",
       "      <td>Kebon Jeruk</td>\n",
       "      <td>Jakarta Barat</td>\n",
       "      <td>...</td>\n",
       "      <td>1</td>\n",
       "      <td>1</td>\n",
       "      <td>19</td>\n",
       "      <td>IDR</td>\n",
       "      <td>30000000</td>\n",
       "      <td>30000000</td>\n",
       "      <td>IDR</td>\n",
       "      <td>5000000</td>\n",
       "      <td>IDR</td>\n",
       "      <td>500000</td>\n",
       "    </tr>\n",
       "    <tr>\n",
       "      <th>2</th>\n",
       "      <td>2</td>\n",
       "      <td>https://jendela360.com/sewa-apartemen-metro-pa...</td>\n",
       "      <td>Metro Park Residence 2BR Fully Furnished</td>\n",
       "      <td>mprc040</td>\n",
       "      <td>Metro Park Residence</td>\n",
       "      <td>2</td>\n",
       "      <td>1</td>\n",
       "      <td>Jl Pilar Mas Utama Raya Kav. 28, Kebon Jeruk, ...</td>\n",
       "      <td>Kedoya</td>\n",
       "      <td>Jakarta Barat</td>\n",
       "      <td>...</td>\n",
       "      <td>1</td>\n",
       "      <td>1</td>\n",
       "      <td>22</td>\n",
       "      <td>IDR</td>\n",
       "      <td>70000000</td>\n",
       "      <td>70000000</td>\n",
       "      <td>IDR</td>\n",
       "      <td>5900000</td>\n",
       "      <td>IDR</td>\n",
       "      <td>880000</td>\n",
       "    </tr>\n",
       "    <tr>\n",
       "      <th>3</th>\n",
       "      <td>3</td>\n",
       "      <td>https://jendela360.com/sewa-apartemen-pondok-i...</td>\n",
       "      <td>Pondok Indah Golf Apartment 2BR View Golf Area</td>\n",
       "      <td>ponf003</td>\n",
       "      <td>Pondok Indah Golf Apartment</td>\n",
       "      <td>2</td>\n",
       "      <td>2</td>\n",
       "      <td>Jl. Metro Kencana IV, Pondok Pinang, Kebayoran...</td>\n",
       "      <td>Pondok Indah</td>\n",
       "      <td>Jakarta Selatan</td>\n",
       "      <td>...</td>\n",
       "      <td>1</td>\n",
       "      <td>1</td>\n",
       "      <td>24</td>\n",
       "      <td>IDR</td>\n",
       "      <td>576000000</td>\n",
       "      <td>576000000</td>\n",
       "      <td>IDR</td>\n",
       "      <td>48000000</td>\n",
       "      <td>NaN</td>\n",
       "      <td>NaN</td>\n",
       "    </tr>\n",
       "    <tr>\n",
       "      <th>4</th>\n",
       "      <td>4</td>\n",
       "      <td>https://jendela360.com/sewa-apartemen-season-c...</td>\n",
       "      <td>Season City Apartment 2BR Tower C</td>\n",
       "      <td>sscc039</td>\n",
       "      <td>Season City Apartment</td>\n",
       "      <td>2</td>\n",
       "      <td>1</td>\n",
       "      <td>JL. Latumenten Raya, No. 33, Grogol, Jakarta B...</td>\n",
       "      <td>Grogol</td>\n",
       "      <td>Jakarta Barat</td>\n",
       "      <td>...</td>\n",
       "      <td>1</td>\n",
       "      <td>1</td>\n",
       "      <td>15</td>\n",
       "      <td>IDR</td>\n",
       "      <td>32000000</td>\n",
       "      <td>32000000</td>\n",
       "      <td>IDR</td>\n",
       "      <td>2700000</td>\n",
       "      <td>IDR</td>\n",
       "      <td>720000</td>\n",
       "    </tr>\n",
       "  </tbody>\n",
       "</table>\n",
       "<p>5 rows × 48 columns</p>\n",
       "</div>"
      ],
      "text/plain": [
       "   Unnamed: 0                                                URL  \\\n",
       "0           0  https://jendela360.com/sewa-apartemen-tamansar...   \n",
       "1           1  https://jendela360.com/sewa-apartemen-puri-par...   \n",
       "2           2  https://jendela360.com/sewa-apartemen-metro-pa...   \n",
       "3           3  https://jendela360.com/sewa-apartemen-pondok-i...   \n",
       "4           4  https://jendela360.com/sewa-apartemen-season-c...   \n",
       "\n",
       "                                        Unit_Name  Unit_ID  \\\n",
       "0       Taman Sari Semanggi Apartment 1BR Tower A  tssb011   \n",
       "1     Puri Park View Apartment 2BR Semi Furnished  ppvc072   \n",
       "2        Metro Park Residence 2BR Fully Furnished  mprc040   \n",
       "3  Pondok Indah Golf Apartment 2BR View Golf Area  ponf003   \n",
       "4               Season City Apartment 2BR Tower C  sscc039   \n",
       "\n",
       "                       Apt_Name No_Rooms Bathroom  \\\n",
       "0  Tamansari Semanggi Apartment        1        1   \n",
       "1      Puri Park View Apartment        2        1   \n",
       "2          Metro Park Residence        2        1   \n",
       "3   Pondok Indah Golf Apartment        2        2   \n",
       "4         Season City Apartment        2        1   \n",
       "\n",
       "                                              Street      Locality  \\\n",
       "0   Jalan Akri No.134, Kecamatan Setiabudi, Daera...      Semanggi   \n",
       "1  Jln Pesanggrahan No. 88, Meruya Utara, Kembang...   Kebon Jeruk   \n",
       "2  Jl Pilar Mas Utama Raya Kav. 28, Kebon Jeruk, ...        Kedoya   \n",
       "3  Jl. Metro Kencana IV, Pondok Pinang, Kebayoran...  Pondok Indah   \n",
       "4  JL. Latumenten Raya, No. 33, Grogol, Jakarta B...        Grogol   \n",
       "\n",
       "            Region  ... Restaurant Playground Total_Facilities Currency  \\\n",
       "0  Jakarta Selatan  ...          1          1               23      IDR   \n",
       "1    Jakarta Barat  ...          1          1               19      IDR   \n",
       "2    Jakarta Barat  ...          1          1               22      IDR   \n",
       "3  Jakarta Selatan  ...          1          1               24      IDR   \n",
       "4    Jakarta Barat  ...          1          1               15      IDR   \n",
       "\n",
       "  Annual_Price Monthly_Price Deposit_Currency Deposit_Charge Service_Currency  \\\n",
       "0     96000000      96000000              IDR        8000000              IDR   \n",
       "1     30000000      30000000              IDR        5000000              IDR   \n",
       "2     70000000      70000000              IDR        5900000              IDR   \n",
       "3    576000000     576000000              IDR       48000000              NaN   \n",
       "4     32000000      32000000              IDR        2700000              IDR   \n",
       "\n",
       "  Service_Charge  \n",
       "0         650000  \n",
       "1         500000  \n",
       "2         880000  \n",
       "3            NaN  \n",
       "4         720000  \n",
       "\n",
       "[5 rows x 48 columns]"
      ]
     },
     "execution_count": 2,
     "metadata": {},
     "output_type": "execute_result"
    }
   ],
   "source": [
    "raw_df = pd.read_csv('Web Scraping/Apartment Dataset Raw.csv')\n",
    "#We are going to save the unaltered dataset as raw_df, and use the dataframe 'df' to do the next data wrangling operations\n",
    "\n",
    "df = raw_df\n",
    "df.head()"
   ]
  },
  {
   "cell_type": "code",
   "execution_count": 3,
   "metadata": {},
   "outputs": [],
   "source": [
    "df = df.rename({'Unnamed: 0' : 'Index'}, axis = 'columns')"
   ]
  },
  {
   "cell_type": "markdown",
   "metadata": {},
   "source": [
    "## Data Cleaning"
   ]
  },
  {
   "cell_type": "markdown",
   "metadata": {},
   "source": [
    "### Raw Data Shape and Column Description"
   ]
  },
  {
   "cell_type": "code",
   "execution_count": 4,
   "metadata": {},
   "outputs": [
    {
     "name": "stdout",
     "output_type": "stream",
     "text": [
      "Index(['Index', 'URL', 'Unit_Name', 'Unit_ID', 'Apt_Name', 'No_Rooms',\n",
      "       'Bathroom', 'Street', 'Locality', 'Region', 'Longitude', 'Latitude',\n",
      "       'Furnished', 'Area', 'Floor', 'Tower', 'AC', 'Water_Heater',\n",
      "       'Dining_Set', 'Electricity', 'Bed', 'Access_Card', 'Kitchen', 'Fridge',\n",
      "       'Washing_Machine', 'TV', 'ATM', 'TV_Cable', 'Grocery', 'Internet',\n",
      "       'Swim_Pool', 'Laundry', 'Security', 'Basketball', 'Multipurpose_Room',\n",
      "       'Gym', 'Jogging', 'Tennis', 'Restaurant', 'Playground',\n",
      "       'Total_Facilities', 'Currency', 'Annual_Price', 'Monthly_Price',\n",
      "       'Deposit_Currency', 'Deposit_Charge', 'Service_Currency',\n",
      "       'Service_Charge'],\n",
      "      dtype='object')\n"
     ]
    }
   ],
   "source": [
    "print(df.columns)"
   ]
  },
  {
   "cell_type": "code",
   "execution_count": 5,
   "metadata": {},
   "outputs": [
    {
     "data": {
      "text/plain": [
       "(5331, 48)"
      ]
     },
     "execution_count": 5,
     "metadata": {},
     "output_type": "execute_result"
    }
   ],
   "source": [
    "df.shape"
   ]
  },
  {
   "cell_type": "markdown",
   "metadata": {},
   "source": [
    "Each row represents a unique unit of apartment which was displayed on Jendela 360 for rent on 18th October 2020. We have 5339 rows and 47 columns. The columns represent various characteristics of each unit, and is described as follows.\n",
    "\n",
    "The following columns describe the identification data of each unit (location, name, etc).\n",
    "* Index: the index of each row (self-ecplanatory) starting at 0.\n",
    "* URL: the URL each apartment unit page on Jendela 360 website.\n",
    "* Unit_Name: the apartment unit name on its page.\n",
    "* Unit_ID: the ID of each page (the last seven characters of the URL). Unique for each apartment unit.\n",
    "* Apt_Name: the apartment building name of the unit. \n",
    "* Street: the street address of the unit.\n",
    "* Locality: the local district of the unit.\n",
    "* Region: the city of the unit.\n",
    "* Longitude and Latitude: the geographical longitude and latitude coordinate of the unit\n",
    "* Floor: the floor location of the unit.\n",
    "* Tower: the name of the tower in which the unit is located in.\n",
    "\n",
    "The following columns describe the facilities of each apartment unit. The two columns which houses numerical (quantitative) data about each apartment unit's facilities are:\n",
    "* No_Rooms: the number of bedrooms in each apartment unit.\n",
    "* Area: the area in meter suqared of each apartment unit.\n",
    "\n",
    "The other columns which describe the facilities of each unit are categorical in nature. The value of each column is '1' if the facility is present, and '0' if the facility is not present. These columns are:\n",
    "* Furnished (1 represents that the unit is fully furnished, and vice versa)\n",
    "* AC\n",
    "* Water_Heater\n",
    "* Dining_Set\n",
    "* Electricity \n",
    "* Bed\n",
    "* Access_Card\n",
    "* Kitchen\n",
    "* Fridge\n",
    "* Washing_Machine\n",
    "* TV\n",
    "* ATM\n",
    "* TV_Cable\n",
    "* Grocery \n",
    "* Internet\n",
    "* Swim_Pool (swimming pool)\n",
    "* Laundry\n",
    "* Security\n",
    "* Basketball (basketball field)\n",
    "* Multipurpose_room\n",
    "* Gym\n",
    "* Jogging (jogging track)\n",
    "* Tennis (tennis field)\n",
    "* Restaurant\n",
    "* Playground\n",
    "\n",
    "The following columns describe the fee of each unit. The only fee that each apartment has is the annual rent price. Not all apartment units are available to be rented on a monthly term. There are also cases where the deposit and service charges are not listed. Furthermore, it will be very easy to predict the annual price if we know the monthly price, as we just need to multiply it by 12. That's why we are going to remove every fee column in the dataset and only take the annual rent price (in rupiah) as the dependent variable of our model.\n",
    "\n",
    "* Currency: the currency unit of the listed price.\n",
    "* Monthly_Price: the monthly payment fee if the tenant wishes to rent it on monthly term.\n",
    "* Annual_Price: the annual payment fee if the tenant wishes to rent it on yearly term.\n",
    "* Deposit_Currency: the currency unit of the listed deposit charge.\n",
    "* Deposit_Charge: the initial deposit charge.\n",
    "* Service_Currency: the currency unit of the service charge.\n",
    "* Service_Charge: the service charge of the unit."
   ]
  },
  {
   "cell_type": "markdown",
   "metadata": {},
   "source": [
    "### Omiting ERROR Rows\n",
    "\n",
    "The web scraper uses a ```try:...except:``` block to keep on reading and scraping new pages even if the current iteration raises an error. This is done so the scraping process could be automated, and if a web page raises an error, we don't have to restart the scraping process from the beginning again. If a page raises an error, the whole row (except the URL) will be filled with the string 'ERROR'. The best way to find 'ERROR' rows is to find which rows that have an 'ERROR' Apt_Name column, as that is the features that exists in all apartment unit web pages.\n",
    "\n",
    "In this step, we are going to remove all 'ERROR' rows."
   ]
  },
  {
   "cell_type": "code",
   "execution_count": 6,
   "metadata": {},
   "outputs": [
    {
     "data": {
      "text/plain": [
       "(5331, 48)"
      ]
     },
     "execution_count": 6,
     "metadata": {},
     "output_type": "execute_result"
    }
   ],
   "source": [
    "df.shape"
   ]
  },
  {
   "cell_type": "code",
   "execution_count": 7,
   "metadata": {},
   "outputs": [],
   "source": [
    "df = df[df.Apt_Name != 'ERROR']"
   ]
  },
  {
   "cell_type": "code",
   "execution_count": 8,
   "metadata": {},
   "outputs": [
    {
     "data": {
      "text/plain": [
       "(5293, 48)"
      ]
     },
     "execution_count": 8,
     "metadata": {},
     "output_type": "execute_result"
    }
   ],
   "source": [
    "df = df.reset_index(drop = True, inplace=False)\n",
    "df.shape"
   ]
  },
  {
   "cell_type": "markdown",
   "metadata": {},
   "source": [
    "We can see that there are 18 rows which are omitted. These rows are the 'ERROR' rows."
   ]
  },
  {
   "cell_type": "markdown",
   "metadata": {},
   "source": [
    "### Identifying the Dependent/Outcome Variable"
   ]
  },
  {
   "cell_type": "markdown",
   "metadata": {},
   "source": [
    "Referring to the initial problem statement of this project, we hereby decide that the annual rent price of the apartment will be our dependent variable for the regression model. Furthermore, we should not look at the values from monthly price, deposit charge, and service charge, as we would like to predict the annual rent price only using the apartment unit's identification data (location) and facilities. \n",
    "\n",
    "After deciding which variable will be our outcome variable, we should make sure that the annual price data is in the same currency unit. If the currency of the annual rent price is in dollars, we have to convert it to Rupiah.\n",
    "\n",
    "The assumption used is that 1 USD = 14,700 IDR."
   ]
  },
  {
   "cell_type": "code",
   "execution_count": 9,
   "metadata": {},
   "outputs": [
    {
     "data": {
      "text/plain": [
       "IDR    5241\n",
       "USD      52\n",
       "Name: Currency, dtype: int64"
      ]
     },
     "execution_count": 9,
     "metadata": {},
     "output_type": "execute_result"
    }
   ],
   "source": [
    "df.Currency.value_counts()"
   ]
  },
  {
   "cell_type": "markdown",
   "metadata": {},
   "source": [
    "We see that there are 5200 apartment unit rent prices which are listed in Rupiah, 57 prices which are listed in US Dollars. We need to convert the price of these 57 apartment units from USD to IDR. To convert it, we need to multiply the Annual_Price value by 14700 if the value of Currency equals to 'USD'. However, before doing any of that, we need to make sure that the values in Annual_Price columns are read as numbers by pandas. "
   ]
  },
  {
   "cell_type": "code",
   "execution_count": 10,
   "metadata": {},
   "outputs": [
    {
     "data": {
      "text/plain": [
       "0        96000000\n",
       "1        30000000\n",
       "2        70000000\n",
       "3       576000000\n",
       "4        32000000\n",
       "          ...    \n",
       "5288     36000000\n",
       "5289     60000000\n",
       "5290    250000000\n",
       "5291    108000000\n",
       "5292    108000000\n",
       "Name: Annual_Price, Length: 5293, dtype: object"
      ]
     },
     "execution_count": 10,
     "metadata": {},
     "output_type": "execute_result"
    }
   ],
   "source": [
    "df.Annual_Price"
   ]
  },
  {
   "cell_type": "markdown",
   "metadata": {},
   "source": [
    "As we can see, the 'Annual_Price' has the data type of object. This means we need to convert it to float first, before multiplying it by 14700 if it is in USD to convert it properly. "
   ]
  },
  {
   "cell_type": "code",
   "execution_count": 11,
   "metadata": {},
   "outputs": [
    {
     "name": "stdout",
     "output_type": "stream",
     "text": [
      "52\n"
     ]
    }
   ],
   "source": [
    "Rupiah_Annual_Price = list()\n",
    "currency_changed = 0\n",
    "for i, price in enumerate(df.Annual_Price):\n",
    "    if df.Currency[i] == 'USD':\n",
    "        Rupiah_Annual_Price.append(float(price)*14700)\n",
    "        currency_changed += 1\n",
    "    else:\n",
    "        Rupiah_Annual_Price.append(float(price))\n",
    "        \n",
    "df['Rupiah_Annual_Price'] = Rupiah_Annual_Price\n",
    "print(currency_changed)"
   ]
  },
  {
   "cell_type": "markdown",
   "metadata": {},
   "source": [
    "The currency_changed counter is used to tell us how many currency conversion has been done, and we are glad to see that there are 57 currency conversions, which is the same number of 'USD' occurences in the 'Currency' column of our dataset.\n",
    "\n",
    "Next, we are going to remove the columns which are no longer needed ('Currency', 'Annual_Price' 'Monthly_Price', 'Deposit_Currency', 'Deposit_Charge', 'Service_Currency', 'Service_Charge'). \n",
    "\n",
    "We are then renaming the 'Rupiah_Annual_Price' to 'AnnualPrice'."
   ]
  },
  {
   "cell_type": "code",
   "execution_count": 12,
   "metadata": {},
   "outputs": [],
   "source": [
    "df = df.drop(['Currency', 'Annual_Price', 'Monthly_Price', 'Deposit_Currency', 'Deposit_Charge', 'Service_Currency', \n",
    "              'Service_Charge'], axis = 'columns')\n",
    "df = df.rename({'Rupiah_Annual_Price':'AnnualPrice'}, axis = 'columns')"
   ]
  },
  {
   "cell_type": "code",
   "execution_count": 13,
   "metadata": {},
   "outputs": [
    {
     "data": {
      "text/html": [
       "<div>\n",
       "<style scoped>\n",
       "    .dataframe tbody tr th:only-of-type {\n",
       "        vertical-align: middle;\n",
       "    }\n",
       "\n",
       "    .dataframe tbody tr th {\n",
       "        vertical-align: top;\n",
       "    }\n",
       "\n",
       "    .dataframe thead th {\n",
       "        text-align: right;\n",
       "    }\n",
       "</style>\n",
       "<table border=\"1\" class=\"dataframe\">\n",
       "  <thead>\n",
       "    <tr style=\"text-align: right;\">\n",
       "      <th></th>\n",
       "      <th>Index</th>\n",
       "      <th>URL</th>\n",
       "      <th>Unit_Name</th>\n",
       "      <th>Unit_ID</th>\n",
       "      <th>Apt_Name</th>\n",
       "      <th>No_Rooms</th>\n",
       "      <th>Bathroom</th>\n",
       "      <th>Street</th>\n",
       "      <th>Locality</th>\n",
       "      <th>Region</th>\n",
       "      <th>...</th>\n",
       "      <th>Security</th>\n",
       "      <th>Basketball</th>\n",
       "      <th>Multipurpose_Room</th>\n",
       "      <th>Gym</th>\n",
       "      <th>Jogging</th>\n",
       "      <th>Tennis</th>\n",
       "      <th>Restaurant</th>\n",
       "      <th>Playground</th>\n",
       "      <th>Total_Facilities</th>\n",
       "      <th>AnnualPrice</th>\n",
       "    </tr>\n",
       "  </thead>\n",
       "  <tbody>\n",
       "    <tr>\n",
       "      <th>0</th>\n",
       "      <td>0</td>\n",
       "      <td>https://jendela360.com/sewa-apartemen-tamansar...</td>\n",
       "      <td>Taman Sari Semanggi Apartment 1BR Tower A</td>\n",
       "      <td>tssb011</td>\n",
       "      <td>Tamansari Semanggi Apartment</td>\n",
       "      <td>1</td>\n",
       "      <td>1</td>\n",
       "      <td>Jalan Akri No.134, Kecamatan Setiabudi, Daera...</td>\n",
       "      <td>Semanggi</td>\n",
       "      <td>Jakarta Selatan</td>\n",
       "      <td>...</td>\n",
       "      <td>1</td>\n",
       "      <td>1</td>\n",
       "      <td>1</td>\n",
       "      <td>1</td>\n",
       "      <td>1</td>\n",
       "      <td>1</td>\n",
       "      <td>1</td>\n",
       "      <td>1</td>\n",
       "      <td>23</td>\n",
       "      <td>96000000.0</td>\n",
       "    </tr>\n",
       "    <tr>\n",
       "      <th>1</th>\n",
       "      <td>1</td>\n",
       "      <td>https://jendela360.com/sewa-apartemen-puri-par...</td>\n",
       "      <td>Puri Park View Apartment 2BR Semi Furnished</td>\n",
       "      <td>ppvc072</td>\n",
       "      <td>Puri Park View Apartment</td>\n",
       "      <td>2</td>\n",
       "      <td>1</td>\n",
       "      <td>Jln Pesanggrahan No. 88, Meruya Utara, Kembang...</td>\n",
       "      <td>Kebon Jeruk</td>\n",
       "      <td>Jakarta Barat</td>\n",
       "      <td>...</td>\n",
       "      <td>1</td>\n",
       "      <td>0</td>\n",
       "      <td>1</td>\n",
       "      <td>1</td>\n",
       "      <td>1</td>\n",
       "      <td>0</td>\n",
       "      <td>1</td>\n",
       "      <td>1</td>\n",
       "      <td>19</td>\n",
       "      <td>30000000.0</td>\n",
       "    </tr>\n",
       "    <tr>\n",
       "      <th>2</th>\n",
       "      <td>2</td>\n",
       "      <td>https://jendela360.com/sewa-apartemen-metro-pa...</td>\n",
       "      <td>Metro Park Residence 2BR Fully Furnished</td>\n",
       "      <td>mprc040</td>\n",
       "      <td>Metro Park Residence</td>\n",
       "      <td>2</td>\n",
       "      <td>1</td>\n",
       "      <td>Jl Pilar Mas Utama Raya Kav. 28, Kebon Jeruk, ...</td>\n",
       "      <td>Kedoya</td>\n",
       "      <td>Jakarta Barat</td>\n",
       "      <td>...</td>\n",
       "      <td>1</td>\n",
       "      <td>0</td>\n",
       "      <td>1</td>\n",
       "      <td>1</td>\n",
       "      <td>1</td>\n",
       "      <td>0</td>\n",
       "      <td>1</td>\n",
       "      <td>1</td>\n",
       "      <td>22</td>\n",
       "      <td>70000000.0</td>\n",
       "    </tr>\n",
       "    <tr>\n",
       "      <th>3</th>\n",
       "      <td>3</td>\n",
       "      <td>https://jendela360.com/sewa-apartemen-pondok-i...</td>\n",
       "      <td>Pondok Indah Golf Apartment 2BR View Golf Area</td>\n",
       "      <td>ponf003</td>\n",
       "      <td>Pondok Indah Golf Apartment</td>\n",
       "      <td>2</td>\n",
       "      <td>2</td>\n",
       "      <td>Jl. Metro Kencana IV, Pondok Pinang, Kebayoran...</td>\n",
       "      <td>Pondok Indah</td>\n",
       "      <td>Jakarta Selatan</td>\n",
       "      <td>...</td>\n",
       "      <td>1</td>\n",
       "      <td>1</td>\n",
       "      <td>1</td>\n",
       "      <td>1</td>\n",
       "      <td>1</td>\n",
       "      <td>1</td>\n",
       "      <td>1</td>\n",
       "      <td>1</td>\n",
       "      <td>24</td>\n",
       "      <td>576000000.0</td>\n",
       "    </tr>\n",
       "    <tr>\n",
       "      <th>4</th>\n",
       "      <td>4</td>\n",
       "      <td>https://jendela360.com/sewa-apartemen-season-c...</td>\n",
       "      <td>Season City Apartment 2BR Tower C</td>\n",
       "      <td>sscc039</td>\n",
       "      <td>Season City Apartment</td>\n",
       "      <td>2</td>\n",
       "      <td>1</td>\n",
       "      <td>JL. Latumenten Raya, No. 33, Grogol, Jakarta B...</td>\n",
       "      <td>Grogol</td>\n",
       "      <td>Jakarta Barat</td>\n",
       "      <td>...</td>\n",
       "      <td>1</td>\n",
       "      <td>0</td>\n",
       "      <td>1</td>\n",
       "      <td>1</td>\n",
       "      <td>0</td>\n",
       "      <td>0</td>\n",
       "      <td>1</td>\n",
       "      <td>1</td>\n",
       "      <td>15</td>\n",
       "      <td>32000000.0</td>\n",
       "    </tr>\n",
       "  </tbody>\n",
       "</table>\n",
       "<p>5 rows × 42 columns</p>\n",
       "</div>"
      ],
      "text/plain": [
       "   Index                                                URL  \\\n",
       "0      0  https://jendela360.com/sewa-apartemen-tamansar...   \n",
       "1      1  https://jendela360.com/sewa-apartemen-puri-par...   \n",
       "2      2  https://jendela360.com/sewa-apartemen-metro-pa...   \n",
       "3      3  https://jendela360.com/sewa-apartemen-pondok-i...   \n",
       "4      4  https://jendela360.com/sewa-apartemen-season-c...   \n",
       "\n",
       "                                        Unit_Name  Unit_ID  \\\n",
       "0       Taman Sari Semanggi Apartment 1BR Tower A  tssb011   \n",
       "1     Puri Park View Apartment 2BR Semi Furnished  ppvc072   \n",
       "2        Metro Park Residence 2BR Fully Furnished  mprc040   \n",
       "3  Pondok Indah Golf Apartment 2BR View Golf Area  ponf003   \n",
       "4               Season City Apartment 2BR Tower C  sscc039   \n",
       "\n",
       "                       Apt_Name No_Rooms Bathroom  \\\n",
       "0  Tamansari Semanggi Apartment        1        1   \n",
       "1      Puri Park View Apartment        2        1   \n",
       "2          Metro Park Residence        2        1   \n",
       "3   Pondok Indah Golf Apartment        2        2   \n",
       "4         Season City Apartment        2        1   \n",
       "\n",
       "                                              Street      Locality  \\\n",
       "0   Jalan Akri No.134, Kecamatan Setiabudi, Daera...      Semanggi   \n",
       "1  Jln Pesanggrahan No. 88, Meruya Utara, Kembang...   Kebon Jeruk   \n",
       "2  Jl Pilar Mas Utama Raya Kav. 28, Kebon Jeruk, ...        Kedoya   \n",
       "3  Jl. Metro Kencana IV, Pondok Pinang, Kebayoran...  Pondok Indah   \n",
       "4  JL. Latumenten Raya, No. 33, Grogol, Jakarta B...        Grogol   \n",
       "\n",
       "            Region  ... Security Basketball Multipurpose_Room Gym Jogging  \\\n",
       "0  Jakarta Selatan  ...        1          1                 1   1       1   \n",
       "1    Jakarta Barat  ...        1          0                 1   1       1   \n",
       "2    Jakarta Barat  ...        1          0                 1   1       1   \n",
       "3  Jakarta Selatan  ...        1          1                 1   1       1   \n",
       "4    Jakarta Barat  ...        1          0                 1   1       0   \n",
       "\n",
       "  Tennis Restaurant Playground Total_Facilities  AnnualPrice  \n",
       "0      1          1          1               23   96000000.0  \n",
       "1      0          1          1               19   30000000.0  \n",
       "2      0          1          1               22   70000000.0  \n",
       "3      1          1          1               24  576000000.0  \n",
       "4      0          1          1               15   32000000.0  \n",
       "\n",
       "[5 rows x 42 columns]"
      ]
     },
     "execution_count": 13,
     "metadata": {},
     "output_type": "execute_result"
    }
   ],
   "source": [
    "df.head()"
   ]
  },
  {
   "cell_type": "markdown",
   "metadata": {},
   "source": [
    "## Exploratory Data Analysis"
   ]
  },
  {
   "cell_type": "code",
   "execution_count": 14,
   "metadata": {},
   "outputs": [
    {
     "data": {
      "text/plain": [
       "Index(['Index', 'URL', 'Unit_Name', 'Unit_ID', 'Apt_Name', 'No_Rooms',\n",
       "       'Bathroom', 'Street', 'Locality', 'Region', 'Longitude', 'Latitude',\n",
       "       'Furnished', 'Area', 'Floor', 'Tower', 'AC', 'Water_Heater',\n",
       "       'Dining_Set', 'Electricity', 'Bed', 'Access_Card', 'Kitchen', 'Fridge',\n",
       "       'Washing_Machine', 'TV', 'ATM', 'TV_Cable', 'Grocery', 'Internet',\n",
       "       'Swim_Pool', 'Laundry', 'Security', 'Basketball', 'Multipurpose_Room',\n",
       "       'Gym', 'Jogging', 'Tennis', 'Restaurant', 'Playground',\n",
       "       'Total_Facilities', 'AnnualPrice'],\n",
       "      dtype='object')"
      ]
     },
     "execution_count": 14,
     "metadata": {},
     "output_type": "execute_result"
    }
   ],
   "source": [
    "df.columns"
   ]
  },
  {
   "cell_type": "markdown",
   "metadata": {},
   "source": [
    "In this step, we are going to do some data exploration to gain more insights on our dataset. First, we'll drop columns which we think might not be insightful for our model. We'll drop the 'Street' and 'Tower' column as it's quite difficult to parse and does not supply us with any insightful information. The 'Street' column is irrelevant as we have 'Locality', 'Region', as well as 'Longitude' & 'Latitude' column to draw geospatial insights form. The 'Tower' column is dropped because it's the name of the tower of each unit, and each apartment complex has different tower names. We suspect that the 'Unit_Name' and 'Apt_Name' might be dropped too, but we'll inspect them in a little bit to see if there are any insights we can draw from those columns. \n",
    "\n",
    "Note: We'll keep the 'URL' and 'Unit_ID' until we finish exploring the data in case we want to check on specific apartment units."
   ]
  },
  {
   "cell_type": "code",
   "execution_count": 15,
   "metadata": {},
   "outputs": [],
   "source": [
    "df = df.drop(['Street', 'Tower'], axis = 'columns')"
   ]
  },
  {
   "cell_type": "markdown",
   "metadata": {},
   "source": [
    "Next, we are going to inspect the 'Unit_Name' and 'Apt_Name' columns."
   ]
  },
  {
   "cell_type": "code",
   "execution_count": 16,
   "metadata": {},
   "outputs": [
    {
     "data": {
      "text/html": [
       "<div>\n",
       "<style scoped>\n",
       "    .dataframe tbody tr th:only-of-type {\n",
       "        vertical-align: middle;\n",
       "    }\n",
       "\n",
       "    .dataframe tbody tr th {\n",
       "        vertical-align: top;\n",
       "    }\n",
       "\n",
       "    .dataframe thead th {\n",
       "        text-align: right;\n",
       "    }\n",
       "</style>\n",
       "<table border=\"1\" class=\"dataframe\">\n",
       "  <thead>\n",
       "    <tr style=\"text-align: right;\">\n",
       "      <th></th>\n",
       "      <th>Apt_Name</th>\n",
       "      <th>Unit_Name</th>\n",
       "    </tr>\n",
       "  </thead>\n",
       "  <tbody>\n",
       "    <tr>\n",
       "      <th>0</th>\n",
       "      <td>Tamansari Semanggi Apartment</td>\n",
       "      <td>Taman Sari Semanggi Apartment 1BR Tower A</td>\n",
       "    </tr>\n",
       "    <tr>\n",
       "      <th>1</th>\n",
       "      <td>Puri Park View Apartment</td>\n",
       "      <td>Puri Park View Apartment 2BR Semi Furnished</td>\n",
       "    </tr>\n",
       "    <tr>\n",
       "      <th>2</th>\n",
       "      <td>Metro Park Residence</td>\n",
       "      <td>Metro Park Residence 2BR Fully Furnished</td>\n",
       "    </tr>\n",
       "    <tr>\n",
       "      <th>3</th>\n",
       "      <td>Pondok Indah Golf Apartment</td>\n",
       "      <td>Pondok Indah Golf Apartment 2BR View Golf Area</td>\n",
       "    </tr>\n",
       "    <tr>\n",
       "      <th>4</th>\n",
       "      <td>Season City Apartment</td>\n",
       "      <td>Season City Apartment 2BR Tower C</td>\n",
       "    </tr>\n",
       "  </tbody>\n",
       "</table>\n",
       "</div>"
      ],
      "text/plain": [
       "                       Apt_Name  \\\n",
       "0  Tamansari Semanggi Apartment   \n",
       "1      Puri Park View Apartment   \n",
       "2          Metro Park Residence   \n",
       "3   Pondok Indah Golf Apartment   \n",
       "4         Season City Apartment   \n",
       "\n",
       "                                        Unit_Name  \n",
       "0       Taman Sari Semanggi Apartment 1BR Tower A  \n",
       "1     Puri Park View Apartment 2BR Semi Furnished  \n",
       "2        Metro Park Residence 2BR Fully Furnished  \n",
       "3  Pondok Indah Golf Apartment 2BR View Golf Area  \n",
       "4               Season City Apartment 2BR Tower C  "
      ]
     },
     "execution_count": 16,
     "metadata": {},
     "output_type": "execute_result"
    }
   ],
   "source": [
    "df[['Apt_Name', 'Unit_Name']].head()"
   ]
  },
  {
   "cell_type": "markdown",
   "metadata": {},
   "source": [
    "It seems that the 'Apt_Name' column just indicates the overall name of our Apartment complex, while the 'Unit_Name' mentions the number of bedrooms, and in some case, the furnished status of the apartment. Interestingly, the furnished status in 'Unit_Name' are divided into three levels: 'Non Furnished', 'Semi Furnished', and 'Fully Furnished'. However, in our 'Furnished' column, there are only two levels: 'Non Furnished' and 'Fully Furnished'.\n",
    "\n",
    "We can add a new level to our 'Furnished' feature by creating a 'Semi Furnished' level if the 'Unit_Name' of a particular row has the word 'semi' in it. We'll create a new column called 'FurnishedNew' for this feature."
   ]
  },
  {
   "cell_type": "code",
   "execution_count": 17,
   "metadata": {},
   "outputs": [],
   "source": [
    "FurnishedNew = list()\n",
    "for i in range(len(df['Index'])):\n",
    "    if df.Furnished[i] == '1':\n",
    "        FurnishedNew.append('Full')\n",
    "    elif df.Furnished[i] == '0':\n",
    "        if 'semi' in df.Unit_Name[i].lower():\n",
    "            FurnishedNew.append('Semi')\n",
    "        else:\n",
    "            FurnishedNew.append('Non')\n",
    "df['FurnishedNew'] = FurnishedNew"
   ]
  },
  {
   "cell_type": "code",
   "execution_count": 18,
   "metadata": {},
   "outputs": [
    {
     "data": {
      "text/plain": [
       "Full    4441\n",
       "Non      686\n",
       "Semi     166\n",
       "Name: FurnishedNew, dtype: int64"
      ]
     },
     "execution_count": 18,
     "metadata": {},
     "output_type": "execute_result"
    }
   ],
   "source": [
    "df.FurnishedNew.value_counts()"
   ]
  },
  {
   "cell_type": "markdown",
   "metadata": {},
   "source": [
    "We'll see if this new feature is better than the existing 'Furnished' column. If this feature makes the model worse, then we'll simply use the two level 'Furnished' feature. We'll then drop the 'Apt_Name' and 'Unit_Name' column."
   ]
  },
  {
   "cell_type": "code",
   "execution_count": 19,
   "metadata": {},
   "outputs": [],
   "source": [
    "df = df.drop(['Unit_Name', 'Apt_Name'], axis = 'columns')"
   ]
  },
  {
   "cell_type": "code",
   "execution_count": 20,
   "metadata": {},
   "outputs": [
    {
     "data": {
      "text/html": [
       "<div>\n",
       "<style scoped>\n",
       "    .dataframe tbody tr th:only-of-type {\n",
       "        vertical-align: middle;\n",
       "    }\n",
       "\n",
       "    .dataframe tbody tr th {\n",
       "        vertical-align: top;\n",
       "    }\n",
       "\n",
       "    .dataframe thead th {\n",
       "        text-align: right;\n",
       "    }\n",
       "</style>\n",
       "<table border=\"1\" class=\"dataframe\">\n",
       "  <thead>\n",
       "    <tr style=\"text-align: right;\">\n",
       "      <th></th>\n",
       "      <th>Index</th>\n",
       "      <th>URL</th>\n",
       "      <th>Unit_ID</th>\n",
       "      <th>No_Rooms</th>\n",
       "      <th>Bathroom</th>\n",
       "      <th>Locality</th>\n",
       "      <th>Region</th>\n",
       "      <th>Longitude</th>\n",
       "      <th>Latitude</th>\n",
       "      <th>Furnished</th>\n",
       "      <th>...</th>\n",
       "      <th>Basketball</th>\n",
       "      <th>Multipurpose_Room</th>\n",
       "      <th>Gym</th>\n",
       "      <th>Jogging</th>\n",
       "      <th>Tennis</th>\n",
       "      <th>Restaurant</th>\n",
       "      <th>Playground</th>\n",
       "      <th>Total_Facilities</th>\n",
       "      <th>AnnualPrice</th>\n",
       "      <th>FurnishedNew</th>\n",
       "    </tr>\n",
       "  </thead>\n",
       "  <tbody>\n",
       "    <tr>\n",
       "      <th>0</th>\n",
       "      <td>0</td>\n",
       "      <td>https://jendela360.com/sewa-apartemen-tamansar...</td>\n",
       "      <td>tssb011</td>\n",
       "      <td>1</td>\n",
       "      <td>1</td>\n",
       "      <td>Semanggi</td>\n",
       "      <td>Jakarta Selatan</td>\n",
       "      <td>106.819159</td>\n",
       "      <td>-6.226598</td>\n",
       "      <td>1</td>\n",
       "      <td>...</td>\n",
       "      <td>1</td>\n",
       "      <td>1</td>\n",
       "      <td>1</td>\n",
       "      <td>1</td>\n",
       "      <td>1</td>\n",
       "      <td>1</td>\n",
       "      <td>1</td>\n",
       "      <td>23</td>\n",
       "      <td>96000000.0</td>\n",
       "      <td>Full</td>\n",
       "    </tr>\n",
       "    <tr>\n",
       "      <th>1</th>\n",
       "      <td>1</td>\n",
       "      <td>https://jendela360.com/sewa-apartemen-puri-par...</td>\n",
       "      <td>ppvc072</td>\n",
       "      <td>2</td>\n",
       "      <td>1</td>\n",
       "      <td>Kebon Jeruk</td>\n",
       "      <td>Jakarta Barat</td>\n",
       "      <td>106.756061</td>\n",
       "      <td>-6.192081</td>\n",
       "      <td>0</td>\n",
       "      <td>...</td>\n",
       "      <td>0</td>\n",
       "      <td>1</td>\n",
       "      <td>1</td>\n",
       "      <td>1</td>\n",
       "      <td>0</td>\n",
       "      <td>1</td>\n",
       "      <td>1</td>\n",
       "      <td>19</td>\n",
       "      <td>30000000.0</td>\n",
       "      <td>Semi</td>\n",
       "    </tr>\n",
       "    <tr>\n",
       "      <th>2</th>\n",
       "      <td>2</td>\n",
       "      <td>https://jendela360.com/sewa-apartemen-metro-pa...</td>\n",
       "      <td>mprc040</td>\n",
       "      <td>2</td>\n",
       "      <td>1</td>\n",
       "      <td>Kedoya</td>\n",
       "      <td>Jakarta Barat</td>\n",
       "      <td>106.757651</td>\n",
       "      <td>-6.186415</td>\n",
       "      <td>1</td>\n",
       "      <td>...</td>\n",
       "      <td>0</td>\n",
       "      <td>1</td>\n",
       "      <td>1</td>\n",
       "      <td>1</td>\n",
       "      <td>0</td>\n",
       "      <td>1</td>\n",
       "      <td>1</td>\n",
       "      <td>22</td>\n",
       "      <td>70000000.0</td>\n",
       "      <td>Full</td>\n",
       "    </tr>\n",
       "    <tr>\n",
       "      <th>3</th>\n",
       "      <td>3</td>\n",
       "      <td>https://jendela360.com/sewa-apartemen-pondok-i...</td>\n",
       "      <td>ponf003</td>\n",
       "      <td>2</td>\n",
       "      <td>2</td>\n",
       "      <td>Pondok Indah</td>\n",
       "      <td>Jakarta Selatan</td>\n",
       "      <td>106.7846</td>\n",
       "      <td>-6.272637</td>\n",
       "      <td>1</td>\n",
       "      <td>...</td>\n",
       "      <td>1</td>\n",
       "      <td>1</td>\n",
       "      <td>1</td>\n",
       "      <td>1</td>\n",
       "      <td>1</td>\n",
       "      <td>1</td>\n",
       "      <td>1</td>\n",
       "      <td>24</td>\n",
       "      <td>576000000.0</td>\n",
       "      <td>Full</td>\n",
       "    </tr>\n",
       "    <tr>\n",
       "      <th>4</th>\n",
       "      <td>4</td>\n",
       "      <td>https://jendela360.com/sewa-apartemen-season-c...</td>\n",
       "      <td>sscc039</td>\n",
       "      <td>2</td>\n",
       "      <td>1</td>\n",
       "      <td>Grogol</td>\n",
       "      <td>Jakarta Barat</td>\n",
       "      <td>106.796056</td>\n",
       "      <td>-6.153652</td>\n",
       "      <td>0</td>\n",
       "      <td>...</td>\n",
       "      <td>0</td>\n",
       "      <td>1</td>\n",
       "      <td>1</td>\n",
       "      <td>0</td>\n",
       "      <td>0</td>\n",
       "      <td>1</td>\n",
       "      <td>1</td>\n",
       "      <td>15</td>\n",
       "      <td>32000000.0</td>\n",
       "      <td>Non</td>\n",
       "    </tr>\n",
       "  </tbody>\n",
       "</table>\n",
       "<p>5 rows × 39 columns</p>\n",
       "</div>"
      ],
      "text/plain": [
       "   Index                                                URL  Unit_ID No_Rooms  \\\n",
       "0      0  https://jendela360.com/sewa-apartemen-tamansar...  tssb011        1   \n",
       "1      1  https://jendela360.com/sewa-apartemen-puri-par...  ppvc072        2   \n",
       "2      2  https://jendela360.com/sewa-apartemen-metro-pa...  mprc040        2   \n",
       "3      3  https://jendela360.com/sewa-apartemen-pondok-i...  ponf003        2   \n",
       "4      4  https://jendela360.com/sewa-apartemen-season-c...  sscc039        2   \n",
       "\n",
       "  Bathroom      Locality           Region   Longitude   Latitude Furnished  \\\n",
       "0        1      Semanggi  Jakarta Selatan  106.819159  -6.226598         1   \n",
       "1        1   Kebon Jeruk    Jakarta Barat  106.756061  -6.192081         0   \n",
       "2        1        Kedoya    Jakarta Barat  106.757651  -6.186415         1   \n",
       "3        2  Pondok Indah  Jakarta Selatan    106.7846  -6.272637         1   \n",
       "4        1        Grogol    Jakarta Barat  106.796056  -6.153652         0   \n",
       "\n",
       "   ... Basketball Multipurpose_Room Gym Jogging Tennis Restaurant Playground  \\\n",
       "0  ...          1                 1   1       1      1          1          1   \n",
       "1  ...          0                 1   1       1      0          1          1   \n",
       "2  ...          0                 1   1       1      0          1          1   \n",
       "3  ...          1                 1   1       1      1          1          1   \n",
       "4  ...          0                 1   1       0      0          1          1   \n",
       "\n",
       "  Total_Facilities  AnnualPrice FurnishedNew  \n",
       "0               23   96000000.0         Full  \n",
       "1               19   30000000.0         Semi  \n",
       "2               22   70000000.0         Full  \n",
       "3               24  576000000.0         Full  \n",
       "4               15   32000000.0          Non  \n",
       "\n",
       "[5 rows x 39 columns]"
      ]
     },
     "execution_count": 20,
     "metadata": {},
     "output_type": "execute_result"
    }
   ],
   "source": [
    "df.head()"
   ]
  },
  {
   "cell_type": "markdown",
   "metadata": {},
   "source": [
    "Next, we are going to analyse each column and see if it is a good feature for our model or not. We will be plotting each feature against the predicted value, the 'AnnualPrice'. While there are other ways to perform feature selection which are relatively more automated, the writer chooses to do this to gain more insights personally on the dataset."
   ]
  },
  {
   "cell_type": "markdown",
   "metadata": {},
   "source": [
    "#### Number of Bedrooms"
   ]
  },
  {
   "cell_type": "code",
   "execution_count": 21,
   "metadata": {},
   "outputs": [
    {
     "data": {
      "text/plain": [
       "2    2566\n",
       "0    1113\n",
       "1     990\n",
       "3     605\n",
       "4      18\n",
       "6       1\n",
       "Name: No_Rooms, dtype: int64"
      ]
     },
     "execution_count": 21,
     "metadata": {},
     "output_type": "execute_result"
    }
   ],
   "source": [
    "bedroom_df = df[['URL','No_Rooms', 'AnnualPrice']]\n",
    "bedroom_df.No_Rooms.value_counts()"
   ]
  },
  {
   "cell_type": "markdown",
   "metadata": {},
   "source": [
    "The apartment units in our dataset have 0 till 6 'number of bedrooms'. What does '0' number of bedroom means? During the scraping process, the writer discover that studio apartment units are written as having '0' number of bedrooms in the ```.json``` schema of the web page. We can then use ```df.groupby``` to see the average annual rent price of each category."
   ]
  },
  {
   "cell_type": "code",
   "execution_count": 22,
   "metadata": {},
   "outputs": [
    {
     "name": "stdout",
     "output_type": "stream",
     "text": [
      "  No_Rooms  Average Annual Price\n",
      "0        0          7.622950e+08\n",
      "1        1          8.501359e+07\n",
      "2        2          1.028243e+08\n",
      "3        3          2.196271e+08\n",
      "4        4          4.380461e+08\n",
      "5        6          1.000000e+09\n"
     ]
    },
    {
     "data": {
      "text/plain": [
       "<AxesSubplot:xlabel='No_Rooms'>"
      ]
     },
     "execution_count": 22,
     "metadata": {},
     "output_type": "execute_result"
    },
    {
     "data": {
      "image/png": "[encoded data removed]",
      "text/plain": [
       "<Figure size 360x360 with 1 Axes>"
      ]
     },
     "metadata": {
      "needs_background": "light"
     },
     "output_type": "display_data"
    }
   ],
   "source": [
    "avg_no_rooms = bedroom_df.groupby('No_Rooms')['AnnualPrice'].mean().reset_index().rename({'AnnualPrice':'Average Annual Price'}, axis = 'columns')\n",
    "print(avg_no_rooms)\n",
    "avg_no_rooms.plot(x = 'No_Rooms', y = 'Average Annual Price', kind = 'bar', figsize = [5,5])"
   ]
  },
  {
   "cell_type": "markdown",
   "metadata": {},
   "source": [
    "First column and we're already greeted with a surprise. Why is the studio apartment unit's average price higher than the average price of apartment units with 6 bedrooms? This is why exploring our dataset manually, or the way I prefer to say it - 'personally', is important. This data does not match our common sense, and we need to investigate it. The first thing to do in this situation is try to check for outliers."
   ]
  },
  {
   "cell_type": "code",
   "execution_count": 23,
   "metadata": {},
   "outputs": [
    {
     "data": {
      "text/plain": [
       "<AxesSubplot:xlabel='AnnualPrice'>"
      ]
     },
     "execution_count": 23,
     "metadata": {},
     "output_type": "execute_result"
    },
    {
     "data": {
      "image/png": "[encoded data removed]",
      "text/plain": [
       "<Figure size 432x288 with 1 Axes>"
      ]
     },
     "metadata": {
      "needs_background": "light"
     },
     "output_type": "display_data"
    }
   ],
   "source": [
    "studio_check = bedroom_df['No_Rooms'] == '0'\n",
    "sns.boxplot(x = bedroom_df[studio_check].AnnualPrice)"
   ]
  },
  {
   "cell_type": "markdown",
   "metadata": {},
   "source": [
    "First, we filter the 'AnnualPrice' column by 'No_Rooms' category. After selecting the annual rent prices of apartment units which are studio-typed, we can draw the boxplot using seaborn and we see there are two outliers. Let's check these out."
   ]
  },
  {
   "cell_type": "code",
   "execution_count": 24,
   "metadata": {},
   "outputs": [
    {
     "data": {
      "text/html": [
       "<div>\n",
       "<style scoped>\n",
       "    .dataframe tbody tr th:only-of-type {\n",
       "        vertical-align: middle;\n",
       "    }\n",
       "\n",
       "    .dataframe tbody tr th {\n",
       "        vertical-align: top;\n",
       "    }\n",
       "\n",
       "    .dataframe thead th {\n",
       "        text-align: right;\n",
       "    }\n",
       "</style>\n",
       "<table border=\"1\" class=\"dataframe\">\n",
       "  <thead>\n",
       "    <tr style=\"text-align: right;\">\n",
       "      <th></th>\n",
       "      <th>URL</th>\n",
       "      <th>No_Rooms</th>\n",
       "      <th>AnnualPrice</th>\n",
       "    </tr>\n",
       "  </thead>\n",
       "  <tbody>\n",
       "    <tr>\n",
       "      <th>1158</th>\n",
       "      <td>https://jendela360.com/sewa-apartemen-signatur...</td>\n",
       "      <td>0</td>\n",
       "      <td>7.938000e+11</td>\n",
       "    </tr>\n",
       "    <tr>\n",
       "      <th>643</th>\n",
       "      <td>https://jendela360.com/sewa-apartemen-puri-par...</td>\n",
       "      <td>0</td>\n",
       "      <td>2.500000e+08</td>\n",
       "    </tr>\n",
       "    <tr>\n",
       "      <th>1382</th>\n",
       "      <td>https://jendela360.com/sewa-apartemen-senayan-...</td>\n",
       "      <td>0</td>\n",
       "      <td>2.280000e+08</td>\n",
       "    </tr>\n",
       "    <tr>\n",
       "      <th>5095</th>\n",
       "      <td>https://jendela360.com/sewa-apartemen-soho-pan...</td>\n",
       "      <td>0</td>\n",
       "      <td>2.200000e+08</td>\n",
       "    </tr>\n",
       "    <tr>\n",
       "      <th>3870</th>\n",
       "      <td>https://jendela360.com/sewa-apartemen-kemang-v...</td>\n",
       "      <td>0</td>\n",
       "      <td>2.116800e+08</td>\n",
       "    </tr>\n",
       "  </tbody>\n",
       "</table>\n",
       "</div>"
      ],
      "text/plain": [
       "                                                    URL No_Rooms   AnnualPrice\n",
       "1158  https://jendela360.com/sewa-apartemen-signatur...        0  7.938000e+11\n",
       "643   https://jendela360.com/sewa-apartemen-puri-par...        0  2.500000e+08\n",
       "1382  https://jendela360.com/sewa-apartemen-senayan-...        0  2.280000e+08\n",
       "5095  https://jendela360.com/sewa-apartemen-soho-pan...        0  2.200000e+08\n",
       "3870  https://jendela360.com/sewa-apartemen-kemang-v...        0  2.116800e+08"
      ]
     },
     "execution_count": 24,
     "metadata": {},
     "output_type": "execute_result"
    }
   ],
   "source": [
    "bedroom_df[studio_check].sort_values(by=['AnnualPrice'], ascending=False).head(5)"
   ]
  },
  {
   "cell_type": "markdown",
   "metadata": {},
   "source": [
    "After sorted by Annual Price, the top two apartment units have prices that are clearly beyond what's 'the norm' for studio apartment units. Using ```pd.set_option('display.max_colwidth', None)```, we can get the URL for these two apartment units, and then see for ourselves in their respective page."
   ]
  },
  {
   "cell_type": "code",
   "execution_count": 25,
   "metadata": {},
   "outputs": [
    {
     "data": {
      "text/plain": [
       "1158       https://jendela360.com/sewa-apartemen-signature-park-grande/sgpa014\n",
       "643     https://jendela360.com/sewa-apartemen-puri-park-view-apartment/ppva064\n",
       "Name: URL, dtype: object"
      ]
     },
     "execution_count": 25,
     "metadata": {},
     "output_type": "execute_result"
    }
   ],
   "source": [
    "pd.set_option('display.max_colwidth', None)\n",
    "bedroom_df[studio_check].sort_values(by=['AnnualPrice'], ascending=False).head(2).URL"
   ]
  },
  {
   "cell_type": "markdown",
   "metadata": {},
   "source": [
    "Upon looking at the first link, we see that this 25 meter squared, studio apartment, is priced at fifty four million dollars. I think we can see the problem here. There are a few pages in which the currency used is wrong. Even apartment with 6 bedrooms are not priced fifty four million dollars a year. This unit's price should be fifty four million rupiah. \n",
    "\n",
    "The second unit in question also shares the problem. This time, the studio apartment is priced at thirty million dollars. We first need to clean this mess before we continue exploring the other columns. Let's also check if other number of bedrooms share the same issue."
   ]
  },
  {
   "cell_type": "code",
   "execution_count": 26,
   "metadata": {},
   "outputs": [
    {
     "data": {
      "text/plain": [
       "<AxesSubplot:xlabel='AnnualPrice'>"
      ]
     },
     "execution_count": 26,
     "metadata": {},
     "output_type": "execute_result"
    },
    {
     "data": {
      "image/png": "[encoded data removed]",
      "text/plain": [
       "<Figure size 432x288 with 1 Axes>"
      ]
     },
     "metadata": {
      "needs_background": "light"
     },
     "output_type": "display_data"
    }
   ],
   "source": [
    "br2_check = bedroom_df['No_Rooms'] == '2'\n",
    "sns.boxplot(x = bedroom_df[br2_check].AnnualPrice)"
   ]
  },
  {
   "cell_type": "code",
   "execution_count": 27,
   "metadata": {},
   "outputs": [
    {
     "data": {
      "text/html": [
       "<div>\n",
       "<style scoped>\n",
       "    .dataframe tbody tr th:only-of-type {\n",
       "        vertical-align: middle;\n",
       "    }\n",
       "\n",
       "    .dataframe tbody tr th {\n",
       "        vertical-align: top;\n",
       "    }\n",
       "\n",
       "    .dataframe thead th {\n",
       "        text-align: right;\n",
       "    }\n",
       "</style>\n",
       "<table border=\"1\" class=\"dataframe\">\n",
       "  <thead>\n",
       "    <tr style=\"text-align: right;\">\n",
       "      <th></th>\n",
       "      <th>URL</th>\n",
       "      <th>No_Rooms</th>\n",
       "      <th>AnnualPrice</th>\n",
       "    </tr>\n",
       "  </thead>\n",
       "  <tbody>\n",
       "    <tr>\n",
       "      <th>1642</th>\n",
       "      <td>https://jendela360.com/sewa-apartemen-the-peak-apartment/tprc001</td>\n",
       "      <td>2</td>\n",
       "      <td>583200000.0</td>\n",
       "    </tr>\n",
       "    <tr>\n",
       "      <th>4248</th>\n",
       "      <td>https://jendela360.com/sewa-apartemen-pakubuwono-residence/pkrc003</td>\n",
       "      <td>2</td>\n",
       "      <td>582120000.0</td>\n",
       "    </tr>\n",
       "    <tr>\n",
       "      <th>3</th>\n",
       "      <td>https://jendela360.com/sewa-apartemen-pondok-indah-golf-apartment/ponf003</td>\n",
       "      <td>2</td>\n",
       "      <td>576000000.0</td>\n",
       "    </tr>\n",
       "    <tr>\n",
       "      <th>4109</th>\n",
       "      <td>https://jendela360.com/sewa-apartemen-fraser-residence/frrc001</td>\n",
       "      <td>2</td>\n",
       "      <td>576000000.0</td>\n",
       "    </tr>\n",
       "    <tr>\n",
       "      <th>3223</th>\n",
       "      <td>https://jendela360.com/sewa-apartemen-fraser-residence/frrc002</td>\n",
       "      <td>2</td>\n",
       "      <td>576000000.0</td>\n",
       "    </tr>\n",
       "  </tbody>\n",
       "</table>\n",
       "</div>"
      ],
      "text/plain": [
       "                                                                            URL  \\\n",
       "1642           https://jendela360.com/sewa-apartemen-the-peak-apartment/tprc001   \n",
       "4248         https://jendela360.com/sewa-apartemen-pakubuwono-residence/pkrc003   \n",
       "3     https://jendela360.com/sewa-apartemen-pondok-indah-golf-apartment/ponf003   \n",
       "4109             https://jendela360.com/sewa-apartemen-fraser-residence/frrc001   \n",
       "3223             https://jendela360.com/sewa-apartemen-fraser-residence/frrc002   \n",
       "\n",
       "     No_Rooms  AnnualPrice  \n",
       "1642        2  583200000.0  \n",
       "4248        2  582120000.0  \n",
       "3           2  576000000.0  \n",
       "4109        2  576000000.0  \n",
       "3223        2  576000000.0  "
      ]
     },
     "execution_count": 27,
     "metadata": {},
     "output_type": "execute_result"
    }
   ],
   "source": [
    "bedroom_df[br2_check].sort_values(by=['AnnualPrice'], ascending=False).head(5)"
   ]
  },
  {
   "cell_type": "markdown",
   "metadata": {},
   "source": [
    "Turns out the problem isn't unique to studio apartments. We have to solve this issue first then, and unfortunately this can only be done in a relatively manual manner (checking the URL one by one). I'll get back after resolving this issue."
   ]
  },
  {
   "cell_type": "markdown",
   "metadata": {},
   "source": [
    "#### Finding and Fixing Outliers based on Number of Bedrooms"
   ]
  },
  {
   "cell_type": "markdown",
   "metadata": {},
   "source": [
    "Create boolean identifiers"
   ]
  },
  {
   "cell_type": "code",
   "execution_count": 28,
   "metadata": {},
   "outputs": [],
   "source": [
    "studio_check = bedroom_df['No_Rooms'] == '0'\n",
    "br1_check = bedroom_df['No_Rooms'] == '1'\n",
    "br2_check = bedroom_df['No_Rooms'] == '2'\n",
    "br3_check = bedroom_df['No_Rooms'] == '3'\n",
    "br4_check = bedroom_df['No_Rooms'] == '4'\n",
    "br5_check = bedroom_df['No_Rooms'] == '5'\n",
    "br6_check = bedroom_df['No_Rooms'] == '6'"
   ]
  },
  {
   "cell_type": "markdown",
   "metadata": {},
   "source": [
    "Fix for No_Rooms = '0' (Studio-Type)"
   ]
  },
  {
   "cell_type": "code",
   "execution_count": 29,
   "metadata": {},
   "outputs": [
    {
     "data": {
      "text/html": [
       "<div>\n",
       "<style scoped>\n",
       "    .dataframe tbody tr th:only-of-type {\n",
       "        vertical-align: middle;\n",
       "    }\n",
       "\n",
       "    .dataframe tbody tr th {\n",
       "        vertical-align: top;\n",
       "    }\n",
       "\n",
       "    .dataframe thead th {\n",
       "        text-align: right;\n",
       "    }\n",
       "</style>\n",
       "<table border=\"1\" class=\"dataframe\">\n",
       "  <thead>\n",
       "    <tr style=\"text-align: right;\">\n",
       "      <th></th>\n",
       "      <th>URL</th>\n",
       "      <th>No_Rooms</th>\n",
       "      <th>AnnualPrice</th>\n",
       "    </tr>\n",
       "  </thead>\n",
       "  <tbody>\n",
       "    <tr>\n",
       "      <th>1158</th>\n",
       "      <td>https://jendela360.com/sewa-apartemen-signature-park-grande/sgpa014</td>\n",
       "      <td>0</td>\n",
       "      <td>7.938000e+11</td>\n",
       "    </tr>\n",
       "    <tr>\n",
       "      <th>643</th>\n",
       "      <td>https://jendela360.com/sewa-apartemen-puri-park-view-apartment/ppva064</td>\n",
       "      <td>0</td>\n",
       "      <td>2.500000e+08</td>\n",
       "    </tr>\n",
       "    <tr>\n",
       "      <th>1382</th>\n",
       "      <td>https://jendela360.com/sewa-apartemen-senayan-apartment/snya001</td>\n",
       "      <td>0</td>\n",
       "      <td>2.280000e+08</td>\n",
       "    </tr>\n",
       "    <tr>\n",
       "      <th>5095</th>\n",
       "      <td>https://jendela360.com/sewa-apartemen-soho-pancoran-apartment/spca001</td>\n",
       "      <td>0</td>\n",
       "      <td>2.200000e+08</td>\n",
       "    </tr>\n",
       "    <tr>\n",
       "      <th>3870</th>\n",
       "      <td>https://jendela360.com/sewa-apartemen-kemang-village-apartment/kmva002</td>\n",
       "      <td>0</td>\n",
       "      <td>2.116800e+08</td>\n",
       "    </tr>\n",
       "  </tbody>\n",
       "</table>\n",
       "</div>"
      ],
      "text/plain": [
       "                                                                         URL  \\\n",
       "1158     https://jendela360.com/sewa-apartemen-signature-park-grande/sgpa014   \n",
       "643   https://jendela360.com/sewa-apartemen-puri-park-view-apartment/ppva064   \n",
       "1382         https://jendela360.com/sewa-apartemen-senayan-apartment/snya001   \n",
       "5095   https://jendela360.com/sewa-apartemen-soho-pancoran-apartment/spca001   \n",
       "3870  https://jendela360.com/sewa-apartemen-kemang-village-apartment/kmva002   \n",
       "\n",
       "     No_Rooms   AnnualPrice  \n",
       "1158        0  7.938000e+11  \n",
       "643         0  2.500000e+08  \n",
       "1382        0  2.280000e+08  \n",
       "5095        0  2.200000e+08  \n",
       "3870        0  2.116800e+08  "
      ]
     },
     "execution_count": 29,
     "metadata": {},
     "output_type": "execute_result"
    }
   ],
   "source": [
    "bedroom_df[studio_check].sort_values(by=['AnnualPrice'], ascending=False).head(5)"
   ]
  },
  {
   "cell_type": "code",
   "execution_count": 30,
   "metadata": {},
   "outputs": [],
   "source": [
    "df.loc[df.Unit_ID == 'sgpa014', 'AnnualPrice'] = 54000000"
   ]
  },
  {
   "cell_type": "code",
   "execution_count": 31,
   "metadata": {},
   "outputs": [],
   "source": [
    "df.loc[df.Unit_ID == 'pgva007', 'AnnualPrice'] = 30000000"
   ]
  },
  {
   "cell_type": "markdown",
   "metadata": {},
   "source": [
    "Fix for No_Rooms = '1' (One Bedroom)"
   ]
  },
  {
   "cell_type": "code",
   "execution_count": 32,
   "metadata": {},
   "outputs": [
    {
     "data": {
      "text/html": [
       "<div>\n",
       "<style scoped>\n",
       "    .dataframe tbody tr th:only-of-type {\n",
       "        vertical-align: middle;\n",
       "    }\n",
       "\n",
       "    .dataframe tbody tr th {\n",
       "        vertical-align: top;\n",
       "    }\n",
       "\n",
       "    .dataframe thead th {\n",
       "        text-align: right;\n",
       "    }\n",
       "</style>\n",
       "<table border=\"1\" class=\"dataframe\">\n",
       "  <thead>\n",
       "    <tr style=\"text-align: right;\">\n",
       "      <th></th>\n",
       "      <th>URL</th>\n",
       "      <th>No_Rooms</th>\n",
       "      <th>AnnualPrice</th>\n",
       "    </tr>\n",
       "  </thead>\n",
       "  <tbody>\n",
       "    <tr>\n",
       "      <th>2743</th>\n",
       "      <td>https://jendela360.com/sewa-apartemen-fraser-residence/frrb001</td>\n",
       "      <td>1</td>\n",
       "      <td>474000000.0</td>\n",
       "    </tr>\n",
       "    <tr>\n",
       "      <th>5032</th>\n",
       "      <td>https://jendela360.com/sewa-apartemen-ascott-apartment/ascb002</td>\n",
       "      <td>1</td>\n",
       "      <td>367000000.0</td>\n",
       "    </tr>\n",
       "    <tr>\n",
       "      <th>1098</th>\n",
       "      <td>https://jendela360.com/sewa-apartemen-brawijaya-apartment/bwjb001</td>\n",
       "      <td>1</td>\n",
       "      <td>360000000.0</td>\n",
       "    </tr>\n",
       "    <tr>\n",
       "      <th>4492</th>\n",
       "      <td>https://jendela360.com/sewa-apartemen-pondok-indah-residence/pirb003</td>\n",
       "      <td>1</td>\n",
       "      <td>324000000.0</td>\n",
       "    </tr>\n",
       "    <tr>\n",
       "      <th>1565</th>\n",
       "      <td>https://jendela360.com/sewa-apartemen-menteng-regency/mtrb003</td>\n",
       "      <td>1</td>\n",
       "      <td>300000000.0</td>\n",
       "    </tr>\n",
       "  </tbody>\n",
       "</table>\n",
       "</div>"
      ],
      "text/plain": [
       "                                                                       URL  \\\n",
       "2743        https://jendela360.com/sewa-apartemen-fraser-residence/frrb001   \n",
       "5032        https://jendela360.com/sewa-apartemen-ascott-apartment/ascb002   \n",
       "1098     https://jendela360.com/sewa-apartemen-brawijaya-apartment/bwjb001   \n",
       "4492  https://jendela360.com/sewa-apartemen-pondok-indah-residence/pirb003   \n",
       "1565         https://jendela360.com/sewa-apartemen-menteng-regency/mtrb003   \n",
       "\n",
       "     No_Rooms  AnnualPrice  \n",
       "2743        1  474000000.0  \n",
       "5032        1  367000000.0  \n",
       "1098        1  360000000.0  \n",
       "4492        1  324000000.0  \n",
       "1565        1  300000000.0  "
      ]
     },
     "execution_count": 32,
     "metadata": {},
     "output_type": "execute_result"
    }
   ],
   "source": [
    "bedroom_df[br1_check].sort_values(by=['AnnualPrice'], ascending=False).head(5)"
   ]
  },
  {
   "cell_type": "code",
   "execution_count": 33,
   "metadata": {},
   "outputs": [
    {
     "data": {
      "text/plain": [
       "<AxesSubplot:xlabel='AnnualPrice'>"
      ]
     },
     "execution_count": 33,
     "metadata": {},
     "output_type": "execute_result"
    },
    {
     "data": {
      "image/png": "[encoded data removed]",
      "text/plain": [
       "<Figure size 432x288 with 1 Axes>"
      ]
     },
     "metadata": {
      "needs_background": "light"
     },
     "output_type": "display_data"
    }
   ],
   "source": [
    "sns.boxplot(x = bedroom_df[br1_check].AnnualPrice)"
   ]
  },
  {
   "cell_type": "markdown",
   "metadata": {},
   "source": [
    "I think the rent price for 1 bedroom appartment units are skewed to the right. None of the five highest apartment units (of one bedroom) have annual rent prices displayed in dollars. However, we're going to remove one point which is the highest priced apartment unit as it's quite far from the rest of the data points. "
   ]
  },
  {
   "cell_type": "code",
   "execution_count": 34,
   "metadata": {},
   "outputs": [],
   "source": [
    "i = df[((df.Unit_ID == 'frrb001'))].index\n",
    "df = df.drop(i)"
   ]
  },
  {
   "cell_type": "markdown",
   "metadata": {},
   "source": [
    "Fix for 'No_Rooms' = '2' (Two Bedrooms)"
   ]
  },
  {
   "cell_type": "code",
   "execution_count": 35,
   "metadata": {},
   "outputs": [
    {
     "data": {
      "text/html": [
       "<div>\n",
       "<style scoped>\n",
       "    .dataframe tbody tr th:only-of-type {\n",
       "        vertical-align: middle;\n",
       "    }\n",
       "\n",
       "    .dataframe tbody tr th {\n",
       "        vertical-align: top;\n",
       "    }\n",
       "\n",
       "    .dataframe thead th {\n",
       "        text-align: right;\n",
       "    }\n",
       "</style>\n",
       "<table border=\"1\" class=\"dataframe\">\n",
       "  <thead>\n",
       "    <tr style=\"text-align: right;\">\n",
       "      <th></th>\n",
       "      <th>URL</th>\n",
       "      <th>No_Rooms</th>\n",
       "      <th>AnnualPrice</th>\n",
       "    </tr>\n",
       "  </thead>\n",
       "  <tbody>\n",
       "    <tr>\n",
       "      <th>1642</th>\n",
       "      <td>https://jendela360.com/sewa-apartemen-the-peak-apartment/tprc001</td>\n",
       "      <td>2</td>\n",
       "      <td>583200000.0</td>\n",
       "    </tr>\n",
       "    <tr>\n",
       "      <th>4248</th>\n",
       "      <td>https://jendela360.com/sewa-apartemen-pakubuwono-residence/pkrc003</td>\n",
       "      <td>2</td>\n",
       "      <td>582120000.0</td>\n",
       "    </tr>\n",
       "    <tr>\n",
       "      <th>3</th>\n",
       "      <td>https://jendela360.com/sewa-apartemen-pondok-indah-golf-apartment/ponf003</td>\n",
       "      <td>2</td>\n",
       "      <td>576000000.0</td>\n",
       "    </tr>\n",
       "    <tr>\n",
       "      <th>4109</th>\n",
       "      <td>https://jendela360.com/sewa-apartemen-fraser-residence/frrc001</td>\n",
       "      <td>2</td>\n",
       "      <td>576000000.0</td>\n",
       "    </tr>\n",
       "    <tr>\n",
       "      <th>3223</th>\n",
       "      <td>https://jendela360.com/sewa-apartemen-fraser-residence/frrc002</td>\n",
       "      <td>2</td>\n",
       "      <td>576000000.0</td>\n",
       "    </tr>\n",
       "  </tbody>\n",
       "</table>\n",
       "</div>"
      ],
      "text/plain": [
       "                                                                            URL  \\\n",
       "1642           https://jendela360.com/sewa-apartemen-the-peak-apartment/tprc001   \n",
       "4248         https://jendela360.com/sewa-apartemen-pakubuwono-residence/pkrc003   \n",
       "3     https://jendela360.com/sewa-apartemen-pondok-indah-golf-apartment/ponf003   \n",
       "4109             https://jendela360.com/sewa-apartemen-fraser-residence/frrc001   \n",
       "3223             https://jendela360.com/sewa-apartemen-fraser-residence/frrc002   \n",
       "\n",
       "     No_Rooms  AnnualPrice  \n",
       "1642        2  583200000.0  \n",
       "4248        2  582120000.0  \n",
       "3           2  576000000.0  \n",
       "4109        2  576000000.0  \n",
       "3223        2  576000000.0  "
      ]
     },
     "execution_count": 35,
     "metadata": {},
     "output_type": "execute_result"
    }
   ],
   "source": [
    "bedroom_df[br2_check].sort_values(by=['AnnualPrice'], ascending=False).head(5)"
   ]
  },
  {
   "cell_type": "code",
   "execution_count": 36,
   "metadata": {},
   "outputs": [
    {
     "data": {
      "text/plain": [
       "<AxesSubplot:xlabel='AnnualPrice'>"
      ]
     },
     "execution_count": 36,
     "metadata": {},
     "output_type": "execute_result"
    },
    {
     "data": {
      "image/png": "[encoded data removed]",
      "text/plain": [
       "<Figure size 432x288 with 1 Axes>"
      ]
     },
     "metadata": {
      "needs_background": "light"
     },
     "output_type": "display_data"
    }
   ],
   "source": [
    "sns.boxplot(x = bedroom_df[br2_check].AnnualPrice)"
   ]
  },
  {
   "cell_type": "code",
   "execution_count": 37,
   "metadata": {},
   "outputs": [],
   "source": [
    "df.loc[df.Unit_ID == 'blmc009', 'AnnualPrice'] = 50400000"
   ]
  },
  {
   "cell_type": "markdown",
   "metadata": {},
   "source": [
    "Fix for 'No_Rooms' = '3' (Three Bedrooms)"
   ]
  },
  {
   "cell_type": "code",
   "execution_count": 38,
   "metadata": {},
   "outputs": [
    {
     "data": {
      "text/html": [
       "<div>\n",
       "<style scoped>\n",
       "    .dataframe tbody tr th:only-of-type {\n",
       "        vertical-align: middle;\n",
       "    }\n",
       "\n",
       "    .dataframe tbody tr th {\n",
       "        vertical-align: top;\n",
       "    }\n",
       "\n",
       "    .dataframe thead th {\n",
       "        text-align: right;\n",
       "    }\n",
       "</style>\n",
       "<table border=\"1\" class=\"dataframe\">\n",
       "  <thead>\n",
       "    <tr style=\"text-align: right;\">\n",
       "      <th></th>\n",
       "      <th>URL</th>\n",
       "      <th>No_Rooms</th>\n",
       "      <th>AnnualPrice</th>\n",
       "    </tr>\n",
       "  </thead>\n",
       "  <tbody>\n",
       "    <tr>\n",
       "      <th>4385</th>\n",
       "      <td>https://jendela360.com/sewa-apartemen-essence-darmawangsa-apartment/esdd002</td>\n",
       "      <td>3</td>\n",
       "      <td>1.128000e+09</td>\n",
       "    </tr>\n",
       "    <tr>\n",
       "      <th>1144</th>\n",
       "      <td>https://jendela360.com/sewa-apartemen-pakubuwono-residence/pkrd002</td>\n",
       "      <td>3</td>\n",
       "      <td>7.938000e+08</td>\n",
       "    </tr>\n",
       "    <tr>\n",
       "      <th>2034</th>\n",
       "      <td>https://jendela360.com/sewa-apartemen-pakubuwono-residence/pkrd003</td>\n",
       "      <td>3</td>\n",
       "      <td>7.938000e+08</td>\n",
       "    </tr>\n",
       "    <tr>\n",
       "      <th>4670</th>\n",
       "      <td>https://jendela360.com/sewa-apartemen-pakubuwono-residence/pkrd001</td>\n",
       "      <td>3</td>\n",
       "      <td>7.056000e+08</td>\n",
       "    </tr>\n",
       "    <tr>\n",
       "      <th>443</th>\n",
       "      <td>https://jendela360.com/sewa-apartemen-pondok-indah-golf-apartment/pond001</td>\n",
       "      <td>3</td>\n",
       "      <td>6.275000e+08</td>\n",
       "    </tr>\n",
       "  </tbody>\n",
       "</table>\n",
       "</div>"
      ],
      "text/plain": [
       "                                                                              URL  \\\n",
       "4385  https://jendela360.com/sewa-apartemen-essence-darmawangsa-apartment/esdd002   \n",
       "1144           https://jendela360.com/sewa-apartemen-pakubuwono-residence/pkrd002   \n",
       "2034           https://jendela360.com/sewa-apartemen-pakubuwono-residence/pkrd003   \n",
       "4670           https://jendela360.com/sewa-apartemen-pakubuwono-residence/pkrd001   \n",
       "443     https://jendela360.com/sewa-apartemen-pondok-indah-golf-apartment/pond001   \n",
       "\n",
       "     No_Rooms   AnnualPrice  \n",
       "4385        3  1.128000e+09  \n",
       "1144        3  7.938000e+08  \n",
       "2034        3  7.938000e+08  \n",
       "4670        3  7.056000e+08  \n",
       "443         3  6.275000e+08  "
      ]
     },
     "execution_count": 38,
     "metadata": {},
     "output_type": "execute_result"
    }
   ],
   "source": [
    "bedroom_df[br3_check].sort_values(by=['AnnualPrice'], ascending=False).head(5)"
   ]
  },
  {
   "cell_type": "code",
   "execution_count": 39,
   "metadata": {},
   "outputs": [
    {
     "data": {
      "text/plain": [
       "<AxesSubplot:xlabel='AnnualPrice'>"
      ]
     },
     "execution_count": 39,
     "metadata": {},
     "output_type": "execute_result"
    },
    {
     "data": {
      "image/png": "[encoded data removed]",
      "text/plain": [
       "<Figure size 432x288 with 1 Axes>"
      ]
     },
     "metadata": {
      "needs_background": "light"
     },
     "output_type": "display_data"
    }
   ],
   "source": [
    "sns.boxplot(x = bedroom_df[br3_check].AnnualPrice)"
   ]
  },
  {
   "cell_type": "markdown",
   "metadata": {},
   "source": [
    "It turns out that the highest bedroom price is still in Rupiah. However, the rightmost data point is considerably far away from the rest of the data points, and we'll consider it as an outlier to be removed."
   ]
  },
  {
   "cell_type": "code",
   "execution_count": 40,
   "metadata": {},
   "outputs": [],
   "source": [
    "i = df[((df.Unit_ID == 'esdd002'))].index\n",
    "df = df.drop(i)"
   ]
  },
  {
   "cell_type": "markdown",
   "metadata": {},
   "source": [
    "Fix for 'No_Rooms' = '4' (Four Bedrooms)"
   ]
  },
  {
   "cell_type": "code",
   "execution_count": 41,
   "metadata": {},
   "outputs": [
    {
     "data": {
      "text/html": [
       "<div>\n",
       "<style scoped>\n",
       "    .dataframe tbody tr th:only-of-type {\n",
       "        vertical-align: middle;\n",
       "    }\n",
       "\n",
       "    .dataframe tbody tr th {\n",
       "        vertical-align: top;\n",
       "    }\n",
       "\n",
       "    .dataframe thead th {\n",
       "        text-align: right;\n",
       "    }\n",
       "</style>\n",
       "<table border=\"1\" class=\"dataframe\">\n",
       "  <thead>\n",
       "    <tr style=\"text-align: right;\">\n",
       "      <th></th>\n",
       "      <th>URL</th>\n",
       "      <th>No_Rooms</th>\n",
       "      <th>AnnualPrice</th>\n",
       "    </tr>\n",
       "  </thead>\n",
       "  <tbody>\n",
       "    <tr>\n",
       "      <th>3913</th>\n",
       "      <td>https://jendela360.com/sewa-apartemen-pakubuwono-residence/pkrf001</td>\n",
       "      <td>4</td>\n",
       "      <td>1.587600e+09</td>\n",
       "    </tr>\n",
       "    <tr>\n",
       "      <th>3612</th>\n",
       "      <td>https://jendela360.com/sewa-apartemen-pacific-place-residence/ppre001</td>\n",
       "      <td>4</td>\n",
       "      <td>1.296000e+09</td>\n",
       "    </tr>\n",
       "    <tr>\n",
       "      <th>1050</th>\n",
       "      <td>https://jendela360.com/sewa-apartemen-kemang-village-apartment/kmve002</td>\n",
       "      <td>4</td>\n",
       "      <td>6.526800e+08</td>\n",
       "    </tr>\n",
       "    <tr>\n",
       "      <th>4594</th>\n",
       "      <td>https://jendela360.com/sewa-apartemen-bumi-mas-apartment/bmse001</td>\n",
       "      <td>4</td>\n",
       "      <td>5.160000e+08</td>\n",
       "    </tr>\n",
       "    <tr>\n",
       "      <th>4379</th>\n",
       "      <td>https://jendela360.com/sewa-apartemen-nirvana-residence/nvn-e0001</td>\n",
       "      <td>4</td>\n",
       "      <td>5.070000e+08</td>\n",
       "    </tr>\n",
       "  </tbody>\n",
       "</table>\n",
       "</div>"
      ],
      "text/plain": [
       "                                                                         URL  \\\n",
       "3913      https://jendela360.com/sewa-apartemen-pakubuwono-residence/pkrf001   \n",
       "3612   https://jendela360.com/sewa-apartemen-pacific-place-residence/ppre001   \n",
       "1050  https://jendela360.com/sewa-apartemen-kemang-village-apartment/kmve002   \n",
       "4594        https://jendela360.com/sewa-apartemen-bumi-mas-apartment/bmse001   \n",
       "4379       https://jendela360.com/sewa-apartemen-nirvana-residence/nvn-e0001   \n",
       "\n",
       "     No_Rooms   AnnualPrice  \n",
       "3913        4  1.587600e+09  \n",
       "3612        4  1.296000e+09  \n",
       "1050        4  6.526800e+08  \n",
       "4594        4  5.160000e+08  \n",
       "4379        4  5.070000e+08  "
      ]
     },
     "execution_count": 41,
     "metadata": {},
     "output_type": "execute_result"
    }
   ],
   "source": [
    "bedroom_df[br4_check].sort_values(by=['AnnualPrice'], ascending=False).head(5)"
   ]
  },
  {
   "cell_type": "code",
   "execution_count": 42,
   "metadata": {},
   "outputs": [
    {
     "data": {
      "text/plain": [
       "<AxesSubplot:xlabel='AnnualPrice'>"
      ]
     },
     "execution_count": 42,
     "metadata": {},
     "output_type": "execute_result"
    },
    {
     "data": {
      "image/png": "[encoded data removed]",
      "text/plain": [
       "<Figure size 432x288 with 1 Axes>"
      ]
     },
     "metadata": {
      "needs_background": "light"
     },
     "output_type": "display_data"
    }
   ],
   "source": [
    "sns.boxplot(x = bedroom_df[br4_check].AnnualPrice)"
   ]
  },
  {
   "cell_type": "markdown",
   "metadata": {},
   "source": [
    "Although there seems to be two outliers, upon further checking they don't seem to be a case of misused currency. However, those two rightmost points are considerably far away from the rest of the other data points, and we'll consider them as outliers to be removed. These two prices are even higher than apartment units with 6 bedrooms, and do not represent the norm. "
   ]
  },
  {
   "cell_type": "code",
   "execution_count": 43,
   "metadata": {},
   "outputs": [],
   "source": [
    "i = df[((df.Unit_ID == 'pkrf001'))].index\n",
    "df = df.drop(i)\n",
    "i = df[((df.Unit_ID == 'ppre001'))].index\n",
    "df = df.drop(i)"
   ]
  },
  {
   "cell_type": "markdown",
   "metadata": {},
   "source": [
    "Fix for 'No_Rooms' = '5' (Five Bedrooms)"
   ]
  },
  {
   "cell_type": "code",
   "execution_count": 44,
   "metadata": {},
   "outputs": [
    {
     "data": {
      "text/html": [
       "<div>\n",
       "<style scoped>\n",
       "    .dataframe tbody tr th:only-of-type {\n",
       "        vertical-align: middle;\n",
       "    }\n",
       "\n",
       "    .dataframe tbody tr th {\n",
       "        vertical-align: top;\n",
       "    }\n",
       "\n",
       "    .dataframe thead th {\n",
       "        text-align: right;\n",
       "    }\n",
       "</style>\n",
       "<table border=\"1\" class=\"dataframe\">\n",
       "  <thead>\n",
       "    <tr style=\"text-align: right;\">\n",
       "      <th></th>\n",
       "      <th>URL</th>\n",
       "      <th>No_Rooms</th>\n",
       "      <th>AnnualPrice</th>\n",
       "    </tr>\n",
       "  </thead>\n",
       "  <tbody>\n",
       "  </tbody>\n",
       "</table>\n",
       "</div>"
      ],
      "text/plain": [
       "Empty DataFrame\n",
       "Columns: [URL, No_Rooms, AnnualPrice]\n",
       "Index: []"
      ]
     },
     "execution_count": 44,
     "metadata": {},
     "output_type": "execute_result"
    }
   ],
   "source": [
    "bedroom_df[br5_check].sort_values(by=['AnnualPrice'], ascending=False).head(5)"
   ]
  },
  {
   "cell_type": "markdown",
   "metadata": {},
   "source": [
    "There are no apartment units in our dataset which has five bedrooms. We are not going to remove anything for now."
   ]
  },
  {
   "cell_type": "markdown",
   "metadata": {},
   "source": [
    "Fix for 'No_Rooms' = '6' (Six Bedrooms)"
   ]
  },
  {
   "cell_type": "code",
   "execution_count": 45,
   "metadata": {},
   "outputs": [
    {
     "data": {
      "text/html": [
       "<div>\n",
       "<style scoped>\n",
       "    .dataframe tbody tr th:only-of-type {\n",
       "        vertical-align: middle;\n",
       "    }\n",
       "\n",
       "    .dataframe tbody tr th {\n",
       "        vertical-align: top;\n",
       "    }\n",
       "\n",
       "    .dataframe thead th {\n",
       "        text-align: right;\n",
       "    }\n",
       "</style>\n",
       "<table border=\"1\" class=\"dataframe\">\n",
       "  <thead>\n",
       "    <tr style=\"text-align: right;\">\n",
       "      <th></th>\n",
       "      <th>URL</th>\n",
       "      <th>No_Rooms</th>\n",
       "      <th>AnnualPrice</th>\n",
       "    </tr>\n",
       "  </thead>\n",
       "  <tbody>\n",
       "    <tr>\n",
       "      <th>3601</th>\n",
       "      <td>https://jendela360.com/sewa-apartemen-st-moritz-apartment/stme008</td>\n",
       "      <td>6</td>\n",
       "      <td>1.000000e+09</td>\n",
       "    </tr>\n",
       "  </tbody>\n",
       "</table>\n",
       "</div>"
      ],
      "text/plain": [
       "                                                                    URL  \\\n",
       "3601  https://jendela360.com/sewa-apartemen-st-moritz-apartment/stme008   \n",
       "\n",
       "     No_Rooms   AnnualPrice  \n",
       "3601        6  1.000000e+09  "
      ]
     },
     "execution_count": 45,
     "metadata": {},
     "output_type": "execute_result"
    }
   ],
   "source": [
    "bedroom_df[br6_check].sort_values(by=['AnnualPrice'], ascending=False).head(5)"
   ]
  },
  {
   "cell_type": "markdown",
   "metadata": {},
   "source": [
    "There is only one aaprtment unit with six bedrooms. We are not going to remove anything for now - however, we might combine the units with 4, 5, and 6 into one category."
   ]
  },
  {
   "cell_type": "code",
   "execution_count": 46,
   "metadata": {},
   "outputs": [],
   "source": [
    "br456_check = (bedroom_df.No_Rooms== '4') | (bedroom_df.No_Rooms == '5') | (bedroom_df.No_Rooms == '6')"
   ]
  },
  {
   "cell_type": "code",
   "execution_count": 47,
   "metadata": {},
   "outputs": [
    {
     "data": {
      "text/plain": [
       "<AxesSubplot:xlabel='AnnualPrice'>"
      ]
     },
     "execution_count": 47,
     "metadata": {},
     "output_type": "execute_result"
    },
    {
     "data": {
      "image/png": "[encoded data removed]",
      "text/plain": [
       "<Figure size 432x288 with 1 Axes>"
      ]
     },
     "metadata": {
      "needs_background": "light"
     },
     "output_type": "display_data"
    }
   ],
   "source": [
    "sns.boxplot(x = bedroom_df[br456_check].AnnualPrice)"
   ]
  },
  {
   "cell_type": "markdown",
   "metadata": {},
   "source": [
    "#### Checking on the Updated Dataframe for No_Rooms Feature"
   ]
  },
  {
   "cell_type": "code",
   "execution_count": 48,
   "metadata": {},
   "outputs": [],
   "source": [
    "New_No_Rooms = list()\n",
    "for i, br_no in enumerate(df.No_Rooms):\n",
    "    br_float = int(br_no)\n",
    "    if br_float >= 4:\n",
    "        New_No_Rooms.append(4)\n",
    "    else:\n",
    "        New_No_Rooms.append(br_float)\n",
    "        \n",
    "df.drop(['No_Rooms'], axis = 'columns')\n",
    "df['No_Rooms'] = New_No_Rooms"
   ]
  },
  {
   "cell_type": "code",
   "execution_count": 49,
   "metadata": {},
   "outputs": [
    {
     "name": "stdout",
     "output_type": "stream",
     "text": [
      "   No_Rooms  Average Annual Price\n",
      "0         0          4.913592e+07\n",
      "1         1          8.462027e+07\n",
      "2         2          1.027738e+08\n",
      "3         3          2.181231e+08\n",
      "4         4          3.530135e+08\n"
     ]
    },
    {
     "data": {
      "text/plain": [
       "<AxesSubplot:xlabel='No_Rooms'>"
      ]
     },
     "execution_count": 49,
     "metadata": {},
     "output_type": "execute_result"
    },
    {
     "data": {
      "image/png": "[encoded data removed]",
      "text/plain": [
       "<Figure size 360x360 with 1 Axes>"
      ]
     },
     "metadata": {
      "needs_background": "light"
     },
     "output_type": "display_data"
    }
   ],
   "source": [
    "bedroom_df_updated = df[['URL','No_Rooms', 'AnnualPrice']]\n",
    "avg_no_rooms = bedroom_df_updated.groupby('No_Rooms')['AnnualPrice'].mean().reset_index().rename({'AnnualPrice':'Average Annual Price'}, axis = 'columns')\n",
    "print(avg_no_rooms)\n",
    "avg_no_rooms.plot(x = 'No_Rooms', y = 'Average Annual Price', kind = 'bar', figsize = [5,5])"
   ]
  },
  {
   "cell_type": "code",
   "execution_count": 50,
   "metadata": {},
   "outputs": [
    {
     "data": {
      "text/plain": [
       "<AxesSubplot:xlabel='No_Rooms', ylabel='AnnualPrice'>"
      ]
     },
     "execution_count": 50,
     "metadata": {},
     "output_type": "execute_result"
    },
    {
     "data": {
      "image/png": "[encoded data removed]",
      "text/plain": [
       "<Figure size 432x288 with 1 Axes>"
      ]
     },
     "metadata": {
      "needs_background": "light"
     },
     "output_type": "display_data"
    }
   ],
   "source": [
    "sns.boxplot(x = \"No_Rooms\", y = 'AnnualPrice', data = df)"
   ]
  },
  {
   "cell_type": "markdown",
   "metadata": {},
   "source": [
    "There we go. Now it made sense - the more number of bedrooms an apartment unit has, the higher the annual rent price. However, there no apartment units which are priced way above the other units in the same category. Through evaluating outliers and checking on the source data, we have 'cleaned' the 'No_Rooms' feature for now. \n",
    "\n",
    "The last step taken for this feature column is grouping the categories of '4', '5', and '6'. There are only 3 units out of our more than 5000 rows which have 5 and 6 bedrooms, and that is not quite representative. \n",
    "\n",
    "Now, we might ask, why the new category (of units with 4 and more bedrooms) are given the value '4'? Shouldn't it be '4 and more'? \n",
    "\n",
    "Yes. It represents the number of bedrooms of 4 and more. However, this categorical variable will be treated as ordinal variable in the machine learning model. That's why we have to keep the values as integers. We'll just have to keep in our mind later when writing the final report, that the number '4' in No_Rooms feature not only represents units with 4 bedrooms, but also units with more than 4 bedrooms. "
   ]
  },
  {
   "cell_type": "markdown",
   "metadata": {},
   "source": [
    "#### Analyzing Location Feature Columns"
   ]
  },
  {
   "cell_type": "markdown",
   "metadata": {},
   "source": [
    "The next part of our features to be discussed are the columns which describe where our unit is on the map. There are four columns being discussed here - two which are categorical ('Locality' and 'Region'), as well as two continuous columns ('Longitude' and 'Latitude'). First let's look at the 'Region' columns."
   ]
  },
  {
   "cell_type": "code",
   "execution_count": 51,
   "metadata": {},
   "outputs": [
    {
     "data": {
      "text/plain": [
       "Jakarta Selatan    1512\n",
       "Jakarta Barat      1346\n",
       "Jakarta Pusat      1083\n",
       "Jakarta Utara       422\n",
       "Jakarta Timur       373\n",
       "Tangerang           322\n",
       "Bekasi              100\n",
       "Depok                68\n",
       "Bandung              33\n",
       "Surabaya             13\n",
       "Karawang              5\n",
       "Sumedang              4\n",
       "Bogor                 3\n",
       "Batam                 1\n",
       "Malang                1\n",
       "Semarang              1\n",
       "Makassar              1\n",
       "Jogjakarta            1\n",
       "Name: Region, dtype: int64"
      ]
     },
     "execution_count": 51,
     "metadata": {},
     "output_type": "execute_result"
    }
   ],
   "source": [
    "df.Region.value_counts()"
   ]
  },
  {
   "cell_type": "markdown",
   "metadata": {},
   "source": [
    "Whoa. Turns out the scraped pages also includes apartment units from outside Jakarta and its surroundings. To stay true to our problem statement, we'll remove regions outside 'Jabodetabek'. "
   ]
  },
  {
   "cell_type": "code",
   "execution_count": 52,
   "metadata": {},
   "outputs": [],
   "source": [
    "df = df[(df.Region == 'Jakarta Selatan') | (df.Region == 'Jakarta Barat') | (df.Region == 'Jakarta Pusat') | (df.Region == 'Jakarta Timur') | (df.Region == 'Jakarta Utara') | (df.Region == 'Tangerang') | (df.Region == 'Bekasi') | (df.Region == 'Depok') | (df.Region == 'Bogor')]"
   ]
  },
  {
   "cell_type": "markdown",
   "metadata": {},
   "source": [
    "Let's visualize the data using a boxplot again. Now, we're investigating if differences in regions affect annual rent price."
   ]
  },
  {
   "cell_type": "code",
   "execution_count": 53,
   "metadata": {},
   "outputs": [
    {
     "data": {
      "text/plain": [
       "<AxesSubplot:xlabel='Region', ylabel='AnnualPrice'>"
      ]
     },
     "execution_count": 53,
     "metadata": {},
     "output_type": "execute_result"
    },
    {
     "data": {
      "image/png": "[encoded data removed]",
      "text/plain": [
       "<Figure size 864x576 with 1 Axes>"
      ]
     },
     "metadata": {
      "needs_background": "light"
     },
     "output_type": "display_data"
    }
   ],
   "source": [
    "dims = (12,8)\n",
    "fig, ax = plt.subplots(figsize=dims)\n",
    "sns.boxplot(x = \"Region\", y = 'AnnualPrice', data = df, ax=ax)"
   ]
  },
  {
   "cell_type": "code",
   "execution_count": 54,
   "metadata": {},
   "outputs": [
    {
     "data": {
      "text/html": [
       "<div>\n",
       "<style scoped>\n",
       "    .dataframe tbody tr th:only-of-type {\n",
       "        vertical-align: middle;\n",
       "    }\n",
       "\n",
       "    .dataframe tbody tr th {\n",
       "        vertical-align: top;\n",
       "    }\n",
       "\n",
       "    .dataframe thead th {\n",
       "        text-align: right;\n",
       "    }\n",
       "</style>\n",
       "<table border=\"1\" class=\"dataframe\">\n",
       "  <thead>\n",
       "    <tr style=\"text-align: right;\">\n",
       "      <th></th>\n",
       "      <th>URL</th>\n",
       "      <th>AnnualPrice</th>\n",
       "    </tr>\n",
       "  </thead>\n",
       "  <tbody>\n",
       "    <tr>\n",
       "      <th>3601</th>\n",
       "      <td>https://jendela360.com/sewa-apartemen-st-moritz-apartment/stme008</td>\n",
       "      <td>1.000000e+09</td>\n",
       "    </tr>\n",
       "  </tbody>\n",
       "</table>\n",
       "</div>"
      ],
      "text/plain": [
       "                                                                    URL  \\\n",
       "3601  https://jendela360.com/sewa-apartemen-st-moritz-apartment/stme008   \n",
       "\n",
       "       AnnualPrice  \n",
       "3601  1.000000e+09  "
      ]
     },
     "execution_count": 54,
     "metadata": {},
     "output_type": "execute_result"
    }
   ],
   "source": [
    "JakBar = df['Region'] == 'Jakarta Barat'\n",
    "df[JakBar][['URL', 'AnnualPrice']].sort_values(by = ['AnnualPrice'], ascending=False).head(1)"
   ]
  },
  {
   "cell_type": "markdown",
   "metadata": {},
   "source": [
    "From the visualization, we can see that the region in DKI Jakarta with the highest average annual rent price is 'Jakarta Selatan', followed by 'Jakarta Pusat', 'Jakarta Barat', 'Jakarta Utara', and 'Jakarta Timur' consecutively. Regions outside Jakarta have lower average prices than regions inside Jakarta. This distribution makes sense, as it is quite a common knowledge for Jakartans to know that the region with the highest property price in Jakarta is 'Jakarta Selatan'. \n",
    "\n",
    "There seems to be an outlier in 'Jakarta Barat', but upon further checking - it's the only unit with 6 bedrooms, so the price reflects more of its number of rooms than its region. We will not remove this data point for now."
   ]
  },
  {
   "cell_type": "markdown",
   "metadata": {},
   "source": [
    "There are a few options on how we are going to use the locations columns in our model:\n",
    "\n",
    "Option 1: Uses one hot encoding on Region. This seems to be the go-to-solution if we wishes to make location a categorical variable. We'll divide the area into six major Regions - West, North, South, East, Center Jakarta, and outside Jakarta (we group Bogor, Depok, Tangerang, and Bekasi into one Region).\n",
    "\n",
    "Option 2: Uses one hot encoding on Locality. There are over 90 different local districts in this data set, and one hot encoding would mean that we'll have 90+ extra feature columns of zeros and ones. Furthermore, a lot of these local districts have only one apartment unit.\n",
    "\n",
    "Option 3: Uses the 'Longitude' and 'Latitude' column as continuous variables. This could be the case if we notice a pattern on the longitude and latitude data. We could also do clustering algorithm on longitude and latitude data. \n",
    "\n",
    "We'll look into the 'Longitude' and 'Latitude' columns first."
   ]
  },
  {
   "cell_type": "code",
   "execution_count": 55,
   "metadata": {},
   "outputs": [
    {
     "name": "stdout",
     "output_type": "stream",
     "text": [
      "object\n",
      "object\n"
     ]
    }
   ],
   "source": [
    "print(df.Longitude.dtype)\n",
    "print(df.Latitude.dtype)"
   ]
  },
  {
   "cell_type": "markdown",
   "metadata": {},
   "source": [
    "It seems that these two columns are classified as 'object' and not 'float' by Pandas. We need to transform them first."
   ]
  },
  {
   "cell_type": "code",
   "execution_count": 56,
   "metadata": {},
   "outputs": [],
   "source": [
    "df = df.reset_index(drop = True, inplace=False)\n",
    "Longitude_Float = list()\n",
    "Latitude_Float = list()\n",
    "\n",
    "for i in range(len(df.Index)):\n",
    "    Longitude_Float.append(float(df.Longitude[i]))\n",
    "    Latitude_Float.append(float(df.Latitude[i]))\n",
    "\n",
    "df.drop(['Longitude', 'Latitude'], axis = 'columns')\n",
    "df['Longitude'] = Longitude_Float\n",
    "df['Latitude'] = Latitude_Float"
   ]
  },
  {
   "cell_type": "code",
   "execution_count": 57,
   "metadata": {
    "scrolled": true
   },
   "outputs": [
    {
     "data": {
      "text/plain": [
       "<AxesSubplot:>"
      ]
     },
     "execution_count": 57,
     "metadata": {},
     "output_type": "execute_result"
    },
    {
     "data": {
      "image/png": "[encoded data removed]",
      "text/plain": [
       "<Figure size 432x288 with 1 Axes>"
      ]
     },
     "metadata": {
      "needs_background": "light"
     },
     "output_type": "display_data"
    }
   ],
   "source": [
    "df.Longitude.plot()"
   ]
  },
  {
   "cell_type": "markdown",
   "metadata": {},
   "source": [
    "After converting both columns to float, let's visualize each column to analyze if there are any outliers. As the geographical location chosen for this project is quite close to each other, there shouldn't be any outliers. The 'Longitude' dataset makes sense: all our apartment units have Longitude between 106.6 until 107.2."
   ]
  },
  {
   "cell_type": "code",
   "execution_count": 58,
   "metadata": {},
   "outputs": [
    {
     "data": {
      "text/plain": [
       "<AxesSubplot:>"
      ]
     },
     "execution_count": 58,
     "metadata": {},
     "output_type": "execute_result"
    },
    {
     "data": {
      "image/png": "[encoded data removed]",
      "text/plain": [
       "<Figure size 432x288 with 1 Axes>"
      ]
     },
     "metadata": {
      "needs_background": "light"
     },
     "output_type": "display_data"
    }
   ],
   "source": [
    "df.Latitude.plot()"
   ]
  },
  {
   "cell_type": "markdown",
   "metadata": {},
   "source": [
    "The 'Latitude' feature column, however, seems to have yet another issue related to an error in data entering. Most of the apartment units have Latitude around -6, which makes sense, as Jakarta (and its surrounding) are located slightly beneath the Equator. Howver, there are a few data points which have latitude of 6. This is suspicious as it could very well be a case of forgetting to add '-' (the negative sign) during data entry process for these apartment units. For now, let's assume this to be the case, and put a negative value on the latitude feature of these apartment units."
   ]
  },
  {
   "cell_type": "code",
   "execution_count": 59,
   "metadata": {},
   "outputs": [],
   "source": [
    "Latitude_fixed = [la if la<0 else -1*la for la in df.Latitude]\n",
    "df.drop(['Latitude'], axis = 'columns')\n",
    "df['Latitude'] = Latitude_fixed"
   ]
  },
  {
   "cell_type": "code",
   "execution_count": 60,
   "metadata": {},
   "outputs": [
    {
     "data": {
      "text/plain": [
       "<AxesSubplot:>"
      ]
     },
     "execution_count": 60,
     "metadata": {},
     "output_type": "execute_result"
    },
    {
     "data": {
      "image/png": "[encoded data removed]",
      "text/plain": [
       "<Figure size 432x288 with 1 Axes>"
      ]
     },
     "metadata": {
      "needs_background": "light"
     },
     "output_type": "display_data"
    }
   ],
   "source": [
    "df.Latitude.plot()"
   ]
  },
  {
   "cell_type": "markdown",
   "metadata": {},
   "source": [
    "This distribution made more sense as the value of 'Latitude' ranges from -6.6 to -6.1, not a big margin, and the three data points with the lowest 'Latitude' seems to be apartment units outside Jakarta (maybe in Bogor/Depok)."
   ]
  },
  {
   "cell_type": "markdown",
   "metadata": {},
   "source": [
    "#### Analyzing Furnished Status Feature Column\n",
    "\n",
    "Now, let's visualize and take a look at the two columns describing the furnished status of each apartment unit - the original 'Furnished', and our newly created 'FurnishedNew'. "
   ]
  },
  {
   "cell_type": "code",
   "execution_count": 61,
   "metadata": {},
   "outputs": [
    {
     "data": {
      "image/png": "[encoded data removed]",
      "text/plain": [
       "<Figure size 432x288 with 2 Axes>"
      ]
     },
     "metadata": {
      "needs_background": "light"
     },
     "output_type": "display_data"
    }
   ],
   "source": [
    "fig, (ax1, ax2) = plt.subplots(1, 2)\n",
    "sns.scatterplot(x = \"Furnished\", y = 'AnnualPrice', data = df, hue = 'No_Rooms', ax=ax1)\n",
    "sns.scatterplot(x = \"FurnishedNew\", y = 'AnnualPrice', data = df, hue = 'No_Rooms', ax=ax2)\n",
    "fig.tight_layout()"
   ]
  },
  {
   "cell_type": "markdown",
   "metadata": {},
   "source": [
    "There are two takeaways from this: first, the discrepancy between non-furnished and fully furnished apartment units' prices doesn't seem to be that big. Second, our new column, 'FeatureNew', shows that semi-furnished apartments have lower prices compared to non-furnished ones. \n",
    "\n",
    "What should we make of this? Our new feature column doesn't seem to work well - this might be because not all apartment units which are semi-furnished write that they are 'semi-furnished' in their page name. The population of 'semi-furnished' apartments may be much more than what was being labeled as 'Semi'. This explains two things: why adding an extra category doesn't work well, and why the discrepancy between '0' and '1' is not that far away from each other.\n",
    "\n",
    "This could indicate that 'Furnished' is not a good predictor for AnnualPrice, but we'll decide it later in the next feature engineering section."
   ]
  },
  {
   "cell_type": "markdown",
   "metadata": {},
   "source": [
    "#### Analyzing Floor Position of Apartment Units\n",
    "\n",
    "The feature column we're looking at this section is the 'Floor' column. We'll see if there are differences in annual rent price between units with different floor positions."
   ]
  },
  {
   "cell_type": "code",
   "execution_count": 62,
   "metadata": {},
   "outputs": [
    {
     "data": {
      "text/plain": [
       "<AxesSubplot:xlabel='Floor', ylabel='AnnualPrice'>"
      ]
     },
     "execution_count": 62,
     "metadata": {},
     "output_type": "execute_result"
    },
    {
     "data": {
      "image/png": "[encoded data removed]",
      "text/plain": [
       "<Figure size 432x288 with 1 Axes>"
      ]
     },
     "metadata": {
      "needs_background": "light"
     },
     "output_type": "display_data"
    }
   ],
   "source": [
    "sns.boxplot(x = \"Floor\", y = 'AnnualPrice', data = df)"
   ]
  },
  {
   "cell_type": "markdown",
   "metadata": {},
   "source": [
    "Not only the discrepancy among all floor locations seem to be miniscule, we also have quite a few apartment units with no labels of their floor location. For now, let's not use this categorical variable in our model."
   ]
  },
  {
   "cell_type": "code",
   "execution_count": 63,
   "metadata": {},
   "outputs": [],
   "source": [
    "df = df.drop(['Floor'], axis = 'columns')\n",
    "df = df.reset_index(drop = True, inplace=False)"
   ]
  },
  {
   "cell_type": "markdown",
   "metadata": {},
   "source": [
    "#### Analyzing Area of Units to AnnualPrice"
   ]
  },
  {
   "cell_type": "code",
   "execution_count": 64,
   "metadata": {},
   "outputs": [],
   "source": [
    "Area_Float = list()\n",
    "\n",
    "for i in range(len(df.Index)):\n",
    "    Area_Float.append(float(df.Area[i]))\n",
    "\n",
    "df.drop(['Area'], axis = 'columns')\n",
    "df['Area'] = Area_Float"
   ]
  },
  {
   "cell_type": "code",
   "execution_count": 65,
   "metadata": {},
   "outputs": [
    {
     "data": {
      "text/plain": [
       "<AxesSubplot:xlabel='Area', ylabel='AnnualPrice'>"
      ]
     },
     "execution_count": 65,
     "metadata": {},
     "output_type": "execute_result"
    },
    {
     "data": {
      "image/png": "[encoded data removed]",
      "text/plain": [
       "<Figure size 576x360 with 1 Axes>"
      ]
     },
     "metadata": {
      "needs_background": "light"
     },
     "output_type": "display_data"
    }
   ],
   "source": [
    "dims = (8,5)\n",
    "fig, ax = plt.subplots(figsize=dims)\n",
    "sns.scatterplot(x = \"Area\", y = 'AnnualPrice', data = df, hue = 'No_Rooms', ax=ax)"
   ]
  },
  {
   "cell_type": "markdown",
   "metadata": {},
   "source": [
    "Based on the above plot, we can see that the general trend is that AnnualPrice increases as Area increases. We also see that as number of bedrooms increases, area also increases. However, there are a few data points which are scattered far from the others that we need to investigate. They could be outliers and we should remove them."
   ]
  },
  {
   "cell_type": "code",
   "execution_count": 66,
   "metadata": {},
   "outputs": [
    {
     "data": {
      "text/html": [
       "<div>\n",
       "<style scoped>\n",
       "    .dataframe tbody tr th:only-of-type {\n",
       "        vertical-align: middle;\n",
       "    }\n",
       "\n",
       "    .dataframe tbody tr th {\n",
       "        vertical-align: top;\n",
       "    }\n",
       "\n",
       "    .dataframe thead th {\n",
       "        text-align: right;\n",
       "    }\n",
       "</style>\n",
       "<table border=\"1\" class=\"dataframe\">\n",
       "  <thead>\n",
       "    <tr style=\"text-align: right;\">\n",
       "      <th></th>\n",
       "      <th>URL</th>\n",
       "      <th>Area</th>\n",
       "    </tr>\n",
       "  </thead>\n",
       "  <tbody>\n",
       "    <tr>\n",
       "      <th>4784</th>\n",
       "      <td>https://jendela360.com/sewa-apartemen-the-accent-bintaro/tacc001</td>\n",
       "      <td>7781.0</td>\n",
       "    </tr>\n",
       "    <tr>\n",
       "      <th>4514</th>\n",
       "      <td>https://jendela360.com/sewa-apartemen-the-accent-bintaro/tacc002</td>\n",
       "      <td>7781.0</td>\n",
       "    </tr>\n",
       "    <tr>\n",
       "      <th>4731</th>\n",
       "      <td>https://jendela360.com/sewa-apartemen-kemang-village-apartment/kmvd027</td>\n",
       "      <td>2014.0</td>\n",
       "    </tr>\n",
       "    <tr>\n",
       "      <th>4947</th>\n",
       "      <td>https://jendela360.com/sewa-apartemen-maqna-residence/mqrd023</td>\n",
       "      <td>1138.0</td>\n",
       "    </tr>\n",
       "    <tr>\n",
       "      <th>3554</th>\n",
       "      <td>https://jendela360.com/sewa-apartemen-st-moritz-apartment/stme008</td>\n",
       "      <td>576.0</td>\n",
       "    </tr>\n",
       "    <tr>\n",
       "      <th>3587</th>\n",
       "      <td>https://jendela360.com/sewa-apartemen-ancol-mansion-apartment/anmd003</td>\n",
       "      <td>330.0</td>\n",
       "    </tr>\n",
       "    <tr>\n",
       "      <th>1087</th>\n",
       "      <td>https://jendela360.com/sewa-apartemen-st-moritz-apartment/stmd027</td>\n",
       "      <td>307.0</td>\n",
       "    </tr>\n",
       "    <tr>\n",
       "      <th>4323</th>\n",
       "      <td>https://jendela360.com/sewa-apartemen-nirvana-residence/nvn-e0001</td>\n",
       "      <td>303.0</td>\n",
       "    </tr>\n",
       "    <tr>\n",
       "      <th>1130</th>\n",
       "      <td>https://jendela360.com/sewa-apartemen-pakubuwono-residence/pkrd002</td>\n",
       "      <td>303.0</td>\n",
       "    </tr>\n",
       "    <tr>\n",
       "      <th>75</th>\n",
       "      <td>https://jendela360.com/sewa-apartemen-botanica-apartment/btcd001</td>\n",
       "      <td>288.0</td>\n",
       "    </tr>\n",
       "    <tr>\n",
       "      <th>1603</th>\n",
       "      <td>https://jendela360.com/sewa-apartemen-botanica-apartment/btcf006</td>\n",
       "      <td>288.0</td>\n",
       "    </tr>\n",
       "    <tr>\n",
       "      <th>2368</th>\n",
       "      <td>https://jendela360.com/sewa-apartemen-parama-apartment/pmce001</td>\n",
       "      <td>276.0</td>\n",
       "    </tr>\n",
       "  </tbody>\n",
       "</table>\n",
       "</div>"
      ],
      "text/plain": [
       "                                                                         URL  \\\n",
       "4784        https://jendela360.com/sewa-apartemen-the-accent-bintaro/tacc001   \n",
       "4514        https://jendela360.com/sewa-apartemen-the-accent-bintaro/tacc002   \n",
       "4731  https://jendela360.com/sewa-apartemen-kemang-village-apartment/kmvd027   \n",
       "4947           https://jendela360.com/sewa-apartemen-maqna-residence/mqrd023   \n",
       "3554       https://jendela360.com/sewa-apartemen-st-moritz-apartment/stme008   \n",
       "3587   https://jendela360.com/sewa-apartemen-ancol-mansion-apartment/anmd003   \n",
       "1087       https://jendela360.com/sewa-apartemen-st-moritz-apartment/stmd027   \n",
       "4323       https://jendela360.com/sewa-apartemen-nirvana-residence/nvn-e0001   \n",
       "1130      https://jendela360.com/sewa-apartemen-pakubuwono-residence/pkrd002   \n",
       "75          https://jendela360.com/sewa-apartemen-botanica-apartment/btcd001   \n",
       "1603        https://jendela360.com/sewa-apartemen-botanica-apartment/btcf006   \n",
       "2368          https://jendela360.com/sewa-apartemen-parama-apartment/pmce001   \n",
       "\n",
       "        Area  \n",
       "4784  7781.0  \n",
       "4514  7781.0  \n",
       "4731  2014.0  \n",
       "4947  1138.0  \n",
       "3554   576.0  \n",
       "3587   330.0  \n",
       "1087   307.0  \n",
       "4323   303.0  \n",
       "1130   303.0  \n",
       "75     288.0  \n",
       "1603   288.0  \n",
       "2368   276.0  "
      ]
     },
     "execution_count": 66,
     "metadata": {},
     "output_type": "execute_result"
    }
   ],
   "source": [
    "df[['URL', 'Area']].sort_values(by=['Area'], ascending = False).head(12)"
   ]
  },
  {
   "cell_type": "markdown",
   "metadata": {},
   "source": [
    "There are six apartment units with areas above 500 meter squared. That's a huge apartment unit - two of them even reaches more than seven thousand meter squared. These units are not what in most people's mind when they're looking to rent an apartment unit - as these units come in the form of condominium or penthouse. We'll be removing these six units from our data set. In the deployment stage of this machine learning model, we'll limit the maximum Area to be 350 meter squared, as that is already a very big apartment unit."
   ]
  },
  {
   "cell_type": "code",
   "execution_count": 67,
   "metadata": {},
   "outputs": [],
   "source": [
    "i = df[((df.Unit_ID == 'tacc001'))].index\n",
    "df = df.drop(i)\n",
    "\n",
    "i = df[((df.Unit_ID == 'tacc002'))].index\n",
    "df = df.drop(i)\n",
    "\n",
    "i = df[((df.Unit_ID == 'kmvd027'))].index\n",
    "df = df.drop(i)\n",
    "\n",
    "i = df[((df.Unit_ID == 'mqrd023'))].index\n",
    "df = df.drop(i)\n",
    "\n",
    "i = df[((df.Unit_ID == 'csbe001'))].index\n",
    "df = df.drop(i)\n",
    "\n",
    "i = df[((df.Unit_ID == 'stme008'))].index\n",
    "df = df.drop(i)"
   ]
  },
  {
   "cell_type": "code",
   "execution_count": 68,
   "metadata": {},
   "outputs": [
    {
     "data": {
      "text/plain": [
       "(5224, 38)"
      ]
     },
     "execution_count": 68,
     "metadata": {},
     "output_type": "execute_result"
    }
   ],
   "source": [
    "df = df.reset_index(drop = True, inplace=False)\n",
    "df.shape"
   ]
  },
  {
   "cell_type": "code",
   "execution_count": 69,
   "metadata": {
    "scrolled": true
   },
   "outputs": [
    {
     "data": {
      "text/plain": [
       "<AxesSubplot:xlabel='Area', ylabel='AnnualPrice'>"
      ]
     },
     "execution_count": 69,
     "metadata": {},
     "output_type": "execute_result"
    },
    {
     "data": {
      "image/png": "[encoded data removed]",
      "text/plain": [
       "<Figure size 576x360 with 1 Axes>"
      ]
     },
     "metadata": {
      "needs_background": "light"
     },
     "output_type": "display_data"
    }
   ],
   "source": [
    "dims = (8,5)\n",
    "fig, ax = plt.subplots(figsize=dims)\n",
    "sns.scatterplot(x = \"Area\", y = 'AnnualPrice', data = df, hue = 'No_Rooms', ax=ax)"
   ]
  },
  {
   "cell_type": "markdown",
   "metadata": {},
   "source": [
    "This visualization made more sense as there are no far outliers. However, something we notice is that there are some apartment units which are listed as having 0 Area. We'll simply remove these units as it's impossible for apartment units to have 0 meter squared of area. We'll consider than 20 meter squared is the minimum apartment unit area. \n",
    "\n",
    "We'll be also removing apartments with more than 250 meter squared because they don't seem to be that common, and most people's preferences are apartments below 200 meter squared."
   ]
  },
  {
   "cell_type": "code",
   "execution_count": 70,
   "metadata": {},
   "outputs": [],
   "source": [
    "df = df[df['Area']>20]\n",
    "df = df[df['Area']<250]"
   ]
  },
  {
   "cell_type": "code",
   "execution_count": 71,
   "metadata": {},
   "outputs": [
    {
     "data": {
      "text/plain": [
       "Index(['Index', 'URL', 'Unit_ID', 'No_Rooms', 'Bathroom', 'Locality', 'Region',\n",
       "       'Longitude', 'Latitude', 'Furnished', 'Area', 'AC', 'Water_Heater',\n",
       "       'Dining_Set', 'Electricity', 'Bed', 'Access_Card', 'Kitchen', 'Fridge',\n",
       "       'Washing_Machine', 'TV', 'ATM', 'TV_Cable', 'Grocery', 'Internet',\n",
       "       'Swim_Pool', 'Laundry', 'Security', 'Basketball', 'Multipurpose_Room',\n",
       "       'Gym', 'Jogging', 'Tennis', 'Restaurant', 'Playground',\n",
       "       'Total_Facilities', 'AnnualPrice', 'FurnishedNew'],\n",
       "      dtype='object')"
      ]
     },
     "execution_count": 71,
     "metadata": {},
     "output_type": "execute_result"
    }
   ],
   "source": [
    "df.columns"
   ]
  },
  {
   "cell_type": "markdown",
   "metadata": {},
   "source": [
    "#### Checking Categorical Facility Features\n",
    "\n",
    "Our last sets of features are the facilities that each unit has. During the web scraping process, I added a column in which it counts how many of these features that the unit has, and store them in a column called 'Total_Facilities'. Let's first take a look at this column, before diving into other facilities one-by-one."
   ]
  },
  {
   "cell_type": "code",
   "execution_count": 72,
   "metadata": {},
   "outputs": [
    {
     "data": {
      "text/plain": [
       "<AxesSubplot:xlabel='Total_Facilities'>"
      ]
     },
     "execution_count": 72,
     "metadata": {},
     "output_type": "execute_result"
    },
    {
     "data": {
      "image/png": "[encoded data removed]",
      "text/plain": [
       "<Figure size 432x288 with 1 Axes>"
      ]
     },
     "metadata": {
      "needs_background": "light"
     },
     "output_type": "display_data"
    }
   ],
   "source": [
    "Facilities_Int = list()\n",
    "for i, count in enumerate(df.Total_Facilities):\n",
    "    Facilities_Int.append(int(count))\n",
    "\n",
    "df.drop(['Total_Facilities'], axis = 'columns')\n",
    "df['Total_Facilities'] = Facilities_Int\n",
    "\n",
    "sns.boxplot(x=\"Total_Facilities\", data = df)"
   ]
  },
  {
   "cell_type": "code",
   "execution_count": 73,
   "metadata": {},
   "outputs": [
    {
     "data": {
      "text/plain": [
       "<AxesSubplot:xlabel='Total_Facilities', ylabel='AnnualPrice'>"
      ]
     },
     "execution_count": 73,
     "metadata": {},
     "output_type": "execute_result"
    },
    {
     "data": {
      "image/png": "[encoded data removed]",
      "text/plain": [
       "<Figure size 432x288 with 1 Axes>"
      ]
     },
     "metadata": {
      "needs_background": "light"
     },
     "output_type": "display_data"
    }
   ],
   "source": [
    "sns.scatterplot(x=\"Total_Facilities\", y = \"AnnualPrice\", data = df)"
   ]
  },
  {
   "cell_type": "markdown",
   "metadata": {},
   "source": [
    "It seems that most apartment units have at least 10 facilities. The more facilities a unit has, the higher its rent price is. Let's take a look at the units which has features less than 10, and see if they actually have less than 10 features, or there are some errors here."
   ]
  },
  {
   "cell_type": "code",
   "execution_count": 74,
   "metadata": {
    "scrolled": true
   },
   "outputs": [
    {
     "data": {
      "text/html": [
       "<div>\n",
       "<style scoped>\n",
       "    .dataframe tbody tr th:only-of-type {\n",
       "        vertical-align: middle;\n",
       "    }\n",
       "\n",
       "    .dataframe tbody tr th {\n",
       "        vertical-align: top;\n",
       "    }\n",
       "\n",
       "    .dataframe thead th {\n",
       "        text-align: right;\n",
       "    }\n",
       "</style>\n",
       "<table border=\"1\" class=\"dataframe\">\n",
       "  <thead>\n",
       "    <tr style=\"text-align: right;\">\n",
       "      <th></th>\n",
       "      <th>URL</th>\n",
       "      <th>Total_Facilities</th>\n",
       "      <th>AnnualPrice</th>\n",
       "      <th>Furnished</th>\n",
       "    </tr>\n",
       "  </thead>\n",
       "  <tbody>\n",
       "    <tr>\n",
       "      <th>2974</th>\n",
       "      <td>https://jendela360.com/sewa-apartemen-skyline-paramount-serpong/spsa001</td>\n",
       "      <td>0</td>\n",
       "      <td>45000000.0</td>\n",
       "      <td>1</td>\n",
       "    </tr>\n",
       "    <tr>\n",
       "      <th>3172</th>\n",
       "      <td>https://jendela360.com/sewa-apartemen-amartapura-apartment/amtd001</td>\n",
       "      <td>1</td>\n",
       "      <td>50000000.0</td>\n",
       "      <td>0</td>\n",
       "    </tr>\n",
       "    <tr>\n",
       "      <th>1284</th>\n",
       "      <td>https://jendela360.com/sewa-apartemen-tree-park-bsd/tpba002</td>\n",
       "      <td>2</td>\n",
       "      <td>25000000.0</td>\n",
       "      <td>0</td>\n",
       "    </tr>\n",
       "    <tr>\n",
       "      <th>970</th>\n",
       "      <td>https://jendela360.com/sewa-apartemen-parama-apartment/pmcd002</td>\n",
       "      <td>3</td>\n",
       "      <td>175000000.0</td>\n",
       "      <td>1</td>\n",
       "    </tr>\n",
       "    <tr>\n",
       "      <th>349</th>\n",
       "      <td>https://jendela360.com/sewa-apartemen-parama-apartment/pmcd003</td>\n",
       "      <td>3</td>\n",
       "      <td>170000000.0</td>\n",
       "      <td>1</td>\n",
       "    </tr>\n",
       "    <tr>\n",
       "      <th>4282</th>\n",
       "      <td>https://jendela360.com/sewa-apartemen-parama-apartment/pmcd001</td>\n",
       "      <td>3</td>\n",
       "      <td>162000000.0</td>\n",
       "      <td>0</td>\n",
       "    </tr>\n",
       "    <tr>\n",
       "      <th>4096</th>\n",
       "      <td>https://jendela360.com/sewa-apartemen-vittoria-residence/vtrc005</td>\n",
       "      <td>4</td>\n",
       "      <td>40000000.0</td>\n",
       "      <td>0</td>\n",
       "    </tr>\n",
       "    <tr>\n",
       "      <th>991</th>\n",
       "      <td>https://jendela360.com/sewa-apartemen-puri-mansion/puma051</td>\n",
       "      <td>4</td>\n",
       "      <td>40000000.0</td>\n",
       "      <td>0</td>\n",
       "    </tr>\n",
       "    <tr>\n",
       "      <th>4880</th>\n",
       "      <td>https://jendela360.com/sewa-apartemen-taman-anggrek-residence/trsb126</td>\n",
       "      <td>5</td>\n",
       "      <td>60000000.0</td>\n",
       "      <td>1</td>\n",
       "    </tr>\n",
       "    <tr>\n",
       "      <th>515</th>\n",
       "      <td>https://jendela360.com/sewa-apartemen-kebayoran-icon-apartment/ikaa001</td>\n",
       "      <td>5</td>\n",
       "      <td>72000000.0</td>\n",
       "      <td>1</td>\n",
       "    </tr>\n",
       "  </tbody>\n",
       "</table>\n",
       "</div>"
      ],
      "text/plain": [
       "                                                                          URL  \\\n",
       "2974  https://jendela360.com/sewa-apartemen-skyline-paramount-serpong/spsa001   \n",
       "3172       https://jendela360.com/sewa-apartemen-amartapura-apartment/amtd001   \n",
       "1284              https://jendela360.com/sewa-apartemen-tree-park-bsd/tpba002   \n",
       "970            https://jendela360.com/sewa-apartemen-parama-apartment/pmcd002   \n",
       "349            https://jendela360.com/sewa-apartemen-parama-apartment/pmcd003   \n",
       "4282           https://jendela360.com/sewa-apartemen-parama-apartment/pmcd001   \n",
       "4096         https://jendela360.com/sewa-apartemen-vittoria-residence/vtrc005   \n",
       "991                https://jendela360.com/sewa-apartemen-puri-mansion/puma051   \n",
       "4880    https://jendela360.com/sewa-apartemen-taman-anggrek-residence/trsb126   \n",
       "515    https://jendela360.com/sewa-apartemen-kebayoran-icon-apartment/ikaa001   \n",
       "\n",
       "      Total_Facilities  AnnualPrice Furnished  \n",
       "2974                 0   45000000.0         1  \n",
       "3172                 1   50000000.0         0  \n",
       "1284                 2   25000000.0         0  \n",
       "970                  3  175000000.0         1  \n",
       "349                  3  170000000.0         1  \n",
       "4282                 3  162000000.0         0  \n",
       "4096                 4   40000000.0         0  \n",
       "991                  4   40000000.0         0  \n",
       "4880                 5   60000000.0         1  \n",
       "515                  5   72000000.0         1  "
      ]
     },
     "execution_count": 74,
     "metadata": {},
     "output_type": "execute_result"
    }
   ],
   "source": [
    "df[['URL', 'Total_Facilities', 'AnnualPrice', 'Furnished']].sort_values(by = ['Total_Facilities'], ascending = True).head(10)"
   ]
  },
  {
   "cell_type": "markdown",
   "metadata": {},
   "source": [
    "The apartment units with low Total_Facilities tend to be Non-Furnished units. However, there's an oddball here - the unit with 0 'Total_Facilities' is a fully-furnished unit! Upon further investigation, based on the photos of the room, there are indeed facilities and it might be some errors in inputing the data (or the unit owner/seller does not describe the facilities fully). We are going to remove that unit from our dataset. As for the other fully-furnished unit with only 3 total facilities, the page and pictures show that it is indeed quite a blank unit. There are beds and sofas - but there is no fancy facilities like TV or Internet. "
   ]
  },
  {
   "cell_type": "code",
   "execution_count": 75,
   "metadata": {},
   "outputs": [],
   "source": [
    "i = df[((df.Unit_ID == 'spsa001'))].index\n",
    "df = df.drop(i)\n",
    "df = df.reset_index(drop = True, inplace=False)"
   ]
  },
  {
   "cell_type": "markdown",
   "metadata": {},
   "source": [
    "Next, we are going to draw boxplots of each facilities. To recall, if a facility is present in a unit, it will has value '1', if not, it will have the value of '0'. We would like to see if the presence of these facilities impact the annual rent price of apartment units. We'll remove facilities whose existence (or inexistence) does not impact the annual rent price. "
   ]
  },
  {
   "cell_type": "code",
   "execution_count": 76,
   "metadata": {},
   "outputs": [
    {
     "data": {
      "image/png": "[encoded data removed]",
      "text/plain": [
       "<Figure size 432x288 with 2 Axes>"
      ]
     },
     "metadata": {
      "needs_background": "light"
     },
     "output_type": "display_data"
    }
   ],
   "source": [
    "fig, (ax1, ax2) = plt.subplots(1, 2)\n",
    "sns.scatterplot(x = \"Furnished\", y = 'AnnualPrice', data = df, hue = 'No_Rooms', ax=ax1)\n",
    "sns.scatterplot(x = \"FurnishedNew\", y = 'AnnualPrice', data = df, hue = 'No_Rooms', ax=ax2)\n",
    "fig.tight_layout()"
   ]
  },
  {
   "cell_type": "code",
   "execution_count": 77,
   "metadata": {},
   "outputs": [
    {
     "data": {
      "image/png": "[encoded data removed]",
      "text/plain": [
       "<Figure size 1080x1800 with 24 Axes>"
      ]
     },
     "metadata": {
      "needs_background": "light"
     },
     "output_type": "display_data"
    }
   ],
   "source": [
    "fig, ((ax1, ax2, ax3, ax4), (ax5, ax6, ax7, ax8),\n",
    "     (ax9, ax10, ax11, ax12), (ax13, ax14, ax15, ax16),\n",
    "     (ax17, ax18, ax19, ax20), (ax21, ax22, ax23, ax24)) = plt.subplots(6, 4, figsize = (15,25))\n",
    "fig.suptitle('Facilities and AnnualPrice Visualization')\n",
    "for i, ax in enumerate(fig.get_axes()):\n",
    "    column = df.columns[i+11]\n",
    "    sns.boxplot(x = column, y = 'AnnualPrice', data = df, ax = ax)"
   ]
  },
  {
   "cell_type": "markdown",
   "metadata": {},
   "source": [
    "Based on the visualization above, for each facilities, the trend is clear - the presence of facilities affects the unit annual rent price positively. This proves to be quite troublesome when we want to do feature selection - we don't know which facility is less important than the other. We'll keep most facilities for the most part, but we'll reomve two of them right away - 'Electricity' and 'Access Card'. Why? Because most apartment units have them - it's not a 'facility' anymore - it is a necessity. There are 300-400 apartments which are listed as having no 'Electricity', but it doesn't really make sense. We do this because we are thinking about the deployment phase of our model. Our future users won't choose to have an apartment unit without 'Electricity' or 'Access Card'.\n",
    "\n",
    "This concludes our first part. To recap, we have:\n",
    "- removed uninsightful columns\n",
    "- checked and removed outliers\n",
    "- fixed abnormal data (latitude and misused currency)\n",
    "- visualize features\n",
    "\n",
    "We also now have a rough understanding on the annual rent price of apartment units in Jakarta: the most expensive apartments are usually found at Jakarta Selatan - and the more area a unit occupies, the more bedrooms & facilities it has, the higher its annual rent price is. \n",
    "\n",
    "In the next part, we are going to:\n",
    "- scale numerical features\n",
    "- split the dataset into testing and training set\n",
    "- create and evaluate baseline model\n",
    "- conduct feature engineering based on the feedback gained on baseline model\n",
    "- test new models and decide which model is the best"
   ]
  },
  {
   "cell_type": "code",
   "execution_count": null,
   "metadata": {},
   "outputs": [],
   "source": []
  },
  {
   "cell_type": "code",
   "execution_count": 78,
   "metadata": {},
   "outputs": [],
   "source": [
    "df.to_csv('Cleaned Apartment Data.csv')"
   ]
  },
  {
   "cell_type": "code",
   "execution_count": null,
   "metadata": {},
   "outputs": [],
   "source": []
  },
  {
   "cell_type": "code",
   "execution_count": null,
   "metadata": {},
   "outputs": [],
   "source": []
  },
  {
   "cell_type": "code",
   "execution_count": null,
   "metadata": {},
   "outputs": [],
   "source": []
  },
  {
   "cell_type": "code",
   "execution_count": null,
   "metadata": {},
   "outputs": [],
   "source": []
  }
 ],
 "metadata": {
  "celltoolbar": "Raw Cell Format",
  "kernelspec": {
   "display_name": "Python 3",
   "language": "python",
   "name": "python3"
  },
  "language_info": {
   "codemirror_mode": {
    "name": "ipython",
    "version": 3
   },
   "file_extension": ".py",
   "mimetype": "text/x-python",
   "name": "python",
   "nbconvert_exporter": "python",
   "pygments_lexer": "ipython3",
   "version": "3.8.4"
  }
 },
 "nbformat": 4,
 "nbformat_minor": 4
}
