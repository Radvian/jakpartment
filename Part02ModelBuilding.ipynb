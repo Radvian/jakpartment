{
 "cells": [
  {
   "cell_type": "markdown",
   "metadata": {},
   "source": [
    "# Part 2: Feature Engineering and Modelling"
   ]
  },
  {
   "cell_type": "markdown",
   "metadata": {},
   "source": [
    "## Introduction\n",
    "\n",
    "Welcome to the second notebook where we use the scraped Jakarta Apartment Dataset. In this notebook, we will use the cleaned data from our previous notebook to create and evaluate regression models to predict the annual rent price rate of apartments in Jakarta and its surrounding. \n",
    "\n",
    "First, we'll analyze the numerical features of our dataset and check if the data has to be scaled and/or if the data has multicolinearity issues. Then, we'll create a baseline model. After that, the baseline model will be evaluated, and further feature engineerings will be done to improve our initial model. Finally, we'll evaluate our models and choose the best model."
   ]
  },
  {
   "cell_type": "markdown",
   "metadata": {},
   "source": [
    "## Importing Packages"
   ]
  },
  {
   "cell_type": "code",
   "execution_count": 1,
   "metadata": {},
   "outputs": [],
   "source": [
    "# Essentials\n",
    "import numpy as np\n",
    "import pandas as pd\n",
    "from pandas.core.common import SettingWithCopyWarning\n",
    "import warnings\n",
    "warnings.simplefilter(action=\"ignore\", category=SettingWithCopyWarning)\n",
    "import datetime\n",
    "import random\n",
    "\n",
    "# Plots\n",
    "import matplotlib.pyplot as plt\n",
    "import seaborn as sns\n",
    "%matplotlib inline\n",
    "\n",
    "# Models\n",
    "import sklearn\n",
    "from sklearn.exceptions import DataConversionWarning\n",
    "warnings.filterwarnings(action='ignore', category=DataConversionWarning)\n",
    "from sklearn.ensemble import RandomForestRegressor\n",
    "from sklearn.linear_model import LinearRegression\n",
    "\n",
    "import lightgbm as lgb\n",
    "from lightgbm import LGBMRegressor\n",
    "warnings.filterwarnings(action='ignore', category = UserWarning)\n",
    "from xgboost.sklearn import XGBRegressor\n",
    "\n",
    "# Misc\n",
    "from sklearn.model_selection import RandomizedSearchCV\n",
    "from sklearn.model_selection import KFold, cross_val_score\n",
    "from sklearn.metrics import mean_squared_error\n",
    "from sklearn.preprocessing import OneHotEncoder\n",
    "from sklearn.preprocessing import LabelEncoder\n",
    "from sklearn.pipeline import make_pipeline\n",
    "from sklearn.preprocessing import scale\n",
    "from sklearn.preprocessing import StandardScaler"
   ]
  },
  {
   "cell_type": "markdown",
   "metadata": {},
   "source": [
    "## Importing the Cleaned Data"
   ]
  },
  {
   "cell_type": "code",
   "execution_count": 5,
   "metadata": {},
   "outputs": [],
   "source": [
    "df_clean = pd.read_csv('Cleaned Apartment Data.csv')"
   ]
  },
  {
   "cell_type": "code",
   "execution_count": 6,
   "metadata": {},
   "outputs": [],
   "source": [
    "df_clean = df_clean.drop(['Unnamed: 0', 'URL', 'Unit_ID', 'FurnishedNew'], axis = 'columns')"
   ]
  },
  {
   "cell_type": "code",
   "execution_count": 7,
   "metadata": {
    "scrolled": true
   },
   "outputs": [
    {
     "data": {
      "text/html": [
       "<div>\n",
       "<style scoped>\n",
       "    .dataframe tbody tr th:only-of-type {\n",
       "        vertical-align: middle;\n",
       "    }\n",
       "\n",
       "    .dataframe tbody tr th {\n",
       "        vertical-align: top;\n",
       "    }\n",
       "\n",
       "    .dataframe thead th {\n",
       "        text-align: right;\n",
       "    }\n",
       "</style>\n",
       "<table border=\"1\" class=\"dataframe\">\n",
       "  <thead>\n",
       "    <tr style=\"text-align: right;\">\n",
       "      <th></th>\n",
       "      <th>No_Rooms</th>\n",
       "      <th>Bathroom</th>\n",
       "      <th>Locality</th>\n",
       "      <th>Region</th>\n",
       "      <th>Longitude</th>\n",
       "      <th>Latitude</th>\n",
       "      <th>Furnished</th>\n",
       "      <th>Area</th>\n",
       "      <th>AC</th>\n",
       "      <th>Water_Heater</th>\n",
       "      <th>...</th>\n",
       "      <th>Security</th>\n",
       "      <th>Basketball</th>\n",
       "      <th>Multipurpose_Room</th>\n",
       "      <th>Gym</th>\n",
       "      <th>Jogging</th>\n",
       "      <th>Tennis</th>\n",
       "      <th>Restaurant</th>\n",
       "      <th>Playground</th>\n",
       "      <th>Total_Facilities</th>\n",
       "      <th>AnnualPrice</th>\n",
       "    </tr>\n",
       "  </thead>\n",
       "  <tbody>\n",
       "    <tr>\n",
       "      <th>0</th>\n",
       "      <td>1</td>\n",
       "      <td>1</td>\n",
       "      <td>Semanggi</td>\n",
       "      <td>Jakarta Selatan</td>\n",
       "      <td>106.819159</td>\n",
       "      <td>-6.226598</td>\n",
       "      <td>1</td>\n",
       "      <td>43.0</td>\n",
       "      <td>1</td>\n",
       "      <td>1</td>\n",
       "      <td>...</td>\n",
       "      <td>1</td>\n",
       "      <td>1</td>\n",
       "      <td>1</td>\n",
       "      <td>1</td>\n",
       "      <td>1</td>\n",
       "      <td>1</td>\n",
       "      <td>1</td>\n",
       "      <td>1</td>\n",
       "      <td>23</td>\n",
       "      <td>96000000</td>\n",
       "    </tr>\n",
       "    <tr>\n",
       "      <th>1</th>\n",
       "      <td>2</td>\n",
       "      <td>1</td>\n",
       "      <td>Kebon Jeruk</td>\n",
       "      <td>Jakarta Barat</td>\n",
       "      <td>106.756061</td>\n",
       "      <td>-6.192081</td>\n",
       "      <td>0</td>\n",
       "      <td>35.0</td>\n",
       "      <td>1</td>\n",
       "      <td>0</td>\n",
       "      <td>...</td>\n",
       "      <td>1</td>\n",
       "      <td>0</td>\n",
       "      <td>1</td>\n",
       "      <td>1</td>\n",
       "      <td>1</td>\n",
       "      <td>0</td>\n",
       "      <td>1</td>\n",
       "      <td>1</td>\n",
       "      <td>19</td>\n",
       "      <td>30000000</td>\n",
       "    </tr>\n",
       "    <tr>\n",
       "      <th>2</th>\n",
       "      <td>2</td>\n",
       "      <td>1</td>\n",
       "      <td>Kedoya</td>\n",
       "      <td>Jakarta Barat</td>\n",
       "      <td>106.757651</td>\n",
       "      <td>-6.186415</td>\n",
       "      <td>1</td>\n",
       "      <td>53.0</td>\n",
       "      <td>1</td>\n",
       "      <td>1</td>\n",
       "      <td>...</td>\n",
       "      <td>1</td>\n",
       "      <td>0</td>\n",
       "      <td>1</td>\n",
       "      <td>1</td>\n",
       "      <td>1</td>\n",
       "      <td>0</td>\n",
       "      <td>1</td>\n",
       "      <td>1</td>\n",
       "      <td>22</td>\n",
       "      <td>70000000</td>\n",
       "    </tr>\n",
       "    <tr>\n",
       "      <th>3</th>\n",
       "      <td>2</td>\n",
       "      <td>2</td>\n",
       "      <td>Pondok Indah</td>\n",
       "      <td>Jakarta Selatan</td>\n",
       "      <td>106.784600</td>\n",
       "      <td>-6.272637</td>\n",
       "      <td>1</td>\n",
       "      <td>85.0</td>\n",
       "      <td>1</td>\n",
       "      <td>1</td>\n",
       "      <td>...</td>\n",
       "      <td>1</td>\n",
       "      <td>1</td>\n",
       "      <td>1</td>\n",
       "      <td>1</td>\n",
       "      <td>1</td>\n",
       "      <td>1</td>\n",
       "      <td>1</td>\n",
       "      <td>1</td>\n",
       "      <td>24</td>\n",
       "      <td>576000000</td>\n",
       "    </tr>\n",
       "    <tr>\n",
       "      <th>4</th>\n",
       "      <td>2</td>\n",
       "      <td>1</td>\n",
       "      <td>Grogol</td>\n",
       "      <td>Jakarta Barat</td>\n",
       "      <td>106.796056</td>\n",
       "      <td>-6.153652</td>\n",
       "      <td>0</td>\n",
       "      <td>48.0</td>\n",
       "      <td>1</td>\n",
       "      <td>0</td>\n",
       "      <td>...</td>\n",
       "      <td>1</td>\n",
       "      <td>0</td>\n",
       "      <td>1</td>\n",
       "      <td>1</td>\n",
       "      <td>0</td>\n",
       "      <td>0</td>\n",
       "      <td>1</td>\n",
       "      <td>1</td>\n",
       "      <td>15</td>\n",
       "      <td>32000000</td>\n",
       "    </tr>\n",
       "    <tr>\n",
       "      <th>...</th>\n",
       "      <td>...</td>\n",
       "      <td>...</td>\n",
       "      <td>...</td>\n",
       "      <td>...</td>\n",
       "      <td>...</td>\n",
       "      <td>...</td>\n",
       "      <td>...</td>\n",
       "      <td>...</td>\n",
       "      <td>...</td>\n",
       "      <td>...</td>\n",
       "      <td>...</td>\n",
       "      <td>...</td>\n",
       "      <td>...</td>\n",
       "      <td>...</td>\n",
       "      <td>...</td>\n",
       "      <td>...</td>\n",
       "      <td>...</td>\n",
       "      <td>...</td>\n",
       "      <td>...</td>\n",
       "      <td>...</td>\n",
       "      <td>...</td>\n",
       "    </tr>\n",
       "    <tr>\n",
       "      <th>5142</th>\n",
       "      <td>2</td>\n",
       "      <td>1</td>\n",
       "      <td>Pekayon</td>\n",
       "      <td>Bekasi</td>\n",
       "      <td>106.993400</td>\n",
       "      <td>-6.243400</td>\n",
       "      <td>1</td>\n",
       "      <td>36.0</td>\n",
       "      <td>1</td>\n",
       "      <td>0</td>\n",
       "      <td>...</td>\n",
       "      <td>0</td>\n",
       "      <td>0</td>\n",
       "      <td>0</td>\n",
       "      <td>0</td>\n",
       "      <td>0</td>\n",
       "      <td>0</td>\n",
       "      <td>0</td>\n",
       "      <td>1</td>\n",
       "      <td>14</td>\n",
       "      <td>36000000</td>\n",
       "    </tr>\n",
       "    <tr>\n",
       "      <th>5143</th>\n",
       "      <td>0</td>\n",
       "      <td>1</td>\n",
       "      <td>BSD City</td>\n",
       "      <td>Tangerang</td>\n",
       "      <td>106.664000</td>\n",
       "      <td>-6.294400</td>\n",
       "      <td>1</td>\n",
       "      <td>32.0</td>\n",
       "      <td>1</td>\n",
       "      <td>1</td>\n",
       "      <td>...</td>\n",
       "      <td>1</td>\n",
       "      <td>0</td>\n",
       "      <td>1</td>\n",
       "      <td>1</td>\n",
       "      <td>0</td>\n",
       "      <td>0</td>\n",
       "      <td>0</td>\n",
       "      <td>1</td>\n",
       "      <td>16</td>\n",
       "      <td>60000000</td>\n",
       "    </tr>\n",
       "    <tr>\n",
       "      <th>5144</th>\n",
       "      <td>2</td>\n",
       "      <td>1</td>\n",
       "      <td>Setiabudi</td>\n",
       "      <td>Jakarta Selatan</td>\n",
       "      <td>106.829330</td>\n",
       "      <td>-6.216540</td>\n",
       "      <td>1</td>\n",
       "      <td>83.0</td>\n",
       "      <td>1</td>\n",
       "      <td>1</td>\n",
       "      <td>...</td>\n",
       "      <td>1</td>\n",
       "      <td>0</td>\n",
       "      <td>1</td>\n",
       "      <td>1</td>\n",
       "      <td>1</td>\n",
       "      <td>0</td>\n",
       "      <td>1</td>\n",
       "      <td>1</td>\n",
       "      <td>21</td>\n",
       "      <td>250000000</td>\n",
       "    </tr>\n",
       "    <tr>\n",
       "      <th>5145</th>\n",
       "      <td>2</td>\n",
       "      <td>1</td>\n",
       "      <td>Slipi</td>\n",
       "      <td>Jakarta Pusat</td>\n",
       "      <td>106.801738</td>\n",
       "      <td>-6.202296</td>\n",
       "      <td>1</td>\n",
       "      <td>68.0</td>\n",
       "      <td>1</td>\n",
       "      <td>1</td>\n",
       "      <td>...</td>\n",
       "      <td>1</td>\n",
       "      <td>1</td>\n",
       "      <td>1</td>\n",
       "      <td>1</td>\n",
       "      <td>1</td>\n",
       "      <td>1</td>\n",
       "      <td>1</td>\n",
       "      <td>1</td>\n",
       "      <td>24</td>\n",
       "      <td>108000000</td>\n",
       "    </tr>\n",
       "    <tr>\n",
       "      <th>5146</th>\n",
       "      <td>2</td>\n",
       "      <td>1</td>\n",
       "      <td>MT Haryono</td>\n",
       "      <td>Jakarta Timur</td>\n",
       "      <td>106.866201</td>\n",
       "      <td>-6.245201</td>\n",
       "      <td>1</td>\n",
       "      <td>42.0</td>\n",
       "      <td>1</td>\n",
       "      <td>1</td>\n",
       "      <td>...</td>\n",
       "      <td>1</td>\n",
       "      <td>0</td>\n",
       "      <td>1</td>\n",
       "      <td>1</td>\n",
       "      <td>0</td>\n",
       "      <td>0</td>\n",
       "      <td>1</td>\n",
       "      <td>1</td>\n",
       "      <td>20</td>\n",
       "      <td>108000000</td>\n",
       "    </tr>\n",
       "  </tbody>\n",
       "</table>\n",
       "<p>5147 rows × 34 columns</p>\n",
       "</div>"
      ],
      "text/plain": [
       "      No_Rooms  Bathroom      Locality           Region   Longitude  Latitude  \\\n",
       "0            1         1      Semanggi  Jakarta Selatan  106.819159 -6.226598   \n",
       "1            2         1   Kebon Jeruk    Jakarta Barat  106.756061 -6.192081   \n",
       "2            2         1        Kedoya    Jakarta Barat  106.757651 -6.186415   \n",
       "3            2         2  Pondok Indah  Jakarta Selatan  106.784600 -6.272637   \n",
       "4            2         1        Grogol    Jakarta Barat  106.796056 -6.153652   \n",
       "...        ...       ...           ...              ...         ...       ...   \n",
       "5142         2         1       Pekayon           Bekasi  106.993400 -6.243400   \n",
       "5143         0         1      BSD City        Tangerang  106.664000 -6.294400   \n",
       "5144         2         1     Setiabudi  Jakarta Selatan  106.829330 -6.216540   \n",
       "5145         2         1         Slipi    Jakarta Pusat  106.801738 -6.202296   \n",
       "5146         2         1    MT Haryono    Jakarta Timur  106.866201 -6.245201   \n",
       "\n",
       "      Furnished  Area  AC  Water_Heater  ...  Security  Basketball  \\\n",
       "0             1  43.0   1             1  ...         1           1   \n",
       "1             0  35.0   1             0  ...         1           0   \n",
       "2             1  53.0   1             1  ...         1           0   \n",
       "3             1  85.0   1             1  ...         1           1   \n",
       "4             0  48.0   1             0  ...         1           0   \n",
       "...         ...   ...  ..           ...  ...       ...         ...   \n",
       "5142          1  36.0   1             0  ...         0           0   \n",
       "5143          1  32.0   1             1  ...         1           0   \n",
       "5144          1  83.0   1             1  ...         1           0   \n",
       "5145          1  68.0   1             1  ...         1           1   \n",
       "5146          1  42.0   1             1  ...         1           0   \n",
       "\n",
       "      Multipurpose_Room  Gym  Jogging  Tennis  Restaurant  Playground  \\\n",
       "0                     1    1        1       1           1           1   \n",
       "1                     1    1        1       0           1           1   \n",
       "2                     1    1        1       0           1           1   \n",
       "3                     1    1        1       1           1           1   \n",
       "4                     1    1        0       0           1           1   \n",
       "...                 ...  ...      ...     ...         ...         ...   \n",
       "5142                  0    0        0       0           0           1   \n",
       "5143                  1    1        0       0           0           1   \n",
       "5144                  1    1        1       0           1           1   \n",
       "5145                  1    1        1       1           1           1   \n",
       "5146                  1    1        0       0           1           1   \n",
       "\n",
       "      Total_Facilities  AnnualPrice  \n",
       "0                   23     96000000  \n",
       "1                   19     30000000  \n",
       "2                   22     70000000  \n",
       "3                   24    576000000  \n",
       "4                   15     32000000  \n",
       "...                ...          ...  \n",
       "5142                14     36000000  \n",
       "5143                16     60000000  \n",
       "5144                21    250000000  \n",
       "5145                24    108000000  \n",
       "5146                20    108000000  \n",
       "\n",
       "[5147 rows x 34 columns]"
      ]
     },
     "execution_count": 7,
     "metadata": {},
     "output_type": "execute_result"
    }
   ],
   "source": [
    "df_clean"
   ]
  },
  {
   "cell_type": "markdown",
   "metadata": {},
   "source": [
    "Last but not least, let's improvise a bit and try to add a 'Is it in Jakarta or not' column. It will be a value of '1' for apartment units in Jakarta, and '0' for apartment units in the satelite region of Jakarta (Bogor, Depok, Tangerang, Bekasi)."
   ]
  },
  {
   "cell_type": "code",
   "execution_count": 8,
   "metadata": {},
   "outputs": [],
   "source": [
    "Jakcheck = list()\n",
    "for region in df_clean.Region:\n",
    "    if 'Jakarta' in region:\n",
    "        Jakcheck.append(1)\n",
    "    else:\n",
    "        Jakcheck.append(0)\n",
    "        \n",
    "df_clean['Jakcheck'] = Jakcheck"
   ]
  },
  {
   "cell_type": "markdown",
   "metadata": {},
   "source": [
    "## Creating Baseline Model"
   ]
  },
  {
   "cell_type": "markdown",
   "metadata": {},
   "source": [
    "We'll create a baseline model straight away to have a rough model on our dataset before improving anything. If our further feature engineering causes our model to be worse than the baseline model, then we know the feature engineering we perform is not ideal.\n",
    "\n",
    "In this baseline model, we'll use one-time train test split (no cross validations) and create a simple Linear Regression."
   ]
  },
  {
   "cell_type": "code",
   "execution_count": 9,
   "metadata": {},
   "outputs": [],
   "source": [
    "X = df_clean[['No_Rooms', 'Bathroom', 'Longitude', 'Latitude', 'Furnished', 'Area', 'AC', 'Water_Heater', \n",
    "                    'Dining_Set', 'Bed', 'Kitchen', 'Fridge', \n",
    "                    'Washing_Machine', 'TV', 'ATM', 'TV_Cable', 'Grocery', 'Internet', 'Swim_Pool', \n",
    "                    'Laundry', 'Security', 'Basketball', 'Multipurpose_Room', 'Gym', \n",
    "                    'Jogging', 'Tennis','Restaurant', 'Playground', 'Total_Facilities', 'Jakcheck']]\n",
    "y = df_clean[['AnnualPrice']]\n",
    "\n",
    "from sklearn.model_selection import train_test_split\n",
    "X_train, X_test, y_train, y_test = train_test_split(X, y, test_size = 0.20, random_state = 23)"
   ]
  },
  {
   "cell_type": "code",
   "execution_count": 8,
   "metadata": {},
   "outputs": [],
   "source": [
    "# function to evaluate accuracy\n",
    "def evaluate(model, X_test, y_test, return_val = False):\n",
    "    test_val = y_test['AnnualPrice'].to_numpy().reshape(len(y_test.AnnualPrice), 1)\n",
    "    prediction = model.predict(X_test)\n",
    "    plt.scatter(test_val, prediction)\n",
    "    plt.xlabel('Actual Price')\n",
    "    plt.ylabel('Predicted Price')\n",
    "    plt.show()\n",
    "    from sklearn import metrics\n",
    "    print('MAE:', metrics.mean_absolute_error(test_val, prediction))\n",
    "    print('MSE:', metrics.mean_squared_error(test_val, prediction))\n",
    "    print('RMSE:', np.sqrt(metrics.mean_squared_error(test_val, prediction)))\n",
    "    print('R2 Score:', metrics.r2_score(test_val, prediction))\n",
    "    print('Adjusted R2 Score:', 1-(1-metrics.r2_score(test_val, prediction))*((X_train.shape[0]-1)/(X_train.shape[0]-X_train.shape[1]-1)))\n",
    "    \n",
    "    if return_val == True:\n",
    "        return test_val, prediction"
   ]
  },
  {
   "cell_type": "code",
   "execution_count": 9,
   "metadata": {},
   "outputs": [
    {
     "data": {
      "image/png": "[encoded data removed]",
      "text/plain": [
       "<Figure size 432x288 with 1 Axes>"
      ]
     },
     "metadata": {
      "needs_background": "light"
     },
     "output_type": "display_data"
    },
    {
     "name": "stdout",
     "output_type": "stream",
     "text": [
      "MAE: 27823217.045755442\n",
      "MSE: 2001430900717810.5\n",
      "RMSE: 44737354.645953424\n",
      "R2 Score: 0.7948399711082925\n",
      "Adjusted R2 Score: 0.7933336566524063\n"
     ]
    }
   ],
   "source": [
    "lm = LinearRegression()\n",
    "lm.fit(X_train, y_train)\n",
    "test_val, prediction = evaluate(lm, X_test, y_test, return_val = True)"
   ]
  },
  {
   "cell_type": "code",
   "execution_count": 10,
   "metadata": {},
   "outputs": [
    {
     "data": {
      "text/plain": [
       "<seaborn.axisgrid.FacetGrid at 0x22e03e032b0>"
      ]
     },
     "execution_count": 10,
     "metadata": {},
     "output_type": "execute_result"
    },
    {
     "data": {
      "image/png": "[encoded data removed]",
      "text/plain": [
       "<Figure size 402.25x360 with 1 Axes>"
      ]
     },
     "metadata": {
      "needs_background": "light"
     },
     "output_type": "display_data"
    }
   ],
   "source": [
    "sns.displot(test_val - prediction, bins = 50)"
   ]
  },
  {
   "cell_type": "markdown",
   "metadata": {},
   "source": [
    "Our baseline model surprisingly performs quite well. It managed to get a 78% R-squared score, with a relatively normal residual plot. What is R-squared and why should we care? R-squared measures the scatter of our data points around the fitted regression line. A high R-squared score represents that the observed data and fitted value have small differences. According to 'Statistics By Jim', who explained it ellegantly, R-squared is the percentage of the dependent variable variation that a linear model explains.\n",
    "\n",
    "(Cite: https://statisticsbyjim.com/regression/interpret-r-squared-regression/)"
   ]
  },
  {
   "cell_type": "code",
   "execution_count": 11,
   "metadata": {
    "scrolled": true
   },
   "outputs": [
    {
     "name": "stdout",
     "output_type": "stream",
     "text": [
      "                            OLS Regression Results                            \n",
      "==============================================================================\n",
      "Dep. Variable:            AnnualPrice   R-squared:                       0.767\n",
      "Model:                            OLS   Adj. R-squared:                  0.765\n",
      "Method:                 Least Squares   F-statistic:                     559.9\n",
      "Date:                Sun, 06 Dec 2020   Prob (F-statistic):               0.00\n",
      "Time:                        11:40:33   Log-Likelihood:                -98025.\n",
      "No. Observations:                5147   AIC:                         1.961e+05\n",
      "Df Residuals:                    5116   BIC:                         1.963e+05\n",
      "Df Model:                          30                                         \n",
      "Covariance Type:            nonrobust                                         \n",
      "=====================================================================================\n",
      "                        coef    std err          t      P>|t|      [0.025      0.975]\n",
      "-------------------------------------------------------------------------------------\n",
      "Intercept         -1.579e+09   1.15e+09     -1.368      0.171   -3.84e+09    6.84e+08\n",
      "No_Rooms          -1.297e+07   9.14e+05    -14.181      0.000   -1.48e+07   -1.12e+07\n",
      "Bathroom          -1.088e+06   1.91e+06     -0.569      0.570   -4.84e+06    2.66e+06\n",
      "Longitude         -4.572e+06   1.09e+07     -0.421      0.674   -2.59e+07    1.67e+07\n",
      "Latitude          -3.292e+08   1.53e+07    -21.470      0.000   -3.59e+08   -2.99e+08\n",
      "Furnished          1.764e+07   2.63e+06      6.696      0.000    1.25e+07    2.28e+07\n",
      "Area               2.136e+06   3.08e+04     69.299      0.000    2.08e+06     2.2e+06\n",
      "AC                 5.268e+05   4.17e+06      0.126      0.899   -7.64e+06    8.69e+06\n",
      "Water_Heater       1.222e+07   2.48e+06      4.922      0.000    7.35e+06    1.71e+07\n",
      "Dining_Set         7.293e+06   2.85e+06      2.561      0.010    1.71e+06    1.29e+07\n",
      "Bed                3.407e+06   4.62e+06      0.738      0.461   -5.65e+06    1.25e+07\n",
      "Kitchen            4.839e+06   4.41e+06      1.098      0.272    -3.8e+06    1.35e+07\n",
      "Fridge             1.212e+07    3.7e+06      3.278      0.001    4.87e+06    1.94e+07\n",
      "Washing_Machine    2.154e+07   2.42e+06      8.884      0.000    1.68e+07    2.63e+07\n",
      "TV                 1.183e+07   4.59e+06      2.577      0.010    2.83e+06    2.08e+07\n",
      "ATM                2.778e+05   5.12e+06      0.054      0.957   -9.76e+06    1.03e+07\n",
      "TV_Cable           1.619e+07   4.68e+06      3.457      0.001    7.01e+06    2.54e+07\n",
      "Grocery            1.579e+06   3.53e+06      0.448      0.655   -5.34e+06     8.5e+06\n",
      "Internet          -2.523e+05   5.76e+06     -0.044      0.965   -1.15e+07     1.1e+07\n",
      "Swim_Pool           -2.4e+06      6e+06     -0.400      0.689   -1.42e+07    9.37e+06\n",
      "Laundry            9.112e+06   4.09e+06      2.228      0.026    1.09e+06    1.71e+07\n",
      "Security          -1.292e+07   5.68e+06     -2.274      0.023   -2.41e+07   -1.78e+06\n",
      "Basketball         6.436e+06   2.58e+06      2.493      0.013    1.37e+06    1.15e+07\n",
      "Multipurpose_Room  1.049e+07    3.8e+06      2.759      0.006    3.03e+06    1.79e+07\n",
      "Gym                1.335e+07   4.27e+06      3.124      0.002    4.97e+06    2.17e+07\n",
      "Jogging            8.427e+06   2.39e+06      3.525      0.000    3.74e+06    1.31e+07\n",
      "Tennis             6.339e+06   2.56e+06      2.474      0.013    1.32e+06    1.14e+07\n",
      "Restaurant         1.431e+07   4.14e+06      3.455      0.001    6.19e+06    2.24e+07\n",
      "Playground        -1.754e+05   4.29e+06     -0.041      0.967   -8.58e+06    8.23e+06\n",
      "Total_Facilities  -5.976e+06   1.87e+06     -3.192      0.001   -9.65e+06   -2.31e+06\n",
      "Jakcheck           2.579e+07   3.14e+06      8.204      0.000    1.96e+07     3.2e+07\n",
      "==============================================================================\n",
      "Omnibus:                     1722.056   Durbin-Watson:                   1.997\n",
      "Prob(Omnibus):                  0.000   Jarque-Bera (JB):            17669.263\n",
      "Skew:                           1.297   Prob(JB):                         0.00\n",
      "Kurtosis:                      11.698   Cond. No.                     2.27e+05\n",
      "==============================================================================\n",
      "\n",
      "Notes:\n",
      "[1] Standard Errors assume that the covariance matrix of the errors is correctly specified.\n",
      "[2] The condition number is large, 2.27e+05. This might indicate that there are\n",
      "strong multicollinearity or other numerical problems.\n"
     ]
    }
   ],
   "source": [
    "# compute with statsmodels, another way, using formula\n",
    "\n",
    "import statsmodels.formula.api as sm\n",
    "from statsmodels.stats.anova import anova_lm\n",
    "\n",
    "try:\n",
    "    result = sm.ols(formula=\"AnnualPrice ~ No_Rooms + Bathroom + Longitude + Latitude + Furnished + Area + AC + Water_Heater + Dining_Set + Bed + Kitchen + Fridge + Washing_Machine + TV + ATM + TV_Cable + Grocery + Internet + Swim_Pool + Laundry + Security + Basketball + Multipurpose_Room + Gym + Jogging + Tennis + Restaurant + Playground + Total_Facilities + Jakcheck\", data=df_clean).fit()\n",
    "    print(result.summary())\n",
    "except:\n",
    "    result = sm.ols(formula=\"AnnualPrice ~ No_Rooms + Bathroom + Longitude + Latitude + Furnished + Area + AC + Water_Heater + Dining_Set + Bed + Kitchen + Fridge + Washing_Machine + TV + ATM + TV_Cable + Grocery + Internet + Swim_Pool + Laundry + Security + Basketball + Multipurpose_Room + Gym + Jogging + Tennis + Restaurant + Playground + Total_Facilities + Jakcheck\", data=df_clean).fit()\n",
    "    print(result.summary())"
   ]
  },
  {
   "cell_type": "markdown",
   "metadata": {},
   "source": [
    "We can get a more detailed result from our regression when we use the statsmodels library. It might seem like a wall of text, but don't worry - we'll look at what we can derive from this result.\n",
    "\n",
    "- R-Squared and Adjusted R-Squared are fairly similar. Adjusted R-Squared is always lower than R-Squared because it penalizes the model if the model uses features which are not significant. So, for example, if we add another insignificant feature to the model, the Adjusted R-Squared will decrease, while R-Squared will mostly stay the same or increase. If the model's Adjusted R-Squared is way below the R-Squared, it means there are a lot of insignificant features. Fortunately for us, that doesn't seem to be the case.\n",
    "\n",
    "\n",
    "- We have a 0 p-value of the F-statistic. In plain English, the F-statistic tests whether there is a significant linear relation between our features (independent variables) and our target (dependent variable). The null hypothesis is that there is no relation ebtween our features and our target, meaning the regression model arrives at such result by chance. When the p-value is 0 (or below alpha, which is usually 0.05), we can reject the null hypothesis, and assure ourselves that our model fits the data well because indeed - there are linear relations between our features and our target.\n",
    "\n",
    "\n",
    "- In the central table, there is a list of our features. The column 'coefficient' tells us what each feature's coefficients are. Remember that these coefficients explain the relation of our feature to our target variable. Aside from thee 'coefficient' column, we also have 't' column. This 't' column is the t-statistic of each feature in yet another statistical test. The null hypothesis of this t-test is that the coefficient of our feature is 0 (which means our feature does not have a significant relationship to our target variable). The alternate hypothesis is that the coefficient of our feature is not 0. A p-value of less than alpha (usually 0.05) means that we can reject the null hypothesis. Let's look at the 'Area' feature for example. The p-value for the 'Area' feature is 0, which means we are sure that the coefficient of 'Area' feature is indeed 2.086e+06, and it has a significant relationship with our target variable. However, if we look at the Dining_Set feature, its p-value is more than 0.9. We can't reject the null hypothesis on that. Thus, we can say that we are unsure that the presence of dining set at an apartment has a significant relationship on its annual rent price.\n",
    "\n",
    "\n",
    "- In the lower part of the summary, we can see that our model has a skew around 1.5. This means the residual of our model, which seems to be normal, isn't actually centered and it's a bit skewed. Normality of the residuals is an assumption of running a linear model. So, if the residuals are normal, it means that our assumption is valid and model inference (confidence intervals, model predictions) should also be valid. Don't worry - this doesn't mean that our model is entirely invalid - we still have a lot of room for improvement, and the skew is still in single digit.\n",
    "\n",
    "\n",
    "- The second point of the note tells us that it suspects our model to have multicolinearity issue. What is that? We'll discuss it further in the next part."
   ]
  },
  {
   "cell_type": "markdown",
   "metadata": {},
   "source": [
    "Just for curiosity's sake, let's create a regression model based on only the variables which we think would matter the most."
   ]
  },
  {
   "cell_type": "code",
   "execution_count": 12,
   "metadata": {},
   "outputs": [
    {
     "name": "stdout",
     "output_type": "stream",
     "text": [
      "                            OLS Regression Results                            \n",
      "==============================================================================\n",
      "Dep. Variable:            AnnualPrice   R-squared:                       0.755\n",
      "Model:                            OLS   Adj. R-squared:                  0.754\n",
      "Method:                 Least Squares   F-statistic:                     2258.\n",
      "Date:                Sun, 06 Dec 2020   Prob (F-statistic):               0.00\n",
      "Time:                        11:40:33   Log-Likelihood:                -98152.\n",
      "No. Observations:                5147   AIC:                         1.963e+05\n",
      "Df Residuals:                    5139   BIC:                         1.964e+05\n",
      "Df Model:                           7                                         \n",
      "Covariance Type:            nonrobust                                         \n",
      "====================================================================================\n",
      "                       coef    std err          t      P>|t|      [0.025      0.975]\n",
      "------------------------------------------------------------------------------------\n",
      "Intercept         -1.93e+08    1.1e+09     -0.175      0.861   -2.35e+09    1.97e+09\n",
      "No_Rooms         -1.365e+07   9.01e+05    -15.157      0.000   -1.54e+07   -1.19e+07\n",
      "Longitude        -1.829e+07   1.04e+07     -1.759      0.079   -3.87e+07    2.09e+06\n",
      "Latitude          -3.35e+08   1.53e+07    -21.893      0.000   -3.65e+08   -3.05e+08\n",
      "Furnished          2.35e+07   2.02e+06     11.639      0.000    1.95e+07    2.75e+07\n",
      "Total_Facilities  5.797e+05   2.06e+05      2.815      0.005    1.76e+05    9.83e+05\n",
      "Area              2.222e+06   2.32e+04     95.804      0.000    2.18e+06    2.27e+06\n",
      "Jakcheck          3.578e+07   2.75e+06     13.033      0.000    3.04e+07    4.12e+07\n",
      "==============================================================================\n",
      "Omnibus:                     1655.439   Durbin-Watson:                   1.999\n",
      "Prob(Omnibus):                  0.000   Jarque-Bera (JB):            16787.542\n",
      "Skew:                           1.239   Prob(JB):                         0.00\n",
      "Kurtosis:                      11.494   Cond. No.                     2.12e+05\n",
      "==============================================================================\n",
      "\n",
      "Notes:\n",
      "[1] Standard Errors assume that the covariance matrix of the errors is correctly specified.\n",
      "[2] The condition number is large, 2.12e+05. This might indicate that there are\n",
      "strong multicollinearity or other numerical problems.\n"
     ]
    }
   ],
   "source": [
    "# compute with statsmodels, another way, using formula\n",
    "\n",
    "import statsmodels.formula.api as sm\n",
    "from statsmodels.stats.anova import anova_lm\n",
    "\n",
    "result_2 = sm.ols(formula=\"AnnualPrice ~ No_Rooms + Longitude + Latitude + Furnished + Total_Facilities + Area + Jakcheck\", data=df_clean).fit()\n",
    "print(result_2.summary())"
   ]
  },
  {
   "cell_type": "markdown",
   "metadata": {},
   "source": [
    "In terms of accuracy (in which we use the R-squared metric), it goes down about 2 percent, but all of our variables have good p-value, except for Longitude and Intercept, surprisingly."
   ]
  },
  {
   "cell_type": "markdown",
   "metadata": {},
   "source": [
    "## Checking for Correlation"
   ]
  },
  {
   "cell_type": "markdown",
   "metadata": {},
   "source": [
    "Let's discuss briefly the danger of multicolinearity. Multicolinearity is an issue when multiple independent variables are correlated to each other. Why is this an issue? \n",
    "\n",
    "Regression analysis requires us to isolate the relationship between each independent variable and dependent variable. For example, in a very simple example, let's imagine a regression between two variables, x1 and x2.\n",
    "\n",
    "Y = 5X1 - 3X2\n",
    "\n",
    "How we interpret the '5' coefficient of X1 is the following:\n",
    "\n",
    "When everything else stays constant, an increment of 1 unit in X1 causes an increment of 5 unit of Y variable. We often disregard the first phrase that says 'when everything else stays constant'. If X1 is not correlated to X2, then an increment of 1 unit of X1 causes the 'Y' variable to increase by 5, because the X2 doesn't change at all. This is good - because the coefficient of '5' clearly explains the relationship between X1 and Y. \n",
    "\n",
    "If X1 is highly correlated to X2, then an increment of 1 unit of X1 will also cause X2 to change. This will make the 'Y' variable's movement not equal to 5 (the coefficient of X1). Therefore, the coefficient of '5' does not explain the relationship between X1 and Y.\n",
    "\n",
    "When we have multicolinearity, we don't have confidence in the coefficients of each independent variables. We don't know if those coefficients show the true relationship of those variables and the predicted variable. And thus, we can't really be sure on which independent variables are most affecting the target/predicted variable. \n",
    "\n",
    "This causes problem when we want to predict the Y model when we put aritrary values of X1 and X2. For example, wan X1 of 4 and X2 of 2 will result in Y = 5*4 - 3*2 = 20 - 6 = 14. Then, when we change X1 to 6, our predicted variable should increase by 10 units. This is the case if X1 and X2 are independent. However, if X1 and X2 are correlated, when we change X1 to 6, X2 will also change. This will result in our prediction not representing the accurate reality of the problem.\n",
    "\n",
    "However, multicolinearity might not be a problem if:\n",
    "- we have small to moderate multicolinearity. \n",
    "- only a small portion of our variables are having multicolinearity issues with one another. If we have 10 independent variables, and only 3 of them are correlated to each other, then the multicolinearity only persits in those 3 variables - the other seven variables are fine\n",
    "- our goal is to only create prediction. If we don't really need to analyze the variables at the end of our project, and we just care about predictions, we don't really need to make a fuss about multicolinearity\n",
    "\n",
    "So here's what we're gonna do on this project.\n",
    "\n",
    "Referring to the problem statement, we would like to have a clear regression model which can explain relationships between independent variables and the tarrget variable if possible. However, if we can't avoid multicolinearity, we'll look over it and just focus on our predictions."
   ]
  },
  {
   "cell_type": "code",
   "execution_count": 13,
   "metadata": {},
   "outputs": [
    {
     "data": {
      "text/plain": [
       "<AxesSubplot:>"
      ]
     },
     "execution_count": 13,
     "metadata": {},
     "output_type": "execute_result"
    },
    {
     "data": {
      "image/png": "[encoded data removed]",
      "text/plain": [
       "<Figure size 1080x1080 with 2 Axes>"
      ]
     },
     "metadata": {
      "needs_background": "light"
     },
     "output_type": "display_data"
    }
   ],
   "source": [
    "corr = df_clean.corr()\n",
    "plt.subplots(figsize=(15,15))\n",
    "sns.heatmap(corr, vmax=0.9, cmap=\"Blues\", square=True)"
   ]
  },
  {
   "cell_type": "markdown",
   "metadata": {},
   "source": [
    "Using seaborn heatmap, we can visualize which of our variables have high correlation with each other. After looking at the heatmap above, there are some insights we can derive. First, our dependent variable, 'AnnualPrice', has a high correlation with the columns 'No_Rooms', 'Area' and surprisingly, the existenec of 'Water_Heater' and 'Washing_Machine'. \n",
    "\n",
    "Second, there are four 'groups' of facility variables which are highly correlated to each other. These groups are:\n",
    "- The first group: 'AC', 'Water_Heater', 'Dining_Set', 'Bed', 'Kitchen', 'Fridge', as well as 'Furnished' variable\n",
    "- The second group: 'TV', 'ATM', 'TV_Cable', 'Grocery', 'Internet', 'Laundry', 'Security', 'Multipurpose_Room', 'Restaurant' and 'Playground'\n",
    "- The third group: 'Swim_Pool', 'Gym', \n",
    "- The fourth group comprises of: 'Tennis', 'Jogging', 'Basketball'\n",
    "\n",
    "For example, an apartment unit that has 'Water_Heater' most likely also has 'Dining_Set', 'Electricity', 'Bed', and the facilities in the first group. And another apartment unit which has 'Swim_Pool' most likely also has 'Gym'. Surprisingly, the facility 'Washing_Machine' stands on its own ground for the most part - and only correlates highly to 'Water_Heater' and 'AnnualPrice'. \n",
    "\n",
    "A strange thing to note is that 'No_Rooms' have high correlation with 'Area', but don't their p-values are equal to 0 in the four-variable regression? This might seem weird, but we'll get to the bottom of this in a few more steps.\n",
    "\n",
    "What should we do now? We can create four groups of facilities based on their correlation map above. Then, sum the '0s' and '1s' of the feature in the same group. Use these four sums as numerical variables, and discard all other singular columns of facilities and 'Total_Facilities'. \n"
   ]
  },
  {
   "cell_type": "code",
   "execution_count": 14,
   "metadata": {},
   "outputs": [],
   "source": [
    "Group1 = df_clean.AC + df_clean.Water_Heater + df_clean.Dining_Set + df_clean.Bed + df_clean.Kitchen + df_clean.Fridge + df_clean.Furnished\n",
    "Group2 = df_clean.TV + df_clean.ATM + df_clean.TV_Cable + df_clean.Grocery + df_clean.Internet + df_clean.Laundry + df_clean.Security + df_clean.Multipurpose_Room + df_clean.Restaurant + df_clean.Playground\n",
    "Group3 = df_clean.Swim_Pool + df_clean.Gym\n",
    "Group4 = df_clean.Tennis + df_clean.Jogging + df_clean.Basketball\n",
    "\n",
    "df_clean['Group1'] = Group1\n",
    "df_clean['Group2'] = Group2\n",
    "df_clean['Group3'] = Group3\n",
    "df_clean['Group4'] = Group4"
   ]
  },
  {
   "cell_type": "markdown",
   "metadata": {},
   "source": [
    "We're going to do another linear regression but we replace the grouped units with Group1, Group2, Group3, and Group4. "
   ]
  },
  {
   "cell_type": "code",
   "execution_count": 15,
   "metadata": {},
   "outputs": [
    {
     "name": "stdout",
     "output_type": "stream",
     "text": [
      "                            OLS Regression Results                            \n",
      "==============================================================================\n",
      "Dep. Variable:            AnnualPrice   R-squared:                       0.743\n",
      "Model:                            OLS   Adj. R-squared:                  0.743\n",
      "Method:                 Least Squares   F-statistic:                     1857.\n",
      "Date:                Sun, 06 Dec 2020   Prob (F-statistic):               0.00\n",
      "Time:                        11:40:34   Log-Likelihood:                -98272.\n",
      "No. Observations:                5147   AIC:                         1.966e+05\n",
      "Df Residuals:                    5138   BIC:                         1.966e+05\n",
      "Df Model:                           8                                         \n",
      "Covariance Type:            nonrobust                                         \n",
      "==============================================================================\n",
      "                 coef    std err          t      P>|t|      [0.025      0.975]\n",
      "------------------------------------------------------------------------------\n",
      "Intercept  -4.298e+09    1.1e+09     -3.897      0.000   -6.46e+09   -2.14e+09\n",
      "No_Rooms   -1.337e+07   9.26e+05    -14.437      0.000   -1.52e+07   -1.16e+07\n",
      "Longitude    2.41e+07   1.03e+07      2.340      0.019    3.91e+06    4.43e+07\n",
      "Latitude   -2.698e+08   1.44e+07    -18.673      0.000   -2.98e+08   -2.41e+08\n",
      "Group1       3.92e+06    3.6e+05     10.892      0.000    3.21e+06    4.62e+06\n",
      "Group2       9.73e+05   3.18e+05      3.055      0.002    3.49e+05     1.6e+06\n",
      "Group3      3.739e+06   2.04e+06      1.836      0.066   -2.53e+05    7.73e+06\n",
      "Group4      3.136e+06   6.25e+05      5.017      0.000    1.91e+06    4.36e+06\n",
      "Area        2.252e+06   2.38e+04     94.722      0.000    2.21e+06     2.3e+06\n",
      "==============================================================================\n",
      "Omnibus:                     1573.735   Durbin-Watson:                   2.004\n",
      "Prob(Omnibus):                  0.000   Jarque-Bera (JB):            15967.992\n",
      "Skew:                           1.163   Prob(JB):                         0.00\n",
      "Kurtosis:                      11.310   Cond. No.                     2.06e+05\n",
      "==============================================================================\n",
      "\n",
      "Notes:\n",
      "[1] Standard Errors assume that the covariance matrix of the errors is correctly specified.\n",
      "[2] The condition number is large, 2.06e+05. This might indicate that there are\n",
      "strong multicollinearity or other numerical problems.\n"
     ]
    }
   ],
   "source": [
    "import statsmodels.formula.api as sm\n",
    "from statsmodels.stats.anova import anova_lm\n",
    "\n",
    "result_grouped = sm.ols(formula=\"AnnualPrice ~ No_Rooms + Longitude + Latitude + Group1 + Group2 + Group3 + Group4 + Area\", data=df_clean).fit()\n",
    "print(result_grouped.summary())"
   ]
  },
  {
   "cell_type": "markdown",
   "metadata": {},
   "source": [
    "On the bright side, all features' p-values are below 0.05, which means that all of our features are significant. However, our accuracy didn't improve. So we now have 3 models:\n",
    "- A model with 76% R squared score with lots of features having p-value above 0.05\n",
    "- A model with 74.7% R squared score with one feature & the intercept having p-value above 0.05 \n",
    "- A model with 74% R squared score with no features having p-value above 0.05\n",
    "\n",
    "If we're satisfied with our model, then we'll call it a day. \n",
    "However, let's try a few different algorithms and come up with a better model."
   ]
  },
  {
   "cell_type": "markdown",
   "metadata": {},
   "source": [
    "### KNN\n",
    "\n",
    "First, we'll take a look at K Nearest Neighbor Regression. Since this is a distance-based algorithms, our numerical data has to be scaled beforehand."
   ]
  },
  {
   "cell_type": "code",
   "execution_count": 16,
   "metadata": {},
   "outputs": [],
   "source": [
    "from sklearn.preprocessing import StandardScaler \n",
    "ss = StandardScaler() \n",
    "\n",
    "df_numerical = df_clean[['No_Rooms', 'Bathroom', 'Longitude', 'Latitude', 'Area', 'Total_Facilities']] \n",
    "df_numerical_scaled = ss.fit_transform(df_numerical)"
   ]
  },
  {
   "cell_type": "code",
   "execution_count": 17,
   "metadata": {
    "scrolled": true
   },
   "outputs": [],
   "source": [
    "# Creating a Scaled dataset for KNN Model\n",
    "\n",
    "X_scaled = df_clean[['Furnished', 'AC', 'Water_Heater', \n",
    "                    'Dining_Set', 'Bed', 'Kitchen', 'Fridge', \n",
    "                    'Washing_Machine', 'TV', 'ATM', 'TV_Cable', 'Grocery', 'Internet', 'Swim_Pool', \n",
    "                    'Laundry', 'Security', 'Basketball', 'Multipurpose_Room', 'Gym', \n",
    "                    'Jogging', 'Tennis','Restaurant', 'Playground', 'Jakcheck']]\n",
    "\n",
    "X_scaled['No_Rooms'] = np.transpose(df_numerical_scaled)[0]\n",
    "X_scaled['Bathroom'] = np.transpose(df_numerical_scaled)[1]\n",
    "X_scaled['Longitude'] = np.transpose(df_numerical_scaled)[2]\n",
    "X_scaled['Latitude'] = np.transpose(df_numerical_scaled)[3]\n",
    "X_scaled['Area'] = np.transpose(df_numerical_scaled)[4]\n",
    "X_scaled['Total_Facilities'] = np.transpose(df_numerical_scaled)[5]\n",
    "\n",
    "y = df_clean[['AnnualPrice']]\n",
    "\n",
    "X_train_scaled, X_test_scaled, y_train_scaled, y_test_scaled = train_test_split(X_scaled, y, test_size = 0.2, random_state = 23)"
   ]
  },
  {
   "cell_type": "markdown",
   "metadata": {},
   "source": [
    "Now, let's test the K Neighbors Regressor on two datasets: first, the non-scaled one (the one that we use for Linear Regression) and second, the scaled one."
   ]
  },
  {
   "cell_type": "code",
   "execution_count": 18,
   "metadata": {},
   "outputs": [
    {
     "name": "stdout",
     "output_type": "stream",
     "text": [
      "Prediction on testing set (non scaled):\n"
     ]
    },
    {
     "data": {
      "image/png": "[encoded data removed]",
      "text/plain": [
       "<Figure size 432x288 with 1 Axes>"
      ]
     },
     "metadata": {
      "needs_background": "light"
     },
     "output_type": "display_data"
    },
    {
     "name": "stdout",
     "output_type": "stream",
     "text": [
      "MAE: 25733836.50485437\n",
      "MSE: 2207006831193320.5\n",
      "RMSE: 46978791.29131911\n",
      "R2 Score: 0.7737670658080551\n",
      "Adjusted R2 Score: 0.7721060310489365\n"
     ]
    }
   ],
   "source": [
    "from sklearn.neighbors import KNeighborsRegressor\n",
    "knn = KNeighborsRegressor()\n",
    "knn.fit(X_train, y_train)\n",
    "print('Prediction on testing set (non scaled):')\n",
    "evaluate(knn, X_test, y_test)"
   ]
  },
  {
   "cell_type": "code",
   "execution_count": 19,
   "metadata": {},
   "outputs": [
    {
     "name": "stdout",
     "output_type": "stream",
     "text": [
      "Prediction on testing set (scaled):\n"
     ]
    },
    {
     "data": {
      "image/png": "[encoded data removed]",
      "text/plain": [
       "<Figure size 432x288 with 1 Axes>"
      ]
     },
     "metadata": {
      "needs_background": "light"
     },
     "output_type": "display_data"
    },
    {
     "name": "stdout",
     "output_type": "stream",
     "text": [
      "MAE: 21675125.436893202\n",
      "MSE: 1564773297917514.5\n",
      "RMSE: 39557215.49752352\n",
      "R2 Score: 0.8396002905248474\n",
      "Adjusted R2 Score: 0.838422612775397\n"
     ]
    }
   ],
   "source": [
    "knn = KNeighborsRegressor()\n",
    "knn.fit(X_train_scaled, y_train_scaled)\n",
    "print('Prediction on testing set (scaled):')\n",
    "evaluate(knn, X_test_scaled, y_test_scaled)"
   ]
  },
  {
   "cell_type": "markdown",
   "metadata": {},
   "source": [
    "We can see that we have a better score when our dataset is scaled. This is already an improvement from our Linear Regression model, but we'll take a look at a few other models before deciding on our final choice."
   ]
  },
  {
   "cell_type": "markdown",
   "metadata": {},
   "source": [
    "### Random Forest"
   ]
  },
  {
   "cell_type": "code",
   "execution_count": 20,
   "metadata": {},
   "outputs": [
    {
     "name": "stdout",
     "output_type": "stream",
     "text": [
      "Using non-scaled data:\n",
      "Prediction on testing set:\n"
     ]
    },
    {
     "data": {
      "image/png": "[encoded data removed]",
      "text/plain": [
       "<Figure size 432x288 with 1 Axes>"
      ]
     },
     "metadata": {
      "needs_background": "light"
     },
     "output_type": "display_data"
    },
    {
     "name": "stdout",
     "output_type": "stream",
     "text": [
      "MAE: 17052812.159622997\n",
      "MSE: 935762803247781.0\n",
      "RMSE: 30590240.32674116\n",
      "R2 Score: 0.9040780655074097\n",
      "Adjusted R2 Score: 0.9033737928606211\n"
     ]
    }
   ],
   "source": [
    "from sklearn.ensemble import RandomForestRegressor\n",
    "rfr = RandomForestRegressor()\n",
    "rfr.fit(X_train, y_train)\n",
    "print('Using non-scaled data:')\n",
    "print('Prediction on testing set:')\n",
    "evaluate(rfr, X_test, y_test)"
   ]
  },
  {
   "cell_type": "code",
   "execution_count": 21,
   "metadata": {},
   "outputs": [
    {
     "name": "stdout",
     "output_type": "stream",
     "text": [
      "Using scaled data:\n",
      "Prediction on testing set (scaled):\n"
     ]
    },
    {
     "data": {
      "image/png": "[encoded data removed]",
      "text/plain": [
       "<Figure size 432x288 with 1 Axes>"
      ]
     },
     "metadata": {
      "needs_background": "light"
     },
     "output_type": "display_data"
    },
    {
     "name": "stdout",
     "output_type": "stream",
     "text": [
      "MAE: 17166348.983862035\n",
      "MSE: 952464638928080.8\n",
      "RMSE: 30862025.839663874\n",
      "R2 Score: 0.9023660158485951\n",
      "Adjusted R2 Score: 0.9016491730868373\n"
     ]
    }
   ],
   "source": [
    "print('Using scaled data:')\n",
    "rfr.fit(X_train_scaled, y_train_scaled)\n",
    "print('Prediction on testing set (scaled):')\n",
    "evaluate(rfr, X_test_scaled, y_test_scaled)"
   ]
  },
  {
   "cell_type": "markdown",
   "metadata": {},
   "source": [
    "The Random Forest Regressor model performs even better than our KNN model. Furthermore, we can notice that it isn't affected by scaling our features. "
   ]
  },
  {
   "cell_type": "markdown",
   "metadata": {},
   "source": [
    "### Hyperparameter Tuning of Random Forest Regressor"
   ]
  },
  {
   "cell_type": "code",
   "execution_count": 22,
   "metadata": {},
   "outputs": [
    {
     "name": "stdout",
     "output_type": "stream",
     "text": [
      "Fitting 5 folds for each of 500 candidates, totalling 2500 fits\n"
     ]
    },
    {
     "name": "stderr",
     "output_type": "stream",
     "text": [
      "[Parallel(n_jobs=-1)]: Using backend LokyBackend with 8 concurrent workers.\n",
      "[Parallel(n_jobs=-1)]: Done  34 tasks      | elapsed:    4.0s\n",
      "[Parallel(n_jobs=-1)]: Done 184 tasks      | elapsed:   13.2s\n",
      "[Parallel(n_jobs=-1)]: Done 434 tasks      | elapsed:   36.0s\n",
      "[Parallel(n_jobs=-1)]: Done 784 tasks      | elapsed:  1.2min\n",
      "[Parallel(n_jobs=-1)]: Done 1234 tasks      | elapsed:  1.7min\n",
      "[Parallel(n_jobs=-1)]: Done 1784 tasks      | elapsed:  2.6min\n",
      "[Parallel(n_jobs=-1)]: Done 2434 tasks      | elapsed:  3.4min\n",
      "[Parallel(n_jobs=-1)]: Done 2500 out of 2500 | elapsed:  3.5min finished\n"
     ]
    },
    {
     "data": {
      "text/plain": [
       "RandomizedSearchCV(cv=5, estimator=RandomForestRegressor(), n_iter=500,\n",
       "                   n_jobs=-1,\n",
       "                   param_distributions={'bootstrap': [True, False],\n",
       "                                        'max_depth': [10, 20, 30, 40, 50, 60,\n",
       "                                                      70, 80, 90, 100],\n",
       "                                        'max_features': ['auto', 'sqrt'],\n",
       "                                        'min_samples_leaf': [2, 5, 10, 15, 20],\n",
       "                                        'min_samples_split': [2, 5, 10, 15, 20],\n",
       "                                        'n_estimators': [10, 20, 40, 60, 80,\n",
       "                                                         100, 120, 150, 180,\n",
       "                                                         200]},\n",
       "                   random_state=42, verbose=1)"
      ]
     },
     "execution_count": 22,
     "metadata": {},
     "output_type": "execute_result"
    }
   ],
   "source": [
    "from sklearn.model_selection import RandomizedSearchCV\n",
    "\n",
    "random_grid = {'n_estimators': [10, 20, 40, 60, 80, 100, 120, 150, 180, 200],\n",
    "               'max_features': ['auto', 'sqrt'],\n",
    "               'max_depth': [10, 20, 30, 40, 50, 60, 70, 80, 90, 100],\n",
    "               'min_samples_split': [2, 5, 10, 15, 20],\n",
    "               'min_samples_leaf': [2, 5, 10, 15, 20],\n",
    "               'bootstrap': [True, False]}\n",
    "\n",
    "rfr = RandomForestRegressor()\n",
    "rf_random = RandomizedSearchCV(estimator = rfr, param_distributions = random_grid, \n",
    "                               n_iter = 500, cv = 5, verbose=1, random_state=42, n_jobs = -1)\n",
    "rf_random.fit(X_train, y_train)"
   ]
  },
  {
   "cell_type": "code",
   "execution_count": 23,
   "metadata": {},
   "outputs": [
    {
     "data": {
      "text/plain": [
       "{'n_estimators': 100,\n",
       " 'min_samples_split': 5,\n",
       " 'min_samples_leaf': 2,\n",
       " 'max_features': 'auto',\n",
       " 'max_depth': 70,\n",
       " 'bootstrap': True}"
      ]
     },
     "execution_count": 23,
     "metadata": {},
     "output_type": "execute_result"
    }
   ],
   "source": [
    "rf_random.best_params_"
   ]
  },
  {
   "cell_type": "code",
   "execution_count": 24,
   "metadata": {},
   "outputs": [
    {
     "name": "stdout",
     "output_type": "stream",
     "text": [
      "Prediction on testing set:\n"
     ]
    },
    {
     "data": {
      "image/png": "[encoded data removed]",
      "text/plain": [
       "<Figure size 432x288 with 1 Axes>"
      ]
     },
     "metadata": {
      "needs_background": "light"
     },
     "output_type": "display_data"
    },
    {
     "name": "stdout",
     "output_type": "stream",
     "text": [
      "MAE: 17403832.804205526\n",
      "MSE: 990485752404311.6\n",
      "RMSE: 31471983.610892907\n",
      "R2 Score: 0.8984685978880346\n",
      "Adjusted R2 Score: 0.8977231397227485\n"
     ]
    }
   ],
   "source": [
    "rfr_tuned = RandomForestRegressor()\n",
    "rfr_tuned = RandomForestRegressor(n_estimators = 150, min_samples_split = 2,\n",
    "                                 min_samples_leaf = 2, max_features = 'auto', \n",
    "                                 max_depth = 70, bootstrap = True)\n",
    "rfr_tuned.fit(X_train, y_train)\n",
    "print('Prediction on testing set:')\n",
    "evaluate(rfr_tuned, X_test, y_test)"
   ]
  },
  {
   "cell_type": "markdown",
   "metadata": {},
   "source": [
    "Hyperparameter tuning doesn't seem to make our model better. We'll continue by looking at the next model, XGBoost."
   ]
  },
  {
   "cell_type": "markdown",
   "metadata": {},
   "source": [
    "### XGBoost\n",
    "\n",
    "XGBoost is a gradient boosted decision trees algorithm which has dominated Kaggle in recent years. Unlike Linear Regression, it does not have to be scaled, and it can handle multicolinearity better since by its nature, decision trees are immune to multicolinearity. However, it will not yield an outcome which can be interpreted as clear as Linear Regression. It doesn't have any explicit coefficient which can further be tested with t-test and calculate it's p-value.\n",
    "\n",
    "Let's evaluate the XGBoost Regressor's baseline model first against our two datasets - the scaled and the nonscaled one. "
   ]
  },
  {
   "cell_type": "code",
   "execution_count": 25,
   "metadata": {},
   "outputs": [
    {
     "name": "stdout",
     "output_type": "stream",
     "text": [
      "Prediction on testing set (nonscaled):\n"
     ]
    },
    {
     "data": {
      "image/png": "[encoded data removed]",
      "text/plain": [
       "<Figure size 432x288 with 1 Axes>"
      ]
     },
     "metadata": {
      "needs_background": "light"
     },
     "output_type": "display_data"
    },
    {
     "name": "stdout",
     "output_type": "stream",
     "text": [
      "MAE: 16421811.532038836\n",
      "MSE: 841272188236080.2\n",
      "RMSE: 29004692.520971157\n",
      "R2 Score: 0.9137639843661837\n",
      "Adjusted R2 Score: 0.9131308271295183\n"
     ]
    }
   ],
   "source": [
    "import xgboost\n",
    "from xgboost import XGBRegressor\n",
    "\n",
    "xgb = XGBRegressor()\n",
    "xgb.fit(X_train, y_train)\n",
    "print('Prediction on testing set (nonscaled):')\n",
    "evaluate(xgb, X_test, y_test)"
   ]
  },
  {
   "cell_type": "code",
   "execution_count": 26,
   "metadata": {},
   "outputs": [
    {
     "name": "stdout",
     "output_type": "stream",
     "text": [
      "Prediction on testing set (scaled):\n"
     ]
    },
    {
     "data": {
      "image/png": "[encoded data removed]",
      "text/plain": [
       "<Figure size 432x288 with 1 Axes>"
      ]
     },
     "metadata": {
      "needs_background": "light"
     },
     "output_type": "display_data"
    },
    {
     "name": "stdout",
     "output_type": "stream",
     "text": [
      "MAE: 16356849.031067962\n",
      "MSE: 832678181634129.5\n",
      "RMSE: 28856163.667995255\n",
      "R2 Score: 0.914644927416538\n",
      "Adjusted R2 Score: 0.9140182381905214\n"
     ]
    }
   ],
   "source": [
    "xgb.fit(X_train_scaled, y_train_scaled)\n",
    "print('Prediction on testing set (scaled):')\n",
    "evaluate(xgb, X_test_scaled, y_test_scaled)"
   ]
  },
  {
   "cell_type": "markdown",
   "metadata": {},
   "source": [
    "As we can see, XGBoost performs better (albeit slightly) than Random Forest. We'll proceed to check if it underfits or overfits, and then do hyperparameter tuning on it"
   ]
  },
  {
   "cell_type": "markdown",
   "metadata": {},
   "source": [
    "### Testing XGBoost Model for Overfitting and Underfitting"
   ]
  },
  {
   "cell_type": "markdown",
   "metadata": {},
   "source": [
    "After choosing our model, we have to make sure that it doesn't overfit nor underfit. \n",
    "\n",
    "Before we go deeper, let's talk about bias-variance tradeoff.\n",
    "\n",
    "Ideally, a machine learning model should be able to identify the complexity of our dataset, yet it is also 'generalized' enough to handle unseen data (data points which are not from the training set). However, we cannot get both at the same time, realistically. A model that captures the relation of each parameters in a complex manner, usually are bad at 'generalizing' unseen data. On the other side, a model that is pretty robust to unseen data does not 'learn' the data deep enough. \n",
    "\n",
    "We all recognize these two kids at school - or perhaps we're one of them: \n",
    "- A student who is good at memorizing study materials to a point where he/she can remember all the punctuations in a text.\n",
    "- A student who rarely studies, but understands the lesson in a 'big picture'.\n",
    "\n",
    "Usually, the first student is great when the test questions are taken from the study materials directly, while the second student might not perform as well. However, when the test questions are not taken from the study materials, the first student usually does not perform well, while the second student can give a good generalized answer. \n",
    "\n",
    "The same applies to our supervised learning models. Now the question is, which 'student' do we want our models to be? The first student, or the second student? If we know that our training data itself is pretty robust, and the 'unseen' data is pretty homogeneous, leading our model to be the first student might be better. However, if we have a limited training data, and we are unsure of what the 'unseen' data looks like out there, we might place a better bet by leading our model to be more like the second student.\n",
    "\n",
    "The first student has lower bias but higher variance, while the second student has higher bias but lower variance.\n",
    "\n",
    "Bias error is an error which is caused by a 'wrong' assumption in a learning algorithm (meaning the learning algorithm isn't optimized well). Higher bias happens a model miss the relationship between features and target output. When a model has high bias, we can call that it underfits.\n",
    "\n",
    "Variance error is an error which is caused by small fluctuations in the training data. If a model is too tuned to learn a training set, it will model a relationship which is too complex among the features and the target output, and unseen data point will be wrongly predicted. When this happens, we can call that it overfits.\n",
    "\n",
    "And we say that this is a tradeoff because one cannot get the best of both worlds. A higher accuracy might give the illussion that our model perfoms well, but it might show tendencies of overfitting. Reducing accuracy might hinder us from overfitting, but push it too far and our model will underfit. \n",
    "\n",
    "First, let's check whether our baseline model underfits or overfits."
   ]
  },
  {
   "cell_type": "code",
   "execution_count": 27,
   "metadata": {},
   "outputs": [
    {
     "name": "stdout",
     "output_type": "stream",
     "text": [
      "Prediction on testing set:\n"
     ]
    },
    {
     "data": {
      "image/png": "[encoded data removed]",
      "text/plain": [
       "<Figure size 432x288 with 1 Axes>"
      ]
     },
     "metadata": {
      "needs_background": "light"
     },
     "output_type": "display_data"
    },
    {
     "name": "stdout",
     "output_type": "stream",
     "text": [
      "MAE: 7668730.983726014\n",
      "MSE: 154949322680724.06\n",
      "RMSE: 12447864.181486078\n",
      "R2 Score: 0.9817325201829521\n",
      "Adjusted R2 Score: 0.981598397717335\n",
      "\n",
      "\n",
      "Prediction on training set:\n"
     ]
    },
    {
     "data": {
      "image/png": "[encoded data removed]",
      "text/plain": [
       "<Figure size 432x288 with 1 Axes>"
      ]
     },
     "metadata": {
      "needs_background": "light"
     },
     "output_type": "display_data"
    },
    {
     "name": "stdout",
     "output_type": "stream",
     "text": [
      "MAE: 16421811.532038836\n",
      "MSE: 841272188236080.2\n",
      "RMSE: 29004692.520971157\n",
      "R2 Score: 0.9137639843661837\n",
      "Adjusted R2 Score: 0.9131308271295183\n"
     ]
    }
   ],
   "source": [
    "xgb = XGBRegressor()\n",
    "xgb.fit(X_train, y_train)\n",
    "print('Prediction on testing set:')\n",
    "evaluate(xgb, X_train, y_train)\n",
    "print('\\n')\n",
    "print('Prediction on training set:')\n",
    "evaluate(xgb, X_test, y_test)"
   ]
  },
  {
   "cell_type": "markdown",
   "metadata": {},
   "source": [
    "When our baseline model is used to predict the training set, it achieved an RMSE of below 12.5 million, however, when it is used to predict the testing set, its rmse is about 29 million. This shows that there might be an overfitting issue. \n",
    "\n",
    "Now we are given two options. We can stop at this stage, and accept that our model probably behaves like the 'first student' from the analogy above, or we can try to make it less overfit. Both are actually acceptable, as the testing R-squared score has already reached above 90% (meaning that our model are also capable in predicting 'unseen' data points).\n",
    "\n",
    "We will try to do some hyperparameter tuning to solve this overfitting issue, and see where it leads us to. First, let's take a look at the default parameters of our baseline model."
   ]
  },
  {
   "cell_type": "code",
   "execution_count": 28,
   "metadata": {},
   "outputs": [
    {
     "data": {
      "text/plain": [
       "<bound method XGBModel.get_params of XGBRegressor(base_score=0.5, booster='gbtree', colsample_bylevel=1,\n",
       "             colsample_bynode=1, colsample_bytree=1, gamma=0, gpu_id=-1,\n",
       "             importance_type='gain', interaction_constraints='',\n",
       "             learning_rate=0.300000012, max_delta_step=0, max_depth=6,\n",
       "             min_child_weight=1, missing=nan, monotone_constraints='()',\n",
       "             n_estimators=100, n_jobs=0, num_parallel_tree=1, random_state=0,\n",
       "             reg_alpha=0, reg_lambda=1, scale_pos_weight=1, subsample=1,\n",
       "             tree_method='exact', validate_parameters=1, verbosity=None)>"
      ]
     },
     "execution_count": 28,
     "metadata": {},
     "output_type": "execute_result"
    }
   ],
   "source": [
    "xgb.get_params"
   ]
  },
  {
   "cell_type": "markdown",
   "metadata": {},
   "source": [
    "A good way to know what these parameters mean is by checking the documentation of our model - in this case, XGBoost. \n",
    "https://xgboost.readthedocs.io/en/latest/parameter.html"
   ]
  },
  {
   "cell_type": "markdown",
   "metadata": {},
   "source": [
    "If we read the documentation, it gives us a sense of what parameters to tune in order to reduce overfitting. However, we have to remember the tradeoff - reducing overfitting might cause our model's overall accuracy to decrease too. Our objective is to find a sweet spot - where our model does not overfit too much, while still having a good accuracy.\n",
    "\n",
    "These are the parameters we're going to tune:\n",
    "- ```max_depth```. According to the documentation, this adjusts how deep our tree is. Deeper tree will result in more complex model which is both more computationally intensive and prune to overfitting.\n",
    "- ```min_child_weight```. A higher value of this parameter will make our model 'more difficult' to add partitions in the decision trees. Thus, it will reduce overfitting. However, make it too large and the model will underfit.\n",
    "- ```subsample```. The ratio of training instances. If say our subsample value is 0.5, then XGBoost would randomly sample half of the training data prior to growing trees. This will reduce overfitting.\n",
    "- ```lambda``` and ```alpha```. Both are the regularization parameters (L2 and L1 respectively), and increasing both values will help reduce overfitting."
   ]
  },
  {
   "cell_type": "code",
   "execution_count": 29,
   "metadata": {},
   "outputs": [
    {
     "name": "stdout",
     "output_type": "stream",
     "text": [
      "Fitting 5 folds for each of 200 candidates, totalling 1000 fits\n"
     ]
    },
    {
     "name": "stderr",
     "output_type": "stream",
     "text": [
      "[Parallel(n_jobs=-1)]: Using backend LokyBackend with 8 concurrent workers.\n",
      "[Parallel(n_jobs=-1)]: Done  34 tasks      | elapsed:    2.3s\n",
      "[Parallel(n_jobs=-1)]: Done 184 tasks      | elapsed:   10.9s\n",
      "[Parallel(n_jobs=-1)]: Done 434 tasks      | elapsed:   28.2s\n",
      "[Parallel(n_jobs=-1)]: Done 784 tasks      | elapsed:   52.8s\n",
      "[Parallel(n_jobs=-1)]: Done 1000 out of 1000 | elapsed:  1.1min finished\n"
     ]
    },
    {
     "name": "stdout",
     "output_type": "stream",
     "text": [
      "{'subsample': 0.5, 'min_child_weight': 5, 'max_depth': 6, 'lambda': 10, 'alpha': 9}\n"
     ]
    }
   ],
   "source": [
    "grid_params = {\n",
    "    \n",
    "    'max_depth' : [2,3,4,5,6,7,8],\n",
    "    'min_child_weight' : [5,7,10],\n",
    "    'subsample': [0.3, 0.4, 0.5],\n",
    "    'lambda' : [2,4,6,8,10],\n",
    "    'alpha' : [3,5,7,9]\n",
    "}\n",
    "\n",
    "xgb = XGBRegressor()\n",
    "xgb_random = RandomizedSearchCV(estimator = xgb, param_distributions = grid_params, \n",
    "                                     n_iter = 200, cv = 5, verbose = 1, random_state = 42, n_jobs = -1)\n",
    "xgb_random.fit(X_train, y_train)\n",
    "print(xgb_random.best_params_)"
   ]
  },
  {
   "cell_type": "code",
   "execution_count": 30,
   "metadata": {
    "scrolled": false
   },
   "outputs": [
    {
     "name": "stdout",
     "output_type": "stream",
     "text": [
      "Prediction on Training Set:\n"
     ]
    },
    {
     "data": {
      "image/png": "[encoded data removed]",
      "text/plain": [
       "<Figure size 432x288 with 1 Axes>"
      ]
     },
     "metadata": {
      "needs_background": "light"
     },
     "output_type": "display_data"
    },
    {
     "name": "stdout",
     "output_type": "stream",
     "text": [
      "MAE: 13211950.699052708\n",
      "MSE: 456444718903064.0\n",
      "RMSE: 21364566.901836883\n",
      "R2 Score: 0.9461882469319302\n",
      "Adjusted R2 Score: 0.9457931532970691\n",
      "\n",
      "\n",
      "Prediction on Testing Set:\n"
     ]
    },
    {
     "data": {
      "image/png": "[encoded data removed]",
      "text/plain": [
       "<Figure size 432x288 with 1 Axes>"
      ]
     },
     "metadata": {
      "needs_background": "light"
     },
     "output_type": "display_data"
    },
    {
     "name": "stdout",
     "output_type": "stream",
     "text": [
      "MAE: 17474662.53592233\n",
      "MSE: 925037067416551.6\n",
      "RMSE: 30414422.029960584\n",
      "R2 Score: 0.9051775250352058\n",
      "Adjusted R2 Score: 0.9044813247784892\n"
     ]
    }
   ],
   "source": [
    "xgb_tuned = XGBRegressor(n_estimators=75, subsample=0.5, min_child_weight=5, max_depth=5, reg_lambda=10, alpha=9)\n",
    "xgb_tuned.fit(X_train, y_train)\n",
    "print('Prediction on Training Set:')\n",
    "evaluate(xgb_tuned, X_train, y_train)\n",
    "print('\\n')\n",
    "print('Prediction on Testing Set:')\n",
    "evaluate(xgb_tuned, X_test, y_test)"
   ]
  },
  {
   "cell_type": "markdown",
   "metadata": {},
   "source": [
    "After tuning, we see a slight decrease in the testing set's performance metric. However, the training and the testing set's metrics are not too far off such as with the baseline model. We are sure that now, our tuned model has less tendency to overfit. \n",
    "\n",
    "After tuning an XGB Regressor, we'll compare its performance with its close relative, the Light GBM Regressor."
   ]
  },
  {
   "cell_type": "markdown",
   "metadata": {},
   "source": [
    "### Light GBM"
   ]
  },
  {
   "cell_type": "markdown",
   "metadata": {},
   "source": [
    "LightGBM is originally developed by Microsoft. We can access the official documentation here: https://lightgbm.readthedocs.io/en/latest/.\n",
    "\n",
    "Quoting its preface words:\n",
    "\n",
    "LightGBM is a gradient boosting framework that uses tree based learning algorithms. It is designed to be distributed and efficient with the following advantages:\n",
    "- Faster training speed and higher efficiency.\n",
    "- Lower memory usage.\n",
    "- Better accuracy.\n",
    "- Support of parallel and GPU learning.\n",
    "- Capable of handling large-scale data.\n",
    "\n",
    "Let's try how it fares against other previous algorithms when we fit in our data."
   ]
  },
  {
   "cell_type": "code",
   "execution_count": 31,
   "metadata": {},
   "outputs": [
    {
     "name": "stdout",
     "output_type": "stream",
     "text": [
      "Prediction on testing set (nonscaled):\n"
     ]
    },
    {
     "data": {
      "image/png": "[encoded data removed]",
      "text/plain": [
       "<Figure size 432x288 with 1 Axes>"
      ]
     },
     "metadata": {
      "needs_background": "light"
     },
     "output_type": "display_data"
    },
    {
     "name": "stdout",
     "output_type": "stream",
     "text": [
      "MAE: 17058978.205421235\n",
      "MSE: 925119338028843.9\n",
      "RMSE: 30415774.493325725\n",
      "R2 Score: 0.9051690917482066\n",
      "Adjusted R2 Score: 0.9044728295730833\n"
     ]
    }
   ],
   "source": [
    "import lightgbm\n",
    "from lightgbm import LGBMRegressor\n",
    "\n",
    "lgb = LGBMRegressor()\n",
    "lgb.fit(X_train, y_train)\n",
    "print('Prediction on testing set (nonscaled):')\n",
    "evaluate(lgb, X_test, y_test)"
   ]
  },
  {
   "cell_type": "code",
   "execution_count": 32,
   "metadata": {},
   "outputs": [
    {
     "name": "stdout",
     "output_type": "stream",
     "text": [
      "Prediction on training set (scaled):\n"
     ]
    },
    {
     "data": {
      "image/png": "[encoded data removed]",
      "text/plain": [
       "<Figure size 432x288 with 1 Axes>"
      ]
     },
     "metadata": {
      "needs_background": "light"
     },
     "output_type": "display_data"
    },
    {
     "name": "stdout",
     "output_type": "stream",
     "text": [
      "MAE: 17126197.553154346\n",
      "MSE: 885615675004517.1\n",
      "RMSE: 29759295.60665906\n",
      "R2 Score: 0.9092184809349592\n",
      "Adjusted R2 Score: 0.9085519499579765\n"
     ]
    }
   ],
   "source": [
    "lgb.fit(X_train_scaled, y_train_scaled)\n",
    "print('Prediction on training set (scaled):')\n",
    "evaluate(lgb, X_test_scaled, y_test_scaled)"
   ]
  },
  {
   "cell_type": "markdown",
   "metadata": {},
   "source": [
    "Just like Random Forest Regressor and XGBoost, these decision tree-based models are not affected by scaling the data. Now, let's check if the baseline model tends to overfit, just like what we did with the XGB Regressor."
   ]
  },
  {
   "cell_type": "code",
   "execution_count": 33,
   "metadata": {},
   "outputs": [
    {
     "name": "stdout",
     "output_type": "stream",
     "text": [
      "Prediction on training set:\n"
     ]
    },
    {
     "data": {
      "image/png": "[encoded data removed]",
      "text/plain": [
       "<Figure size 432x288 with 1 Axes>"
      ]
     },
     "metadata": {
      "needs_background": "light"
     },
     "output_type": "display_data"
    },
    {
     "name": "stdout",
     "output_type": "stream",
     "text": [
      "MAE: 12313257.21905091\n",
      "MSE: 424323901386370.5\n",
      "RMSE: 20599123.80142346\n",
      "R2 Score: 0.9499750746220538\n",
      "Adjusted R2 Score: 0.949607784421041\n",
      "\n",
      "\n",
      "Prediction on testing set:\n"
     ]
    },
    {
     "data": {
      "image/png": "[encoded data removed]",
      "text/plain": [
       "<Figure size 432x288 with 1 Axes>"
      ]
     },
     "metadata": {
      "needs_background": "light"
     },
     "output_type": "display_data"
    },
    {
     "name": "stdout",
     "output_type": "stream",
     "text": [
      "MAE: 17058978.205421235\n",
      "MSE: 925119338028843.9\n",
      "RMSE: 30415774.493325725\n",
      "R2 Score: 0.9051690917482066\n",
      "Adjusted R2 Score: 0.9044728295730833\n"
     ]
    }
   ],
   "source": [
    "lgb = LGBMRegressor()\n",
    "lgb.fit(X_train, y_train)\n",
    "print('Prediction on training set:')\n",
    "evaluate(lgb, X_train, y_train)\n",
    "print('\\n')\n",
    "print('Prediction on testing set:')\n",
    "evaluate(lgb, X_test, y_test)"
   ]
  },
  {
   "cell_type": "markdown",
   "metadata": {},
   "source": [
    "This sure is quite a surprise, as the baseline LGBM model does not seem to overfit as much as the baseline XGB model. Other than that, it gives quite a similar performance to our tuned XGBoost model.\n",
    "\n",
    "At this point, let's recap what we have done:\n",
    "- We have scraped and cleaned our data\n",
    "- We have tried to model a Linear Regression, but it seems that our data is not linear\n",
    "- We have tried a few ML algorithms: KNN, Random Forest, XGB, and Light GBM\n",
    "- We have two models that has an R2-score of around 90% that does not overfit (tuned XGBoost and baseline Light GBM)\n",
    "\n",
    "Our two best models are elligible to be chosen as our final model. If this project is rushed, and on a tight deadline, then we can just pick one, and save it. \n",
    "\n",
    "However, as this project is also a learning journey for myself, I wanted to try something different. I wanted to try if we can create a new 'regressor' whose output prediction is the average of XGB and Light GBM predictions. And I wanted to see if taking the average of both models can yield a better result. "
   ]
  },
  {
   "cell_type": "markdown",
   "metadata": {},
   "source": [
    "### Simple Stacking of Regressors\n",
    "\n",
    "The idea of simple stacking regression models is to create a new prediction which is the linear combination of predictions from different models. In this project, let's try to create two new predictors:\n",
    "- first 'model': the average of tuned Random Forest Regressor, tuned XGB Regressor, and baseline Light GBM Regressor\n",
    "- second 'model': the average of tuned XGB Regressor and baseline Light GBM Regressor\n",
    "\n",
    "First, we'll create a helper function to evaluate our model, and create a new class which takes in the inputed models and create an average prediction."
   ]
  },
  {
   "cell_type": "code",
   "execution_count": 34,
   "metadata": {},
   "outputs": [],
   "source": [
    "def evaluate_pred(y_test, avg_prediction):\n",
    "    test_val = y_test['AnnualPrice'].to_numpy().reshape(len(y_test.AnnualPrice), 1)\n",
    "    plt.scatter(test_val, avg_prediction)\n",
    "    plt.xlabel('Actual Price')\n",
    "    plt.ylabel('Predicted Price')\n",
    "    plt.show()\n",
    "    from sklearn import metrics\n",
    "    print('MAE:', metrics.mean_absolute_error(test_val, avg_prediction))\n",
    "    print('MSE:', metrics.mean_squared_error(test_val, avg_prediction))\n",
    "    print('RMSE:', np.sqrt(metrics.mean_squared_error(test_val, avg_prediction)))\n",
    "    print('R2 Score:', metrics.r2_score(test_val, avg_prediction))"
   ]
  },
  {
   "cell_type": "code",
   "execution_count": 35,
   "metadata": {},
   "outputs": [],
   "source": [
    "from sklearn.base import clone\n",
    "class Average_Regressor():\n",
    "\n",
    "    def __init__(self, models):\n",
    "        self.models = [x for x in models]\n",
    "        self.models_ = [clone(x) for x in self.models]\n",
    "    \n",
    "    def fit(self, X, y):        \n",
    "        for model in self.models_:\n",
    "            model.fit(X, y)\n",
    "\n",
    "        return self\n",
    "\n",
    "    def predict(self, X):\n",
    "        prediction = np.column_stack([\n",
    "            model.predict(X) for model in self.models_\n",
    "        ])\n",
    "        return np.mean(prediction, axis=1)"
   ]
  },
  {
   "cell_type": "markdown",
   "metadata": {},
   "source": [
    "Let's try our first 'model'."
   ]
  },
  {
   "cell_type": "code",
   "execution_count": 36,
   "metadata": {},
   "outputs": [
    {
     "name": "stdout",
     "output_type": "stream",
     "text": [
      "Prediction metrics on training data:\n"
     ]
    },
    {
     "data": {
      "image/png": "[encoded data removed]",
      "text/plain": [
       "<Figure size 432x288 with 1 Axes>"
      ]
     },
     "metadata": {
      "needs_background": "light"
     },
     "output_type": "display_data"
    },
    {
     "name": "stdout",
     "output_type": "stream",
     "text": [
      "MAE: 11334946.72046761\n",
      "MSE: 377534345423584.1\n",
      "RMSE: 19430243.061361432\n",
      "R2 Score: 0.9554912476159817\n",
      "\n",
      "\n",
      "Prediction metrics on testing data:\n"
     ]
    },
    {
     "data": {
      "image/png": "[encoded data removed]",
      "text/plain": [
       "<Figure size 432x288 with 1 Axes>"
      ]
     },
     "metadata": {
      "needs_background": "light"
     },
     "output_type": "display_data"
    },
    {
     "name": "stdout",
     "output_type": "stream",
     "text": [
      "MAE: 16707303.821890004\n",
      "MSE: 882391842534744.6\n",
      "RMSE: 29705081.089516398\n",
      "R2 Score: 0.9095489452854413\n"
     ]
    }
   ],
   "source": [
    "avg_reg_1 = Average_Regressor(models = [rfr_tuned, xgb_tuned, LGBMRegressor()])\n",
    "avg_reg_1.fit(X_train, y_train)\n",
    "print('Prediction metrics on training data:')\n",
    "evaluate_pred(y_train, avg_reg_1.predict(X_train))\n",
    "print('\\n')\n",
    "print('Prediction metrics on testing data:')\n",
    "evaluate_pred(y_test, avg_reg_1.predict(X_test))"
   ]
  },
  {
   "cell_type": "code",
   "execution_count": 37,
   "metadata": {},
   "outputs": [
    {
     "name": "stdout",
     "output_type": "stream",
     "text": [
      "Prediction metrics on training data:\n"
     ]
    },
    {
     "data": {
      "image/png": "[encoded data removed]",
      "text/plain": [
       "<Figure size 432x288 with 1 Axes>"
      ]
     },
     "metadata": {
      "needs_background": "light"
     },
     "output_type": "display_data"
    },
    {
     "name": "stdout",
     "output_type": "stream",
     "text": [
      "MAE: 12435293.507116834\n",
      "MSE: 420613430591354.06\n",
      "RMSE: 20508862.245169867\n",
      "R2 Score: 0.9504125140970192\n",
      "\n",
      "\n",
      "Prediction metrics on testing data:\n"
     ]
    },
    {
     "data": {
      "image/png": "[encoded data removed]",
      "text/plain": [
       "<Figure size 432x288 with 1 Axes>"
      ]
     },
     "metadata": {
      "needs_background": "light"
     },
     "output_type": "display_data"
    },
    {
     "name": "stdout",
     "output_type": "stream",
     "text": [
      "MAE: 16879007.482693672\n",
      "MSE: 890963672187208.4\n",
      "RMSE: 29849014.593235876\n",
      "R2 Score: 0.9086702755204629\n"
     ]
    }
   ],
   "source": [
    "avg_reg_2 = Average_Regressor(models = [xgb_tuned, LGBMRegressor()])\n",
    "avg_reg_2.fit(X_train, y_train)\n",
    "print('Prediction metrics on training data:')\n",
    "evaluate_pred(y_train, avg_reg_2.predict(X_train))\n",
    "print('\\n')\n",
    "print('Prediction metrics on testing data:')\n",
    "evaluate_pred(y_test, avg_reg_2.predict(X_test))"
   ]
  },
  {
   "cell_type": "markdown",
   "metadata": {},
   "source": [
    "On a glance, the new models has worse/same than both our XGB and Light GBM Regressor. Well, that's it folks. Game's over. Or is it? \n",
    "\n",
    "We've gotten this far, and it feels that we need to have an all-out battle royale between all our top models. And by battle royale I mean comparing all of them 1000 times on different train and test splits. \n",
    "\n",
    "We are going to split the data into train and test splits 500 times using randomized ```random_state``` and evaluate our models on each iterations. In the end, we'll have 500 RMSE and R2-score metrics for each models, and we'll compare them to see which model truly performs the best.\n",
    "\n",
    "Again, another disclaimer here: this step is computationally intensive and time-consuming. In a tighter deadline, we'd just go with one of the top models and call it a day. However, for curiosity's sake, let's try it."
   ]
  },
  {
   "cell_type": "markdown",
   "metadata": {},
   "source": [
    "### Comparing our 'Average Model' against Each Regression Models\n",
    "\n",
    "Disclaimer: this is a computationally intensive process which might not be the best way to evaluate if our average model performs better than our three regression models. That can be done much quicker with a cross validation. However, I want to visualize the results in a more detailed manner, and I want to do it over 1000 iterations. Here's how we're going to do it.\n",
    "\n",
    "1. Split the data into train-test split using randomized ```random_state```\n",
    "2. Initialize our 5 models (average_1, average_2, random forest, xgboost, and light gbm)\n",
    "3. Fit each model on the training set\n",
    "4. Evaluate each model's prediction on the testing set (Metric: RMSE and R2-score)\n",
    "5. Repeat step 1-4 500 times, and store the result in a dataframe"
   ]
  },
  {
   "cell_type": "code",
   "execution_count": 41,
   "metadata": {},
   "outputs": [
    {
     "name": "stdout",
     "output_type": "stream",
     "text": [
      "Iteration 0  passed.\n",
      "Iteration 1  passed.\n",
      "Iteration 2  passed.\n",
      "Iteration 3  passed.\n",
      "Iteration 4  passed.\n",
      "Iteration 5  passed.\n",
      "Iteration 6  passed.\n",
      "Iteration 7  passed.\n",
      "Iteration 8  passed.\n",
      "Iteration 9  passed.\n",
      "Iteration 10  passed.\n",
      "Iteration 11  passed.\n",
      "Iteration 12  passed.\n",
      "Iteration 13  passed.\n",
      "Iteration 14  passed.\n",
      "Iteration 15  passed.\n",
      "Iteration 16  passed.\n",
      "Iteration 17  passed.\n",
      "Iteration 18  passed.\n",
      "Iteration 19  passed.\n",
      "Iteration 20  passed.\n",
      "Iteration 21  passed.\n",
      "Iteration 22  passed.\n",
      "Iteration 23  passed.\n",
      "Iteration 24  passed.\n",
      "Iteration 25  passed.\n",
      "Iteration 26  passed.\n",
      "Iteration 27  passed.\n",
      "Iteration 28  passed.\n",
      "Iteration 29  passed.\n",
      "Iteration 30  passed.\n",
      "Iteration 31  passed.\n",
      "Iteration 32  passed.\n",
      "Iteration 33  passed.\n",
      "Iteration 34  passed.\n",
      "Iteration 35  passed.\n",
      "Iteration 36  passed.\n",
      "Iteration 37  passed.\n",
      "Iteration 38  passed.\n",
      "Iteration 39  passed.\n",
      "Iteration 40  passed.\n",
      "Iteration 41  passed.\n",
      "Iteration 42  passed.\n",
      "Iteration 43  passed.\n",
      "Iteration 44  passed.\n",
      "Iteration 45  passed.\n",
      "Iteration 46  passed.\n",
      "Iteration 47  passed.\n",
      "Iteration 48  passed.\n",
      "Iteration 49  passed.\n",
      "Iteration 50  passed.\n",
      "Iteration 51  passed.\n",
      "Iteration 52  passed.\n",
      "Iteration 53  passed.\n",
      "Iteration 54  passed.\n",
      "Iteration 55  passed.\n",
      "Iteration 56  passed.\n",
      "Iteration 57  passed.\n",
      "Iteration 58  passed.\n",
      "Iteration 59  passed.\n",
      "Iteration 60  passed.\n",
      "Iteration 61  passed.\n",
      "Iteration 62  passed.\n",
      "Iteration 63  passed.\n",
      "Iteration 64  passed.\n",
      "Iteration 65  passed.\n",
      "Iteration 66  passed.\n",
      "Iteration 67  passed.\n",
      "Iteration 68  passed.\n",
      "Iteration 69  passed.\n",
      "Iteration 70  passed.\n",
      "Iteration 71  passed.\n",
      "Iteration 72  passed.\n",
      "Iteration 73  passed.\n",
      "Iteration 74  passed.\n",
      "Iteration 75  passed.\n",
      "Iteration 76  passed.\n",
      "Iteration 77  passed.\n",
      "Iteration 78  passed.\n",
      "Iteration 79  passed.\n",
      "Iteration 80  passed.\n",
      "Iteration 81  passed.\n",
      "Iteration 82  passed.\n",
      "Iteration 83  passed.\n",
      "Iteration 84  passed.\n",
      "Iteration 85  passed.\n",
      "Iteration 86  passed.\n",
      "Iteration 87  passed.\n",
      "Iteration 88  passed.\n",
      "Iteration 89  passed.\n",
      "Iteration 90  passed.\n",
      "Iteration 91  passed.\n",
      "Iteration 92  passed.\n",
      "Iteration 93  passed.\n",
      "Iteration 94  passed.\n",
      "Iteration 95  passed.\n",
      "Iteration 96  passed.\n",
      "Iteration 97  passed.\n",
      "Iteration 98  passed.\n",
      "Iteration 99  passed.\n",
      "Iteration 100  passed.\n",
      "Iteration 101  passed.\n",
      "Iteration 102  passed.\n",
      "Iteration 103  passed.\n",
      "Iteration 104  passed.\n",
      "Iteration 105  passed.\n",
      "Iteration 106  passed.\n",
      "Iteration 107  passed.\n",
      "Iteration 108  passed.\n",
      "Iteration 109  passed.\n",
      "Iteration 110  passed.\n",
      "Iteration 111  passed.\n",
      "Iteration 112  passed.\n",
      "Iteration 113  passed.\n",
      "Iteration 114  passed.\n",
      "Iteration 115  passed.\n",
      "Iteration 116  passed.\n",
      "Iteration 117  passed.\n",
      "Iteration 118  passed.\n",
      "Iteration 119  passed.\n",
      "Iteration 120  passed.\n",
      "Iteration 121  passed.\n",
      "Iteration 122  passed.\n",
      "Iteration 123  passed.\n",
      "Iteration 124  passed.\n",
      "Iteration 125  passed.\n",
      "Iteration 126  passed.\n",
      "Iteration 127  passed.\n",
      "Iteration 128  passed.\n",
      "Iteration 129  passed.\n",
      "Iteration 130  passed.\n",
      "Iteration 131  passed.\n",
      "Iteration 132  passed.\n",
      "Iteration 133  passed.\n",
      "Iteration 134  passed.\n",
      "Iteration 135  passed.\n",
      "Iteration 136  passed.\n",
      "Iteration 137  passed.\n",
      "Iteration 138  passed.\n",
      "Iteration 139  passed.\n",
      "Iteration 140  passed.\n",
      "Iteration 141  passed.\n",
      "Iteration 142  passed.\n",
      "Iteration 143  passed.\n",
      "Iteration 144  passed.\n",
      "Iteration 145  passed.\n",
      "Iteration 146  passed.\n",
      "Iteration 147  passed.\n",
      "Iteration 148  passed.\n",
      "Iteration 149  passed.\n",
      "Iteration 150  passed.\n",
      "Iteration 151  passed.\n",
      "Iteration 152  passed.\n",
      "Iteration 153  passed.\n",
      "Iteration 154  passed.\n",
      "Iteration 155  passed.\n",
      "Iteration 156  passed.\n",
      "Iteration 157  passed.\n",
      "Iteration 158  passed.\n",
      "Iteration 159  passed.\n",
      "Iteration 160  passed.\n",
      "Iteration 161  passed.\n",
      "Iteration 162  passed.\n",
      "Iteration 163  passed.\n",
      "Iteration 164  passed.\n",
      "Iteration 165  passed.\n",
      "Iteration 166  passed.\n",
      "Iteration 167  passed.\n",
      "Iteration 168  passed.\n",
      "Iteration 169  passed.\n",
      "Iteration 170  passed.\n",
      "Iteration 171  passed.\n",
      "Iteration 172  passed.\n",
      "Iteration 173  passed.\n",
      "Iteration 174  passed.\n",
      "Iteration 175  passed.\n",
      "Iteration 176  passed.\n",
      "Iteration 177  passed.\n",
      "Iteration 178  passed.\n",
      "Iteration 179  passed.\n",
      "Iteration 180  passed.\n",
      "Iteration 181  passed.\n",
      "Iteration 182  passed.\n",
      "Iteration 183  passed.\n",
      "Iteration 184  passed.\n",
      "Iteration 185  passed.\n",
      "Iteration 186  passed.\n",
      "Iteration 187  passed.\n",
      "Iteration 188  passed.\n",
      "Iteration 189  passed.\n",
      "Iteration 190  passed.\n",
      "Iteration 191  passed.\n",
      "Iteration 192  passed.\n",
      "Iteration 193  passed.\n",
      "Iteration 194  passed.\n",
      "Iteration 195  passed.\n",
      "Iteration 196  passed.\n",
      "Iteration 197  passed.\n",
      "Iteration 198  passed.\n",
      "Iteration 199  passed.\n",
      "Iteration 200  passed.\n",
      "Iteration 201  passed.\n",
      "Iteration 202  passed.\n",
      "Iteration 203  passed.\n",
      "Iteration 204  passed.\n",
      "Iteration 205  passed.\n",
      "Iteration 206  passed.\n",
      "Iteration 207  passed.\n",
      "Iteration 208  passed.\n",
      "Iteration 209  passed.\n",
      "Iteration 210  passed.\n",
      "Iteration 211  passed.\n",
      "Iteration 212  passed.\n",
      "Iteration 213  passed.\n",
      "Iteration 214  passed.\n",
      "Iteration 215  passed.\n",
      "Iteration 216  passed.\n",
      "Iteration 217  passed.\n",
      "Iteration 218  passed.\n",
      "Iteration 219  passed.\n",
      "Iteration 220  passed.\n",
      "Iteration 221  passed.\n",
      "Iteration 222  passed.\n",
      "Iteration 223  passed.\n",
      "Iteration 224  passed.\n",
      "Iteration 225  passed.\n",
      "Iteration 226  passed.\n",
      "Iteration 227  passed.\n",
      "Iteration 228  passed.\n",
      "Iteration 229  passed.\n",
      "Iteration 230  passed.\n",
      "Iteration 231  passed.\n",
      "Iteration 232  passed.\n",
      "Iteration 233  passed.\n",
      "Iteration 234  passed.\n",
      "Iteration 235  passed.\n",
      "Iteration 236  passed.\n",
      "Iteration 237  passed.\n",
      "Iteration 238  passed.\n",
      "Iteration 239  passed.\n",
      "Iteration 240  passed.\n",
      "Iteration 241  passed.\n",
      "Iteration 242  passed.\n",
      "Iteration 243  passed.\n",
      "Iteration 244  passed.\n",
      "Iteration 245  passed.\n",
      "Iteration 246  passed.\n",
      "Iteration 247  passed.\n",
      "Iteration 248  passed.\n",
      "Iteration 249  passed.\n",
      "Iteration 250  passed.\n",
      "Iteration 251  passed.\n",
      "Iteration 252  passed.\n",
      "Iteration 253  passed.\n",
      "Iteration 254  passed.\n",
      "Iteration 255  passed.\n",
      "Iteration 256  passed.\n",
      "Iteration 257  passed.\n",
      "Iteration 258  passed.\n",
      "Iteration 259  passed.\n",
      "Iteration 260  passed.\n",
      "Iteration 261  passed.\n",
      "Iteration 262  passed.\n",
      "Iteration 263  passed.\n",
      "Iteration 264  passed.\n",
      "Iteration 265  passed.\n",
      "Iteration 266  passed.\n",
      "Iteration 267  passed.\n",
      "Iteration 268  passed.\n",
      "Iteration 269  passed.\n",
      "Iteration 270  passed.\n",
      "Iteration 271  passed.\n",
      "Iteration 272  passed.\n",
      "Iteration 273  passed.\n",
      "Iteration 274  passed.\n",
      "Iteration 275  passed.\n",
      "Iteration 276  passed.\n",
      "Iteration 277  passed.\n",
      "Iteration 278  passed.\n",
      "Iteration 279  passed.\n",
      "Iteration 280  passed.\n",
      "Iteration 281  passed.\n",
      "Iteration 282  passed.\n",
      "Iteration 283  passed.\n",
      "Iteration 284  passed.\n",
      "Iteration 285  passed.\n",
      "Iteration 286  passed.\n",
      "Iteration 287  passed.\n",
      "Iteration 288  passed.\n",
      "Iteration 289  passed.\n",
      "Iteration 290  passed.\n",
      "Iteration 291  passed.\n",
      "Iteration 292  passed.\n",
      "Iteration 293  passed.\n",
      "Iteration 294  passed.\n",
      "Iteration 295  passed.\n",
      "Iteration 296  passed.\n",
      "Iteration 297  passed.\n",
      "Iteration 298  passed.\n",
      "Iteration 299  passed.\n",
      "Iteration 300  passed.\n",
      "Iteration 301  passed.\n",
      "Iteration 302  passed.\n",
      "Iteration 303  passed.\n",
      "Iteration 304  passed.\n",
      "Iteration 305  passed.\n",
      "Iteration 306  passed.\n",
      "Iteration 307  passed.\n",
      "Iteration 308  passed.\n",
      "Iteration 309  passed.\n",
      "Iteration 310  passed.\n",
      "Iteration 311  passed.\n",
      "Iteration 312  passed.\n",
      "Iteration 313  passed.\n",
      "Iteration 314  passed.\n",
      "Iteration 315  passed.\n",
      "Iteration 316  passed.\n",
      "Iteration 317  passed.\n",
      "Iteration 318  passed.\n",
      "Iteration 319  passed.\n",
      "Iteration 320  passed.\n",
      "Iteration 321  passed.\n",
      "Iteration 322  passed.\n",
      "Iteration 323  passed.\n",
      "Iteration 324  passed.\n",
      "Iteration 325  passed.\n",
      "Iteration 326  passed.\n",
      "Iteration 327  passed.\n",
      "Iteration 328  passed.\n",
      "Iteration 329  passed.\n",
      "Iteration 330  passed.\n",
      "Iteration 331  passed.\n",
      "Iteration 332  passed.\n",
      "Iteration 333  passed.\n",
      "Iteration 334  passed.\n",
      "Iteration 335  passed.\n",
      "Iteration 336  passed.\n",
      "Iteration 337  passed.\n",
      "Iteration 338  passed.\n",
      "Iteration 339  passed.\n",
      "Iteration 340  passed.\n",
      "Iteration 341  passed.\n",
      "Iteration 342  passed.\n",
      "Iteration 343  passed.\n",
      "Iteration 344  passed.\n",
      "Iteration 345  passed.\n",
      "Iteration 346  passed.\n",
      "Iteration 347  passed.\n",
      "Iteration 348  passed.\n",
      "Iteration 349  passed.\n",
      "Iteration 350  passed.\n",
      "Iteration 351  passed.\n",
      "Iteration 352  passed.\n",
      "Iteration 353  passed.\n",
      "Iteration 354  passed.\n",
      "Iteration 355  passed.\n",
      "Iteration 356  passed.\n",
      "Iteration 357  passed.\n",
      "Iteration 358  passed.\n",
      "Iteration 359  passed.\n",
      "Iteration 360  passed.\n"
     ]
    },
    {
     "name": "stdout",
     "output_type": "stream",
     "text": [
      "Iteration 361  passed.\n",
      "Iteration 362  passed.\n",
      "Iteration 363  passed.\n",
      "Iteration 364  passed.\n",
      "Iteration 365  passed.\n",
      "Iteration 366  passed.\n",
      "Iteration 367  passed.\n",
      "Iteration 368  passed.\n",
      "Iteration 369  passed.\n",
      "Iteration 370  passed.\n",
      "Iteration 371  passed.\n",
      "Iteration 372  passed.\n",
      "Iteration 373  passed.\n",
      "Iteration 374  passed.\n",
      "Iteration 375  passed.\n",
      "Iteration 376  passed.\n",
      "Iteration 377  passed.\n",
      "Iteration 378  passed.\n",
      "Iteration 379  passed.\n",
      "Iteration 380  passed.\n",
      "Iteration 381  passed.\n",
      "Iteration 382  passed.\n",
      "Iteration 383  passed.\n",
      "Iteration 384  passed.\n",
      "Iteration 385  passed.\n",
      "Iteration 386  passed.\n",
      "Iteration 387  passed.\n",
      "Iteration 388  passed.\n",
      "Iteration 389  passed.\n",
      "Iteration 390  passed.\n",
      "Iteration 391  passed.\n",
      "Iteration 392  passed.\n",
      "Iteration 393  passed.\n",
      "Iteration 394  passed.\n",
      "Iteration 395  passed.\n",
      "Iteration 396  passed.\n",
      "Iteration 397  passed.\n",
      "Iteration 398  passed.\n",
      "Iteration 399  passed.\n",
      "Iteration 400  passed.\n",
      "Iteration 401  passed.\n",
      "Iteration 402  passed.\n",
      "Iteration 403  passed.\n",
      "Iteration 404  passed.\n",
      "Iteration 405  passed.\n",
      "Iteration 406  passed.\n",
      "Iteration 407  passed.\n",
      "Iteration 408  passed.\n",
      "Iteration 409  passed.\n",
      "Iteration 410  passed.\n",
      "Iteration 411  passed.\n",
      "Iteration 412  passed.\n",
      "Iteration 413  passed.\n",
      "Iteration 414  passed.\n",
      "Iteration 415  passed.\n",
      "Iteration 416  passed.\n",
      "Iteration 417  passed.\n",
      "Iteration 418  passed.\n",
      "Iteration 419  passed.\n",
      "Iteration 420  passed.\n",
      "Iteration 421  passed.\n",
      "Iteration 422  passed.\n",
      "Iteration 423  passed.\n",
      "Iteration 424  passed.\n",
      "Iteration 425  passed.\n",
      "Iteration 426  passed.\n",
      "Iteration 427  passed.\n",
      "Iteration 428  passed.\n",
      "Iteration 429  passed.\n",
      "Iteration 430  passed.\n",
      "Iteration 431  passed.\n",
      "Iteration 432  passed.\n",
      "Iteration 433  passed.\n",
      "Iteration 434  passed.\n",
      "Iteration 435  passed.\n",
      "Iteration 436  passed.\n",
      "Iteration 437  passed.\n",
      "Iteration 438  passed.\n",
      "Iteration 439  passed.\n",
      "Iteration 440  passed.\n",
      "Iteration 441  passed.\n",
      "Iteration 442  passed.\n",
      "Iteration 443  passed.\n",
      "Iteration 444  passed.\n",
      "Iteration 445  passed.\n",
      "Iteration 446  passed.\n",
      "Iteration 447  passed.\n",
      "Iteration 448  passed.\n",
      "Iteration 449  passed.\n",
      "Iteration 450  passed.\n",
      "Iteration 451  passed.\n",
      "Iteration 452  passed.\n",
      "Iteration 453  passed.\n",
      "Iteration 454  passed.\n",
      "Iteration 455  passed.\n",
      "Iteration 456  passed.\n",
      "Iteration 457  passed.\n",
      "Iteration 458  passed.\n",
      "Iteration 459  passed.\n",
      "Iteration 460  passed.\n",
      "Iteration 461  passed.\n",
      "Iteration 462  passed.\n",
      "Iteration 463  passed.\n",
      "Iteration 464  passed.\n",
      "Iteration 465  passed.\n",
      "Iteration 466  passed.\n",
      "Iteration 467  passed.\n",
      "Iteration 468  passed.\n",
      "Iteration 469  passed.\n",
      "Iteration 470  passed.\n",
      "Iteration 471  passed.\n",
      "Iteration 472  passed.\n",
      "Iteration 473  passed.\n",
      "Iteration 474  passed.\n",
      "Iteration 475  passed.\n",
      "Iteration 476  passed.\n",
      "Iteration 477  passed.\n",
      "Iteration 478  passed.\n",
      "Iteration 479  passed.\n",
      "Iteration 480  passed.\n",
      "Iteration 481  passed.\n",
      "Iteration 482  passed.\n",
      "Iteration 483  passed.\n",
      "Iteration 484  passed.\n",
      "Iteration 485  passed.\n",
      "Iteration 486  passed.\n",
      "Iteration 487  passed.\n",
      "Iteration 488  passed.\n",
      "Iteration 489  passed.\n",
      "Iteration 490  passed.\n",
      "Iteration 491  passed.\n",
      "Iteration 492  passed.\n",
      "Iteration 493  passed.\n",
      "Iteration 494  passed.\n",
      "Iteration 495  passed.\n",
      "Iteration 496  passed.\n",
      "Iteration 497  passed.\n",
      "Iteration 498  passed.\n",
      "Iteration 499  passed.\n"
     ]
    }
   ],
   "source": [
    "from random import randint\n",
    "from sklearn import metrics\n",
    "\n",
    "RFR_RMSE = list()\n",
    "RFR_R2 = list()\n",
    "\n",
    "XGB_RMSE = list()\n",
    "XGB_R2 = list()\n",
    "\n",
    "LGB_RMSE = list()\n",
    "LGB_R2 = list()\n",
    "\n",
    "AVG1_RMSE = list()\n",
    "AVG1_R2 = list()\n",
    "\n",
    "AVG2_RMSE = list()\n",
    "AVG2_R2 = list()\n",
    "\n",
    "for i in range(500):\n",
    "    print('Iteration', i, ' passed.')\n",
    "    random_integer = randint(0,100000)\n",
    "    X_train, X_test, y_train, y_test = train_test_split(X, y, test_size = 0.2, random_state = random_integer)\n",
    "    test_val = y_test['AnnualPrice'].to_numpy().reshape(len(y_test.AnnualPrice), 1)\n",
    "      \n",
    "    rfr_iter = RandomForestRegressor(n_estimators = 150, min_samples_split = 2,\n",
    "                                 min_samples_leaf = 2, max_features = 'auto', \n",
    "                                 max_depth = 70, bootstrap = True)\n",
    "    rfr_iter.fit(X_train, y_train)\n",
    "    rfr_predict = rfr_iter.predict(X_test)\n",
    "    rfr_rmse = np.sqrt(metrics.mean_squared_error(test_val, rfr_predict))\n",
    "    RFR_RMSE.append(rfr_rmse)\n",
    "    rfr_adjr2 = 1-(1-metrics.r2_score(test_val, rfr_predict))*((X_train.shape[0]-1)/(X_train.shape[0]-X_train.shape[1]-1))\n",
    "    RFR_R2.append(rfr_adjr2)    \n",
    "    \n",
    "    xgb_iter = XGBRegressor(n_estimators=75, subsample=0.5, min_child_weight=5, max_depth=5, reg_lambda=10, alpha=9)\n",
    "    xgb_iter.fit(X_train, y_train)\n",
    "    xgb_predict = xgb_iter.predict(X_test)\n",
    "    xgb_rmse = np.sqrt(metrics.mean_squared_error(test_val, xgb_predict))\n",
    "    XGB_RMSE.append(xgb_rmse)\n",
    "    xgb_adjr2 = 1-(1-metrics.r2_score(test_val, xgb_predict))*((X_train.shape[0]-1)/(X_train.shape[0]-X_train.shape[1]-1))\n",
    "    XGB_R2.append(xgb_adjr2)\n",
    "    \n",
    "    lgb_iter = LGBMRegressor()\n",
    "    lgb_iter.fit(X_train, y_train)\n",
    "    lgb_predict = lgb_iter.predict(X_test)\n",
    "    lgb_rmse = np.sqrt(metrics.mean_squared_error(test_val, lgb_predict))\n",
    "    LGB_RMSE.append(lgb_rmse)\n",
    "    lgb_adjr2 = 1-(1-metrics.r2_score(test_val, lgb_predict))*((X_train.shape[0]-1)/(X_train.shape[0]-X_train.shape[1]-1))\n",
    "    LGB_R2.append(lgb_adjr2)\n",
    "    \n",
    "    avg_reg = Average_Regressor(models=[rfr_iter, xgb_iter, lgb_iter])\n",
    "    avg_reg.fit(X_train, y_train)\n",
    "    avg_predict = avg_reg.predict(X_test)\n",
    "    avg_rmse = np.sqrt(metrics.mean_squared_error(test_val, avg_predict))\n",
    "    AVG1_RMSE.append(avg_rmse)\n",
    "    avg_adjr2 = 1-(1-metrics.r2_score(test_val, avg_predict))*((X_train.shape[0]-1)/(X_train.shape[0]-X_train.shape[1]-1))\n",
    "    AVG1_R2.append(avg_adjr2)\n",
    "    \n",
    "    avg2_reg = Average_Regressor(models=[lgb_iter, xgb_iter])\n",
    "    avg2_reg.fit(X_train, y_train)\n",
    "    avg2_predict = avg2_reg.predict(X_test)\n",
    "    avg2_rmse = np.sqrt(metrics.mean_squared_error(test_val, avg2_predict))\n",
    "    AVG2_RMSE.append(avg2_rmse)\n",
    "    avg2_adjr2 = 1-(1-metrics.r2_score(test_val, avg2_predict))*((X_train.shape[0]-1)/(X_train.shape[0]-X_train.shape[1]-1))\n",
    "    AVG2_R2.append(avg2_adjr2)\n",
    "    \n",
    "df = pd.DataFrame(zip(RFR_RMSE, RFR_R2, XGB_RMSE, XGB_R2, LGB_RMSE, LGB_R2, AVG1_RMSE, AVG1_R2, AVG2_RMSE, AVG2_R2))\n",
    "df = df.rename({0:'RFR_RMSE', 1:'RFR_R2', 2:'XGB_RMSE', 3:'XGB_R2', 4:'LGB_RMSE', 5:'LGB_R2',\n",
    "               6:'AVG1_RMSE', 7:'AVG1_R2', 8:'AVG2_RMSE', 9:'AVG2_R2'}, axis = 'columns')\n",
    "    "
   ]
  },
  {
   "cell_type": "code",
   "execution_count": 42,
   "metadata": {},
   "outputs": [
    {
     "data": {
      "text/html": [
       "<div>\n",
       "<style scoped>\n",
       "    .dataframe tbody tr th:only-of-type {\n",
       "        vertical-align: middle;\n",
       "    }\n",
       "\n",
       "    .dataframe tbody tr th {\n",
       "        vertical-align: top;\n",
       "    }\n",
       "\n",
       "    .dataframe thead th {\n",
       "        text-align: right;\n",
       "    }\n",
       "</style>\n",
       "<table border=\"1\" class=\"dataframe\">\n",
       "  <thead>\n",
       "    <tr style=\"text-align: right;\">\n",
       "      <th></th>\n",
       "      <th>RFR_RMSE</th>\n",
       "      <th>RFR_R2</th>\n",
       "      <th>XGB_RMSE</th>\n",
       "      <th>XGB_R2</th>\n",
       "      <th>LGB_RMSE</th>\n",
       "      <th>LGB_R2</th>\n",
       "      <th>AVG1_RMSE</th>\n",
       "      <th>AVG1_R2</th>\n",
       "      <th>AVG2_RMSE</th>\n",
       "      <th>AVG2_R2</th>\n",
       "    </tr>\n",
       "  </thead>\n",
       "  <tbody>\n",
       "    <tr>\n",
       "      <th>count</th>\n",
       "      <td>5.000000e+02</td>\n",
       "      <td>500.000000</td>\n",
       "      <td>5.000000e+02</td>\n",
       "      <td>500.000000</td>\n",
       "      <td>5.000000e+02</td>\n",
       "      <td>500.000000</td>\n",
       "      <td>5.000000e+02</td>\n",
       "      <td>500.000000</td>\n",
       "      <td>5.000000e+02</td>\n",
       "      <td>500.000000</td>\n",
       "    </tr>\n",
       "    <tr>\n",
       "      <th>mean</th>\n",
       "      <td>3.095383e+07</td>\n",
       "      <td>0.888679</td>\n",
       "      <td>3.129364e+07</td>\n",
       "      <td>0.886272</td>\n",
       "      <td>3.004878e+07</td>\n",
       "      <td>0.895118</td>\n",
       "      <td>2.992080e+07</td>\n",
       "      <td>0.896011</td>\n",
       "      <td>3.009178e+07</td>\n",
       "      <td>0.894829</td>\n",
       "    </tr>\n",
       "    <tr>\n",
       "      <th>std</th>\n",
       "      <td>2.078432e+06</td>\n",
       "      <td>0.013462</td>\n",
       "      <td>1.993779e+06</td>\n",
       "      <td>0.012923</td>\n",
       "      <td>1.981156e+06</td>\n",
       "      <td>0.012368</td>\n",
       "      <td>1.977281e+06</td>\n",
       "      <td>0.012273</td>\n",
       "      <td>1.958180e+06</td>\n",
       "      <td>0.012215</td>\n",
       "    </tr>\n",
       "    <tr>\n",
       "      <th>min</th>\n",
       "      <td>2.432089e+07</td>\n",
       "      <td>0.844734</td>\n",
       "      <td>2.490106e+07</td>\n",
       "      <td>0.841955</td>\n",
       "      <td>2.415364e+07</td>\n",
       "      <td>0.855301</td>\n",
       "      <td>2.361400e+07</td>\n",
       "      <td>0.858179</td>\n",
       "      <td>2.398040e+07</td>\n",
       "      <td>0.856498</td>\n",
       "    </tr>\n",
       "    <tr>\n",
       "      <th>25%</th>\n",
       "      <td>2.956109e+07</td>\n",
       "      <td>0.880771</td>\n",
       "      <td>2.993390e+07</td>\n",
       "      <td>0.879897</td>\n",
       "      <td>2.855239e+07</td>\n",
       "      <td>0.888500</td>\n",
       "      <td>2.850642e+07</td>\n",
       "      <td>0.889263</td>\n",
       "      <td>2.876342e+07</td>\n",
       "      <td>0.888426</td>\n",
       "    </tr>\n",
       "    <tr>\n",
       "      <th>50%</th>\n",
       "      <td>3.094033e+07</td>\n",
       "      <td>0.889727</td>\n",
       "      <td>3.134558e+07</td>\n",
       "      <td>0.887480</td>\n",
       "      <td>3.001085e+07</td>\n",
       "      <td>0.896389</td>\n",
       "      <td>2.988421e+07</td>\n",
       "      <td>0.897027</td>\n",
       "      <td>3.007948e+07</td>\n",
       "      <td>0.896159</td>\n",
       "    </tr>\n",
       "    <tr>\n",
       "      <th>75%</th>\n",
       "      <td>3.225563e+07</td>\n",
       "      <td>0.897584</td>\n",
       "      <td>3.253210e+07</td>\n",
       "      <td>0.894261</td>\n",
       "      <td>3.133147e+07</td>\n",
       "      <td>0.903195</td>\n",
       "      <td>3.119241e+07</td>\n",
       "      <td>0.903863</td>\n",
       "      <td>3.136686e+07</td>\n",
       "      <td>0.902511</td>\n",
       "    </tr>\n",
       "    <tr>\n",
       "      <th>max</th>\n",
       "      <td>3.963358e+07</td>\n",
       "      <td>0.927278</td>\n",
       "      <td>3.745463e+07</td>\n",
       "      <td>0.921333</td>\n",
       "      <td>3.781142e+07</td>\n",
       "      <td>0.923134</td>\n",
       "      <td>3.745149e+07</td>\n",
       "      <td>0.926490</td>\n",
       "      <td>3.711164e+07</td>\n",
       "      <td>0.924894</td>\n",
       "    </tr>\n",
       "  </tbody>\n",
       "</table>\n",
       "</div>"
      ],
      "text/plain": [
       "           RFR_RMSE      RFR_R2      XGB_RMSE      XGB_R2      LGB_RMSE  \\\n",
       "count  5.000000e+02  500.000000  5.000000e+02  500.000000  5.000000e+02   \n",
       "mean   3.095383e+07    0.888679  3.129364e+07    0.886272  3.004878e+07   \n",
       "std    2.078432e+06    0.013462  1.993779e+06    0.012923  1.981156e+06   \n",
       "min    2.432089e+07    0.844734  2.490106e+07    0.841955  2.415364e+07   \n",
       "25%    2.956109e+07    0.880771  2.993390e+07    0.879897  2.855239e+07   \n",
       "50%    3.094033e+07    0.889727  3.134558e+07    0.887480  3.001085e+07   \n",
       "75%    3.225563e+07    0.897584  3.253210e+07    0.894261  3.133147e+07   \n",
       "max    3.963358e+07    0.927278  3.745463e+07    0.921333  3.781142e+07   \n",
       "\n",
       "           LGB_R2     AVG1_RMSE     AVG1_R2     AVG2_RMSE     AVG2_R2  \n",
       "count  500.000000  5.000000e+02  500.000000  5.000000e+02  500.000000  \n",
       "mean     0.895118  2.992080e+07    0.896011  3.009178e+07    0.894829  \n",
       "std      0.012368  1.977281e+06    0.012273  1.958180e+06    0.012215  \n",
       "min      0.855301  2.361400e+07    0.858179  2.398040e+07    0.856498  \n",
       "25%      0.888500  2.850642e+07    0.889263  2.876342e+07    0.888426  \n",
       "50%      0.896389  2.988421e+07    0.897027  3.007948e+07    0.896159  \n",
       "75%      0.903195  3.119241e+07    0.903863  3.136686e+07    0.902511  \n",
       "max      0.923134  3.745149e+07    0.926490  3.711164e+07    0.924894  "
      ]
     },
     "execution_count": 42,
     "metadata": {},
     "output_type": "execute_result"
    }
   ],
   "source": [
    "df.describe()"
   ]
  },
  {
   "cell_type": "code",
   "execution_count": 43,
   "metadata": {},
   "outputs": [],
   "source": [
    "df.to_csv('Model Comparison.csv')"
   ]
  },
  {
   "cell_type": "markdown",
   "metadata": {},
   "source": [
    "There are a few takeaways from this result:\n",
    "- The first average regressor (that takes in the result of Random Forest, XGB, and Light GBM Regressor and averages them out) seems to be the best performing model, followed by Light GBM Regressor, the second average regressor, then the XGB Regressor, and finally, the Random Forest Regressor.\n",
    "- The gap between the first average regressor and the Light GBM Regressor is miniscule. The difference in R2-score is only by 0.1%, and around 100000 on the RMSE. \n",
    "- While this new model has improved performance, it seems that the improvement gain is not that much that it immediately becomes the go-to method to create a better regression result.\n",
    "\n",
    "Unless we're competing in a Kaggle competition in which a 0.1% change in accuracy makes a difference, or we have a lot of computational power at our expenses, we should be content with our baseline Light GBM model. And thus, using these results, we will decide that the baseline Light GBM model is our model of choice in this project."
   ]
  },
  {
   "cell_type": "markdown",
   "metadata": {},
   "source": [
    "### Hyperparameter Tuning on Light GBM Regressor"
   ]
  },
  {
   "cell_type": "markdown",
   "metadata": {},
   "source": [
    "Now why did I not do hyperparameter tuning on Light GBM Regressor earlier? Well, I did, (in a separate notebook), and the tuned Light GBM Regressor only gets better in its prediction on training data. Prediction metrics on testing data does not show any meaningful improvement, and this only causes the tuned model to have a worse overfitting issue than the baseline model."
   ]
  },
  {
   "cell_type": "code",
   "execution_count": 127,
   "metadata": {},
   "outputs": [
    {
     "name": "stdout",
     "output_type": "stream",
     "text": [
      "Fitting 5 folds for each of 250 candidates, totalling 1250 fits\n"
     ]
    },
    {
     "name": "stderr",
     "output_type": "stream",
     "text": [
      "[Parallel(n_jobs=-1)]: Using backend LokyBackend with 8 concurrent workers.\n",
      "[Parallel(n_jobs=-1)]: Done  52 tasks      | elapsed:    0.8s\n",
      "[Parallel(n_jobs=-1)]: Done 352 tasks      | elapsed:    4.2s\n",
      "[Parallel(n_jobs=-1)]: Done 852 tasks      | elapsed:   10.1s\n",
      "[Parallel(n_jobs=-1)]: Done 1250 out of 1250 | elapsed:   14.8s finished\n"
     ]
    },
    {
     "name": "stdout",
     "output_type": "stream",
     "text": [
      "[LightGBM] [Warning] feature_fraction is set=0.4, colsample_bytree=1.0 will be ignored. Current value: feature_fraction=0.4\n",
      "[LightGBM] [Warning] min_data_in_leaf is set=10, min_child_samples=20 will be ignored. Current value: min_data_in_leaf=10\n",
      "{'num_leaves': 200, 'min_data_in_leaf': 10, 'max_depth': 11, 'feature_fraction': 0.4}\n"
     ]
    }
   ],
   "source": [
    "grid_params = {\n",
    "    'max_depth' : [3,5,7,9,11],\n",
    "    'num_leaves' : [10,20,50,80,100,120,150,200],\n",
    "    'min_data_in_leaf' : [10, 20, 50, 100, 150, 200, 250],\n",
    "    'feature_fraction' : [0.4, 0.5, 0.6, 0.7]\n",
    "}\n",
    "\n",
    "lgb = LGBMRegressor()\n",
    "lgb_random = RandomizedSearchCV(estimator = lgb, param_distributions = grid_params, \n",
    "                                     n_iter = 250, cv = 5, verbose = 1, random_state = 42, n_jobs = -1)\n",
    "lgb_random.fit(X_train, y_train)\n",
    "print(lgb_random.best_params_)"
   ]
  },
  {
   "cell_type": "code",
   "execution_count": 128,
   "metadata": {},
   "outputs": [
    {
     "name": "stdout",
     "output_type": "stream",
     "text": [
      "Prediction on training data:\n"
     ]
    },
    {
     "data": {
      "image/png": "[encoded data removed]",
      "text/plain": [
       "<Figure size 432x288 with 1 Axes>"
      ]
     },
     "metadata": {
      "needs_background": "light"
     },
     "output_type": "display_data"
    },
    {
     "name": "stdout",
     "output_type": "stream",
     "text": [
      "MAE: 9865858.23001457\n",
      "MSE: 280903353506318.44\n",
      "RMSE: 16760171.643104328\n",
      "R2 Score: 0.9677805808670656\n",
      "Adjusted R2 Score: 0.9675440212552232\n",
      "Prediction on testing data:\n"
     ]
    },
    {
     "data": {
      "image/png": "[encoded data removed]",
      "text/plain": [
       "<Figure size 432x288 with 1 Axes>"
      ]
     },
     "metadata": {
      "needs_background": "light"
     },
     "output_type": "display_data"
    },
    {
     "name": "stdout",
     "output_type": "stream",
     "text": [
      "MAE: 16230802.828968147\n",
      "MSE: 860396888945625.6\n",
      "RMSE: 29332522.717039283\n",
      "R2 Score: 0.9025631361101454\n",
      "Adjusted R2 Score: 0.9018477406337148\n"
     ]
    }
   ],
   "source": [
    "lgb_tuned = LGBMRegressor(num_leaves = 200, min_data_in_leaf = 10, max_depth = 11, feature_fraction = 0.4)\n",
    "lgb_tuned.fit(X_train, y_train)\n",
    "print('Prediction on training data:')\n",
    "evaluate(lgb_tuned, X_train, y_train)\n",
    "print('Prediction on testing data:')\n",
    "evaluate(lgb_tuned, X_test, y_test)"
   ]
  },
  {
   "cell_type": "markdown",
   "metadata": {},
   "source": [
    "This is an interesting insight. Baseline XGBoost Regressor model tends to overfit, and we have to tune it so that its overfitting tendencies can be lessened. However, the baseline Light GBM Regressor model tends to be more conservative - and tuning it makes it overfits. \n",
    "\n",
    "I don't know if this tendency happens to other datasets and cases too, but it certainly seems to be that way in our project's case. And thus, we have decided on a model to be our final choice: the baseline Light GBM Regressor."
   ]
  },
  {
   "cell_type": "markdown",
   "metadata": {},
   "source": [
    "### Creating Prediction Interval\n",
    "\n",
    "Our final step is trying to create a prediction interval for our prediction. When we say we predict that the annual rent price of apartment X is IDR Y, there is some uncertainty to it. Based on feedbacks from my first iteration of this web app project, I was challenged to create a prediction interval, so users of the web app can know the 'price range' instead of just having a single price. \n",
    "\n",
    "Suppose that we input a certain type of apartment, and the prediction comes in a 99% prediction interval. How do we interpret this? It means the model is willing to bet that the actual annual rent price of that apartment falls within the prediction interval, with 1% chance of being wrong. The probability that the actual rent price is outside the interval is 1%, according to our model.\n",
    "\n",
    "However, in real life, this does not mean that out of 100 predictions, our model is always correct in 99 of them. It is possible that, say, among 100 apartments which are predicted, there are more than 1 apartment whose annual rent price is outside the prediction interval. \n",
    "\n",
    "This is why we need to test our prediction intervals on the test data. \n",
    "\n",
    "We're going to evaluate a 99% prediction interval and 95% prediction interval."
   ]
  },
  {
   "cell_type": "code",
   "execution_count": 89,
   "metadata": {},
   "outputs": [],
   "source": [
    "y_preds = np.zeros((X_test.shape[0], 4))\n",
    "# insert quantiles that we want to check\n",
    "quantiles = [.01, .05, .95, .99]\n",
    "\n",
    "# the process is similar to how we do our usual train test splitting\n",
    "X_train, X_test, y_train, y_test = train_test_split(X, y, test_size = 0.2, random_state = 42)\n",
    "test_val = y_test['AnnualPrice'].to_numpy().reshape(len(y_test.AnnualPrice), 1)\n",
    "\n",
    "# however, there will be 4 generated outputs for each input, each one of them corresponds to the quantiles that we specify\n",
    "\n",
    "for i in range(len(quantiles)):\n",
    "    lgb = LGBMRegressor(objective = 'quantile', alpha=quantiles[i])\n",
    "    model = lgb.fit(X_train, y_train)\n",
    "    y_preds[:, i] = model.predict(X_test)"
   ]
  },
  {
   "cell_type": "code",
   "execution_count": 90,
   "metadata": {},
   "outputs": [],
   "source": [
    "ActualPrice = list()\n",
    "I_1 = list()\n",
    "I_99 = list()\n",
    "is_in_1_99 = list()\n",
    "I_5 = list()\n",
    "I_95 = list()\n",
    "is_in_5_95 = list()\n",
    "\n",
    "for i in range(len(test_val)):\n",
    "    actual_price = test_val[i][0]\n",
    "    ActualPrice.append(actual_price)\n",
    "    pred_1_prcnt = y_preds[i][0]\n",
    "    I_1.append(pred_1_prcnt)\n",
    "    pred_5_prcnt = y_preds[i][1]\n",
    "    I_5.append(pred_5_prcnt)\n",
    "    pred_95_prcnt = y_preds[i][2]\n",
    "    I_95.append(pred_95_prcnt)\n",
    "    pred_99_prcnt = y_preds[i][3]\n",
    "    I_99.append(pred_99_prcnt)\n",
    "    \n",
    "    if actual_price < pred_99_prcnt and actual_price > pred_1_prcnt:\n",
    "        is_in_1_99.append(1)\n",
    "    else:\n",
    "        is_in_1_99.append(0)\n",
    "    \n",
    "    if actual_price < pred_95_prcnt and actual_price > pred_5_prcnt:\n",
    "        is_in_5_95.append(1)\n",
    "    else:\n",
    "        is_in_5_95.append(0)\n",
    "        \n",
    "\n",
    "quantile_pred = pd.DataFrame(zip(ActualPrice, I_1, I_99, is_in_1_99, I_5, I_95, is_in_5_95))\n",
    "quantile_pred = quantile_pred.rename({0:'Actual Annual Rent Price', 1:'Quantile 0.01', 2:'Quantile 0.99',\n",
    "                                     3:'Between 1% and 99%', 4:'Quantile 0.05', 5:'Quantile 0.95',\n",
    "                                     6:'Between 5% and 95%'}, axis = 'columns')"
   ]
  },
  {
   "cell_type": "code",
   "execution_count": 93,
   "metadata": {},
   "outputs": [
    {
     "data": {
      "text/html": [
       "<div>\n",
       "<style scoped>\n",
       "    .dataframe tbody tr th:only-of-type {\n",
       "        vertical-align: middle;\n",
       "    }\n",
       "\n",
       "    .dataframe tbody tr th {\n",
       "        vertical-align: top;\n",
       "    }\n",
       "\n",
       "    .dataframe thead th {\n",
       "        text-align: right;\n",
       "    }\n",
       "</style>\n",
       "<table border=\"1\" class=\"dataframe\">\n",
       "  <thead>\n",
       "    <tr style=\"text-align: right;\">\n",
       "      <th></th>\n",
       "      <th>Actual Annual Rent Price</th>\n",
       "      <th>Quantile 0.01</th>\n",
       "      <th>Quantile 0.99</th>\n",
       "      <th>Between 1% and 99%</th>\n",
       "      <th>Quantile 0.05</th>\n",
       "      <th>Quantile 0.95</th>\n",
       "      <th>Between 5% and 95%</th>\n",
       "    </tr>\n",
       "  </thead>\n",
       "  <tbody>\n",
       "    <tr>\n",
       "      <th>count</th>\n",
       "      <td>1.030000e+03</td>\n",
       "      <td>1.030000e+03</td>\n",
       "      <td>1.030000e+03</td>\n",
       "      <td>1030.000000</td>\n",
       "      <td>1.030000e+03</td>\n",
       "      <td>1.030000e+03</td>\n",
       "      <td>1030.000000</td>\n",
       "    </tr>\n",
       "    <tr>\n",
       "      <th>mean</th>\n",
       "      <td>9.937600e+07</td>\n",
       "      <td>4.666704e+07</td>\n",
       "      <td>1.644065e+08</td>\n",
       "      <td>0.933010</td>\n",
       "      <td>6.842795e+07</td>\n",
       "      <td>1.395170e+08</td>\n",
       "      <td>0.848544</td>\n",
       "    </tr>\n",
       "    <tr>\n",
       "      <th>std</th>\n",
       "      <td>8.832276e+07</td>\n",
       "      <td>1.659497e+07</td>\n",
       "      <td>1.225526e+08</td>\n",
       "      <td>0.250127</td>\n",
       "      <td>4.624754e+07</td>\n",
       "      <td>1.139262e+08</td>\n",
       "      <td>0.358667</td>\n",
       "    </tr>\n",
       "    <tr>\n",
       "      <th>min</th>\n",
       "      <td>1.200000e+07</td>\n",
       "      <td>1.378095e+07</td>\n",
       "      <td>3.318397e+07</td>\n",
       "      <td>0.000000</td>\n",
       "      <td>1.337708e+07</td>\n",
       "      <td>3.656072e+07</td>\n",
       "      <td>0.000000</td>\n",
       "    </tr>\n",
       "    <tr>\n",
       "      <th>25%</th>\n",
       "      <td>4.228750e+07</td>\n",
       "      <td>3.327743e+07</td>\n",
       "      <td>7.596994e+07</td>\n",
       "      <td>1.000000</td>\n",
       "      <td>3.563150e+07</td>\n",
       "      <td>6.058561e+07</td>\n",
       "      <td>1.000000</td>\n",
       "    </tr>\n",
       "    <tr>\n",
       "      <th>50%</th>\n",
       "      <td>6.500000e+07</td>\n",
       "      <td>4.321431e+07</td>\n",
       "      <td>1.025462e+08</td>\n",
       "      <td>1.000000</td>\n",
       "      <td>5.030888e+07</td>\n",
       "      <td>9.027112e+07</td>\n",
       "      <td>1.000000</td>\n",
       "    </tr>\n",
       "    <tr>\n",
       "      <th>75%</th>\n",
       "      <td>1.275000e+08</td>\n",
       "      <td>6.177286e+07</td>\n",
       "      <td>2.197438e+08</td>\n",
       "      <td>1.000000</td>\n",
       "      <td>8.836435e+07</td>\n",
       "      <td>1.878036e+08</td>\n",
       "      <td>1.000000</td>\n",
       "    </tr>\n",
       "    <tr>\n",
       "      <th>max</th>\n",
       "      <td>5.959000e+08</td>\n",
       "      <td>8.762887e+07</td>\n",
       "      <td>6.949314e+08</td>\n",
       "      <td>1.000000</td>\n",
       "      <td>2.470854e+08</td>\n",
       "      <td>6.547659e+08</td>\n",
       "      <td>1.000000</td>\n",
       "    </tr>\n",
       "  </tbody>\n",
       "</table>\n",
       "</div>"
      ],
      "text/plain": [
       "       Actual Annual Rent Price  Quantile 0.01  Quantile 0.99  \\\n",
       "count              1.030000e+03   1.030000e+03   1.030000e+03   \n",
       "mean               9.937600e+07   4.666704e+07   1.644065e+08   \n",
       "std                8.832276e+07   1.659497e+07   1.225526e+08   \n",
       "min                1.200000e+07   1.378095e+07   3.318397e+07   \n",
       "25%                4.228750e+07   3.327743e+07   7.596994e+07   \n",
       "50%                6.500000e+07   4.321431e+07   1.025462e+08   \n",
       "75%                1.275000e+08   6.177286e+07   2.197438e+08   \n",
       "max                5.959000e+08   8.762887e+07   6.949314e+08   \n",
       "\n",
       "       Between 1% and 99%  Quantile 0.05  Quantile 0.95  Between 5% and 95%  \n",
       "count         1030.000000   1.030000e+03   1.030000e+03         1030.000000  \n",
       "mean             0.933010   6.842795e+07   1.395170e+08            0.848544  \n",
       "std              0.250127   4.624754e+07   1.139262e+08            0.358667  \n",
       "min              0.000000   1.337708e+07   3.656072e+07            0.000000  \n",
       "25%              1.000000   3.563150e+07   6.058561e+07            1.000000  \n",
       "50%              1.000000   5.030888e+07   9.027112e+07            1.000000  \n",
       "75%              1.000000   8.836435e+07   1.878036e+08            1.000000  \n",
       "max              1.000000   2.470854e+08   6.547659e+08            1.000000  "
      ]
     },
     "execution_count": 93,
     "metadata": {},
     "output_type": "execute_result"
    }
   ],
   "source": [
    "quantile_pred.describe()"
   ]
  },
  {
   "cell_type": "markdown",
   "metadata": {},
   "source": [
    "We see how many apartments in our test set whose actual annual rent price is within the prediction interval given by our regression model. It turns out that 93% of the test set apartments' actual rent price is within the 99% confidence interval given by our regression model. However, only 85% of them is within the 95% confidence interval. This is not necessarily a bad thing, as it is often that the actual price is just one or two million above/below the prediction interval.\n",
    "\n",
    "A higher prediction interval (in this case, 99%) has a wider range, while a lower prediction interval (95%) has a shorter range. This is the tradeoff that we have to face in dealing with prediction and/or confidence intervals."
   ]
  },
  {
   "cell_type": "markdown",
   "metadata": {},
   "source": [
    "### Saving the Models\n",
    "\n",
    "At last, let's train the model to our whole data and pickle them."
   ]
  },
  {
   "cell_type": "code",
   "execution_count": 22,
   "metadata": {},
   "outputs": [
    {
     "data": {
      "text/plain": [
       "['lgb_095.joblib.dat']"
      ]
     },
     "execution_count": 22,
     "metadata": {},
     "output_type": "execute_result"
    }
   ],
   "source": [
    "lgb_final = LGBMRegressor()\n",
    "lgb_final.fit(X, y)\n",
    "\n",
    "lgb_001 = LGBMRegressor(objective = 'quantile', alpha = 0.01)\n",
    "lgb_099 = LGBMRegressor(objective = 'quantile', alpha = 0.99)\n",
    "\n",
    "lgb_001.fit(X,y)\n",
    "lgb_099.fit(X,y)\n",
    "\n",
    "lgb_005 = LGBMRegressor(objective = 'quantile', alpha = 0.05)\n",
    "lgb_095 = LGBMRegressor(objective = 'quantile', alpha = 0.95)\n",
    "\n",
    "lgb_005.fit(X,y)\n",
    "lgb_095.fit(X,y)\n",
    "\n",
    "\n",
    "import joblib \n",
    "\n",
    "joblib.dump(lgb_final, 'lgb_final.joblib.dat')\n",
    "joblib.dump(lgb_001, 'lgb_001.joblib.dat')\n",
    "joblib.dump(lgb_099, 'lgb_099.joblib.dat')\n",
    "\n",
    "joblib.dump(lgb_005, 'lgb_005.joblib.dat')\n",
    "joblib.dump(lgb_095, 'lgb_095.joblib.dat')"
   ]
  },
  {
   "cell_type": "markdown",
   "metadata": {},
   "source": [
    "### Feature Importance"
   ]
  },
  {
   "cell_type": "markdown",
   "metadata": {},
   "source": [
    "Last but not least, we want to see the rank of feature importance in our dataset. According to the LGBMRegressor documentation, we can call the regressor's attribute named ```feature_importances_``` to see how many times each feature has been used in the decision tree splitting process. The more times a feature is used to split trees, the more important it is."
   ]
  },
  {
   "cell_type": "code",
   "execution_count": 25,
   "metadata": {},
   "outputs": [],
   "source": [
    "feature_imp = pd.DataFrame(zip(X.columns, lgb_final.feature_importances_))\n",
    "feature_imp = feature_imp.rename({0:'Feature Name', 1:'Importance'}, axis = 'columns')\n",
    "feature_imp = feature_imp.sort_values(by=['Importance'], ascending = [False]).reset_index(drop = True)\n",
    "feature_imp.to_csv('Feature Importance.csv')"
   ]
  },
  {
   "cell_type": "code",
   "execution_count": 26,
   "metadata": {},
   "outputs": [
    {
     "data": {
      "text/html": [
       "<div>\n",
       "<style scoped>\n",
       "    .dataframe tbody tr th:only-of-type {\n",
       "        vertical-align: middle;\n",
       "    }\n",
       "\n",
       "    .dataframe tbody tr th {\n",
       "        vertical-align: top;\n",
       "    }\n",
       "\n",
       "    .dataframe thead th {\n",
       "        text-align: right;\n",
       "    }\n",
       "</style>\n",
       "<table border=\"1\" class=\"dataframe\">\n",
       "  <thead>\n",
       "    <tr style=\"text-align: right;\">\n",
       "      <th></th>\n",
       "      <th>Feature Name</th>\n",
       "      <th>Importance</th>\n",
       "    </tr>\n",
       "  </thead>\n",
       "  <tbody>\n",
       "    <tr>\n",
       "      <th>0</th>\n",
       "      <td>Area</td>\n",
       "      <td>869</td>\n",
       "    </tr>\n",
       "    <tr>\n",
       "      <th>1</th>\n",
       "      <td>Latitude</td>\n",
       "      <td>712</td>\n",
       "    </tr>\n",
       "    <tr>\n",
       "      <th>2</th>\n",
       "      <td>Longitude</td>\n",
       "      <td>680</td>\n",
       "    </tr>\n",
       "    <tr>\n",
       "      <th>3</th>\n",
       "      <td>Total_Facilities</td>\n",
       "      <td>184</td>\n",
       "    </tr>\n",
       "    <tr>\n",
       "      <th>4</th>\n",
       "      <td>No_Rooms</td>\n",
       "      <td>84</td>\n",
       "    </tr>\n",
       "    <tr>\n",
       "      <th>5</th>\n",
       "      <td>Washing_Machine</td>\n",
       "      <td>54</td>\n",
       "    </tr>\n",
       "    <tr>\n",
       "      <th>6</th>\n",
       "      <td>Bathroom</td>\n",
       "      <td>46</td>\n",
       "    </tr>\n",
       "    <tr>\n",
       "      <th>7</th>\n",
       "      <td>Tennis</td>\n",
       "      <td>40</td>\n",
       "    </tr>\n",
       "    <tr>\n",
       "      <th>8</th>\n",
       "      <td>Basketball</td>\n",
       "      <td>40</td>\n",
       "    </tr>\n",
       "    <tr>\n",
       "      <th>9</th>\n",
       "      <td>Furnished</td>\n",
       "      <td>39</td>\n",
       "    </tr>\n",
       "    <tr>\n",
       "      <th>10</th>\n",
       "      <td>Jogging</td>\n",
       "      <td>39</td>\n",
       "    </tr>\n",
       "    <tr>\n",
       "      <th>11</th>\n",
       "      <td>Fridge</td>\n",
       "      <td>29</td>\n",
       "    </tr>\n",
       "    <tr>\n",
       "      <th>12</th>\n",
       "      <td>Water_Heater</td>\n",
       "      <td>26</td>\n",
       "    </tr>\n",
       "    <tr>\n",
       "      <th>13</th>\n",
       "      <td>Kitchen</td>\n",
       "      <td>24</td>\n",
       "    </tr>\n",
       "    <tr>\n",
       "      <th>14</th>\n",
       "      <td>Multipurpose_Room</td>\n",
       "      <td>24</td>\n",
       "    </tr>\n",
       "    <tr>\n",
       "      <th>15</th>\n",
       "      <td>Playground</td>\n",
       "      <td>18</td>\n",
       "    </tr>\n",
       "    <tr>\n",
       "      <th>16</th>\n",
       "      <td>Restaurant</td>\n",
       "      <td>15</td>\n",
       "    </tr>\n",
       "    <tr>\n",
       "      <th>17</th>\n",
       "      <td>Bed</td>\n",
       "      <td>11</td>\n",
       "    </tr>\n",
       "    <tr>\n",
       "      <th>18</th>\n",
       "      <td>Grocery</td>\n",
       "      <td>9</td>\n",
       "    </tr>\n",
       "    <tr>\n",
       "      <th>19</th>\n",
       "      <td>AC</td>\n",
       "      <td>9</td>\n",
       "    </tr>\n",
       "    <tr>\n",
       "      <th>20</th>\n",
       "      <td>Jakcheck</td>\n",
       "      <td>7</td>\n",
       "    </tr>\n",
       "    <tr>\n",
       "      <th>21</th>\n",
       "      <td>Laundry</td>\n",
       "      <td>7</td>\n",
       "    </tr>\n",
       "    <tr>\n",
       "      <th>22</th>\n",
       "      <td>Internet</td>\n",
       "      <td>7</td>\n",
       "    </tr>\n",
       "    <tr>\n",
       "      <th>23</th>\n",
       "      <td>TV_Cable</td>\n",
       "      <td>6</td>\n",
       "    </tr>\n",
       "    <tr>\n",
       "      <th>24</th>\n",
       "      <td>ATM</td>\n",
       "      <td>5</td>\n",
       "    </tr>\n",
       "    <tr>\n",
       "      <th>25</th>\n",
       "      <td>Dining_Set</td>\n",
       "      <td>5</td>\n",
       "    </tr>\n",
       "    <tr>\n",
       "      <th>26</th>\n",
       "      <td>Security</td>\n",
       "      <td>3</td>\n",
       "    </tr>\n",
       "    <tr>\n",
       "      <th>27</th>\n",
       "      <td>Gym</td>\n",
       "      <td>3</td>\n",
       "    </tr>\n",
       "    <tr>\n",
       "      <th>28</th>\n",
       "      <td>Swim_Pool</td>\n",
       "      <td>3</td>\n",
       "    </tr>\n",
       "    <tr>\n",
       "      <th>29</th>\n",
       "      <td>TV</td>\n",
       "      <td>2</td>\n",
       "    </tr>\n",
       "  </tbody>\n",
       "</table>\n",
       "</div>"
      ],
      "text/plain": [
       "         Feature Name  Importance\n",
       "0                Area         869\n",
       "1            Latitude         712\n",
       "2           Longitude         680\n",
       "3    Total_Facilities         184\n",
       "4            No_Rooms          84\n",
       "5     Washing_Machine          54\n",
       "6            Bathroom          46\n",
       "7              Tennis          40\n",
       "8          Basketball          40\n",
       "9           Furnished          39\n",
       "10            Jogging          39\n",
       "11             Fridge          29\n",
       "12       Water_Heater          26\n",
       "13            Kitchen          24\n",
       "14  Multipurpose_Room          24\n",
       "15         Playground          18\n",
       "16         Restaurant          15\n",
       "17                Bed          11\n",
       "18            Grocery           9\n",
       "19                 AC           9\n",
       "20           Jakcheck           7\n",
       "21            Laundry           7\n",
       "22           Internet           7\n",
       "23           TV_Cable           6\n",
       "24                ATM           5\n",
       "25         Dining_Set           5\n",
       "26           Security           3\n",
       "27                Gym           3\n",
       "28          Swim_Pool           3\n",
       "29                 TV           2"
      ]
     },
     "execution_count": 26,
     "metadata": {},
     "output_type": "execute_result"
    }
   ],
   "source": [
    "feature_imp"
   ]
  },
  {
   "cell_type": "markdown",
   "metadata": {},
   "source": [
    "Another disclaimer inbound. Usually, it is a good idea to discard features which are less important. It could help avoid overfitting, it makes training faster, and it reduces somehwat 'unncessary' complexities. \n",
    "\n",
    "Why we don't do that here?\n",
    "1. We see that Total_Facilities is one of the most important features. Total_Facilities count how many facilities are present in each apartment, and if we discard a few of the least important features, it will definitely affect Total_Facilities. \n",
    "2. I want all features which are listed to be inputs of our users in the deployed web app. Even if we know that TV and Swimming Pool are actually the least important features in our dataset, our users wouldn't know that, and would question us why does our input page does not show two of the more common apartment features: swimming pool and TV."
   ]
  },
  {
   "cell_type": "markdown",
   "metadata": {},
   "source": [
    "### Concluding Remarks"
   ]
  },
  {
   "cell_type": "markdown",
   "metadata": {},
   "source": [
    "- The regression model that we choose to model our data is Light GBM Regressor. We have verified in a series of tests that this model shows high accuracy and has less overfitting issues compared to other models. \n",
    "- The top 5 most important features are: Area, Latitude, Longitude, Total_Facilities, and No_Rooms. This is confirming what Jakartans think about apartment prices: the more rooms they have, and the larger the area is, the more expensive the price is. Also, we see that the location of apartments, as well as how much features it has, are also important features to predict the annual rent price.\n",
    "- Surprisingly, not all sports facilities share the same importance. Gym and Swimming Pool are less important than Tennis, Basketball, and Jogging tracks. \n",
    "- We used to think that apartments with swimming pools are 'elite' and thus more expensive. However, this doesn't seem to be the case. In fact, most apartments in Jakarta have swimming pools. Swimming pools are no longer exclusive facilities for elite apartments. That's why the presence of swimming pools hardly matter in predicting annual rent price.\n",
    "- An interesting metric to add, if available, is to measure how wide or how luxurious each sport facilities are. Swimming pools in expensive apartments are often luxurious, and some are placed in higher floors, while swimming pools in less expensive apartments are fairly standard. Gyms in expensive apartments are often coming from well known brands - while gyms in less expensive apartments are nameless gyms with barebone equipments."
   ]
  }
 ],
 "metadata": {
  "kernelspec": {
   "display_name": "Python 3",
   "language": "python",
   "name": "python3"
  },
  "language_info": {
   "codemirror_mode": {
    "name": "ipython",
    "version": 3
   },
   "file_extension": ".py",
   "mimetype": "text/x-python",
   "name": "python",
   "nbconvert_exporter": "python",
   "pygments_lexer": "ipython3",
   "version": "3.8.4"
  }
 },
 "nbformat": 4,
 "nbformat_minor": 4
}
