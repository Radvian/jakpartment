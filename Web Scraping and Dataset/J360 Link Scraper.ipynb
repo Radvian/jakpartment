{
 "cells": [
  {
   "cell_type": "code",
   "execution_count": 1,
   "metadata": {},
   "outputs": [],
   "source": [
    "import requests\n",
    "from bs4 import BeautifulSoup as bs\n",
    "from selenium import webdriver\n",
    "import pandas as pd"
   ]
  },
  {
   "cell_type": "markdown",
   "metadata": {},
   "source": [
    "### Individual Link Scraping"
   ]
  },
  {
   "cell_type": "code",
   "execution_count": 2,
   "metadata": {},
   "outputs": [],
   "source": [
    "#URL = 'https://jendela360.com/search?tp=1&c=0&dr=yearly&sort=latest&bth=all&br=all&page=?' [1 - 693]\n",
    "#XPath = '/html/body/div/div[2]/div[4]/div[3]/div[2]/div/div[1]/div[?]/div/div[1]/div[1]' [1 - 12]\n",
    "\n",
    "URL = 'https://jendela360.com/search?tp=1&c=0&dr=yearly&sort=latest&bth=all&br=all&page=5'\n",
    "XPath = '/html/body/div/div[2]/div[4]/div[3]/div[2]/div/div[1]/div[12]/div/div[1]/div[1]'"
   ]
  },
  {
   "cell_type": "code",
   "execution_count": 3,
   "metadata": {},
   "outputs": [],
   "source": [
    "driver = webdriver.Chrome(\"C:\\\\Users\\\\grady\\\\Documents\\\\Data Science Projects\\\\chromedriver.exe\")\n",
    "driver.implicitly_wait(5)\n",
    "driver.get(URL)\n",
    "div = driver.find_elements_by_xpath(XPath)"
   ]
  },
  {
   "cell_type": "code",
   "execution_count": 4,
   "metadata": {},
   "outputs": [],
   "source": [
    "for _ in div:\n",
    "    soup = bs(_.get_attribute('innerHTML'))\n",
    "    a = soup.find('a', href=True)\n",
    "    print(a['href'])\n",
    "driver.close()"
   ]
  },
  {
   "cell_type": "code",
   "execution_count": null,
   "metadata": {},
   "outputs": [],
   "source": []
  },
  {
   "cell_type": "markdown",
   "metadata": {},
   "source": [
    "### Looping"
   ]
  },
  {
   "cell_type": "code",
   "execution_count": 5,
   "metadata": {},
   "outputs": [
    {
     "name": "stdout",
     "output_type": "stream",
     "text": [
      "Page 1 started.\n",
      "Page 1 finished.\n",
      "Page 2 started.\n",
      "Page 2 finished.\n",
      "Page 3 started.\n",
      "Page 3 finished.\n"
     ]
    },
    {
     "data": {
      "text/plain": [
       "0"
      ]
     },
     "execution_count": 5,
     "metadata": {},
     "output_type": "execute_result"
    }
   ],
   "source": [
    "start_page = 1\n",
    "end_page = 3\n",
    "links_per_page = 12\n",
    "all_links = set()\n",
    "\n",
    "for i in range(start_page,end_page+1):\n",
    "    print('Page', i, 'started.')\n",
    "    page_index = str(i)\n",
    "    URL = 'https://jendela360.com/search?tp=1&c=0&dr=yearly&sort=latest&bth=all&br=all&page='+page_index\n",
    "    XPaths = []\n",
    "    for u in range(0,links_per_page):\n",
    "        index = str(u+1)\n",
    "        XPath = '/html/body/div/div[2]/div[4]/div[3]/div[2]/div/div[1]/div['+index+']/div/div[1]/div[1]'\n",
    "        XPaths.append(XPath)\n",
    "\n",
    "    driver = webdriver.Chrome(\"C:\\\\Users\\\\grady\\\\Documents\\\\Data Science Projects\\\\chromedriver.exe\")\n",
    "    driver.implicitly_wait(5)\n",
    "    driver.get(URL)\n",
    "    scraped_div = []\n",
    "    \n",
    "    for j in range(0,links_per_page):\n",
    "        div = driver.find_elements_by_xpath(XPaths[j])\n",
    "        scraped_div.append(div)\n",
    "    \n",
    "    links = []\n",
    "    for element_list in scraped_div:\n",
    "        for element in element_list:\n",
    "            soup = bs(element.get_attribute('innerHTML'))\n",
    "            a = soup.find('a', href=True)\n",
    "            links.append(a['href'])\n",
    "            \n",
    "    unique_links = set(links)\n",
    "    all_links.update(unique_links)\n",
    "    driver.close()\n",
    "    print('Page', i, 'finished.')\n",
    "    \n",
    "all_links\n",
    "len(all_links)"
   ]
  },
  {
   "cell_type": "code",
   "execution_count": 6,
   "metadata": {},
   "outputs": [],
   "source": [
    "import pandas as pd\n",
    "df = pd.DataFrame(all_links)\n",
    "df.to_csv('apartment_links_2.csv', index=False)"
   ]
  },
  {
   "cell_type": "code",
   "execution_count": null,
   "metadata": {},
   "outputs": [],
   "source": []
  },
  {
   "cell_type": "code",
   "execution_count": null,
   "metadata": {
    "scrolled": true
   },
   "outputs": [],
   "source": []
  },
  {
   "cell_type": "code",
   "execution_count": null,
   "metadata": {},
   "outputs": [],
   "source": []
  },
  {
   "cell_type": "code",
   "execution_count": null,
   "metadata": {},
   "outputs": [],
   "source": []
  },
  {
   "cell_type": "code",
   "execution_count": null,
   "metadata": {},
   "outputs": [],
   "source": []
  },
  {
   "cell_type": "code",
   "execution_count": null,
   "metadata": {},
   "outputs": [],
   "source": []
  },
  {
   "cell_type": "code",
   "execution_count": null,
   "metadata": {},
   "outputs": [],
   "source": []
  }
 ],
 "metadata": {
  "kernelspec": {
   "display_name": "Python 3",
   "language": "python",
   "name": "python3"
  },
  "language_info": {
   "codemirror_mode": {
    "name": "ipython",
    "version": 3
   },
   "file_extension": ".py",
   "mimetype": "text/x-python",
   "name": "python",
   "nbconvert_exporter": "python",
   "pygments_lexer": "ipython3",
   "version": "3.8.4"
  }
 },
 "nbformat": 4,
 "nbformat_minor": 4
}
